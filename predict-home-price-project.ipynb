{
 "cells": [
  {
   "cell_type": "code",
   "execution_count": 1,
   "id": "82565fc9",
   "metadata": {
    "_cell_guid": "b1076dfc-b9ad-4769-8c92-a6c4dae69d19",
    "_uuid": "8f2839f25d086af736a60e9eeb907d3b93b6e0e5",
    "execution": {
     "iopub.execute_input": "2022-05-09T19:05:52.489444Z",
     "iopub.status.busy": "2022-05-09T19:05:52.489022Z",
     "iopub.status.idle": "2022-05-09T19:05:52.501042Z",
     "shell.execute_reply": "2022-05-09T19:05:52.500495Z"
    },
    "papermill": {
     "duration": 0.053667,
     "end_time": "2022-05-09T19:05:52.503079",
     "exception": false,
     "start_time": "2022-05-09T19:05:52.449412",
     "status": "completed"
    },
    "tags": []
   },
   "outputs": [],
   "source": [
    "import pandas as pd\n",
    "import numpy as np\n",
    "from matplotlib import pyplot as plt"
   ]
  },
  {
   "cell_type": "markdown",
   "id": "3e734b41",
   "metadata": {
    "papermill": {
     "duration": 0.034959,
     "end_time": "2022-05-09T19:05:52.574219",
     "exception": false,
     "start_time": "2022-05-09T19:05:52.539260",
     "status": "completed"
    },
    "tags": []
   },
   "source": [
    "# Load Data"
   ]
  },
  {
   "cell_type": "code",
   "execution_count": 2,
   "id": "9ebbcdf0",
   "metadata": {
    "execution": {
     "iopub.execute_input": "2022-05-09T19:05:52.648489Z",
     "iopub.status.busy": "2022-05-09T19:05:52.647965Z",
     "iopub.status.idle": "2022-05-09T19:05:52.716131Z",
     "shell.execute_reply": "2022-05-09T19:05:52.715530Z"
    },
    "papermill": {
     "duration": 0.10719,
     "end_time": "2022-05-09T19:05:52.718087",
     "exception": false,
     "start_time": "2022-05-09T19:05:52.610897",
     "status": "completed"
    },
    "tags": []
   },
   "outputs": [
    {
     "data": {
      "text/html": [
       "<div>\n",
       "<style scoped>\n",
       "    .dataframe tbody tr th:only-of-type {\n",
       "        vertical-align: middle;\n",
       "    }\n",
       "\n",
       "    .dataframe tbody tr th {\n",
       "        vertical-align: top;\n",
       "    }\n",
       "\n",
       "    .dataframe thead th {\n",
       "        text-align: right;\n",
       "    }\n",
       "</style>\n",
       "<table border=\"1\" class=\"dataframe\">\n",
       "  <thead>\n",
       "    <tr style=\"text-align: right;\">\n",
       "      <th></th>\n",
       "      <th>area_type</th>\n",
       "      <th>availability</th>\n",
       "      <th>location</th>\n",
       "      <th>size</th>\n",
       "      <th>society</th>\n",
       "      <th>total_sqft</th>\n",
       "      <th>bath</th>\n",
       "      <th>balcony</th>\n",
       "      <th>price</th>\n",
       "    </tr>\n",
       "  </thead>\n",
       "  <tbody>\n",
       "    <tr>\n",
       "      <th>0</th>\n",
       "      <td>Super built-up  Area</td>\n",
       "      <td>19-Dec</td>\n",
       "      <td>Electronic City Phase II</td>\n",
       "      <td>2 BHK</td>\n",
       "      <td>Coomee</td>\n",
       "      <td>1056</td>\n",
       "      <td>2.0</td>\n",
       "      <td>1.0</td>\n",
       "      <td>39.07</td>\n",
       "    </tr>\n",
       "    <tr>\n",
       "      <th>1</th>\n",
       "      <td>Plot  Area</td>\n",
       "      <td>Ready To Move</td>\n",
       "      <td>Chikka Tirupathi</td>\n",
       "      <td>4 Bedroom</td>\n",
       "      <td>Theanmp</td>\n",
       "      <td>2600</td>\n",
       "      <td>5.0</td>\n",
       "      <td>3.0</td>\n",
       "      <td>120.00</td>\n",
       "    </tr>\n",
       "    <tr>\n",
       "      <th>2</th>\n",
       "      <td>Built-up  Area</td>\n",
       "      <td>Ready To Move</td>\n",
       "      <td>Uttarahalli</td>\n",
       "      <td>3 BHK</td>\n",
       "      <td>NaN</td>\n",
       "      <td>1440</td>\n",
       "      <td>2.0</td>\n",
       "      <td>3.0</td>\n",
       "      <td>62.00</td>\n",
       "    </tr>\n",
       "  </tbody>\n",
       "</table>\n",
       "</div>"
      ],
      "text/plain": [
       "              area_type   availability                  location       size  \\\n",
       "0  Super built-up  Area         19-Dec  Electronic City Phase II      2 BHK   \n",
       "1            Plot  Area  Ready To Move          Chikka Tirupathi  4 Bedroom   \n",
       "2        Built-up  Area  Ready To Move               Uttarahalli      3 BHK   \n",
       "\n",
       "   society total_sqft  bath  balcony   price  \n",
       "0  Coomee        1056   2.0      1.0   39.07  \n",
       "1  Theanmp       2600   5.0      3.0  120.00  \n",
       "2      NaN       1440   2.0      3.0   62.00  "
      ]
     },
     "execution_count": 2,
     "metadata": {},
     "output_type": "execute_result"
    }
   ],
   "source": [
    "df1 = pd.read_csv('../input/banglore-house-price-data/bengaluru_house_prices.csv')\n",
    "df1.head(3)"
   ]
  },
  {
   "cell_type": "code",
   "execution_count": 3,
   "id": "5f6d8ffa",
   "metadata": {
    "execution": {
     "iopub.execute_input": "2022-05-09T19:05:52.793242Z",
     "iopub.status.busy": "2022-05-09T19:05:52.792747Z",
     "iopub.status.idle": "2022-05-09T19:05:52.827599Z",
     "shell.execute_reply": "2022-05-09T19:05:52.827013Z"
    },
    "papermill": {
     "duration": 0.075127,
     "end_time": "2022-05-09T19:05:52.829958",
     "exception": false,
     "start_time": "2022-05-09T19:05:52.754831",
     "status": "completed"
    },
    "tags": []
   },
   "outputs": [
    {
     "name": "stdout",
     "output_type": "stream",
     "text": [
      "<class 'pandas.core.frame.DataFrame'>\n",
      "RangeIndex: 13320 entries, 0 to 13319\n",
      "Data columns (total 9 columns):\n",
      " #   Column        Non-Null Count  Dtype  \n",
      "---  ------        --------------  -----  \n",
      " 0   area_type     13320 non-null  object \n",
      " 1   availability  13320 non-null  object \n",
      " 2   location      13319 non-null  object \n",
      " 3   size          13304 non-null  object \n",
      " 4   society       7818 non-null   object \n",
      " 5   total_sqft    13320 non-null  object \n",
      " 6   bath          13247 non-null  float64\n",
      " 7   balcony       12711 non-null  float64\n",
      " 8   price         13320 non-null  float64\n",
      "dtypes: float64(3), object(6)\n",
      "memory usage: 936.7+ KB\n"
     ]
    }
   ],
   "source": [
    "df1.info()"
   ]
  },
  {
   "cell_type": "code",
   "execution_count": 4,
   "id": "0c967462",
   "metadata": {
    "execution": {
     "iopub.execute_input": "2022-05-09T19:05:52.909868Z",
     "iopub.status.busy": "2022-05-09T19:05:52.909571Z",
     "iopub.status.idle": "2022-05-09T19:05:52.925382Z",
     "shell.execute_reply": "2022-05-09T19:05:52.924584Z"
    },
    "papermill": {
     "duration": 0.057393,
     "end_time": "2022-05-09T19:05:52.927730",
     "exception": false,
     "start_time": "2022-05-09T19:05:52.870337",
     "status": "completed"
    },
    "tags": []
   },
   "outputs": [
    {
     "data": {
      "text/html": [
       "<div>\n",
       "<style scoped>\n",
       "    .dataframe tbody tr th:only-of-type {\n",
       "        vertical-align: middle;\n",
       "    }\n",
       "\n",
       "    .dataframe tbody tr th {\n",
       "        vertical-align: top;\n",
       "    }\n",
       "\n",
       "    .dataframe thead th {\n",
       "        text-align: right;\n",
       "    }\n",
       "</style>\n",
       "<table border=\"1\" class=\"dataframe\">\n",
       "  <thead>\n",
       "    <tr style=\"text-align: right;\">\n",
       "      <th></th>\n",
       "      <th>location</th>\n",
       "      <th>size</th>\n",
       "      <th>total_sqft</th>\n",
       "      <th>bath</th>\n",
       "      <th>price</th>\n",
       "    </tr>\n",
       "  </thead>\n",
       "  <tbody>\n",
       "    <tr>\n",
       "      <th>0</th>\n",
       "      <td>Electronic City Phase II</td>\n",
       "      <td>2 BHK</td>\n",
       "      <td>1056</td>\n",
       "      <td>2.0</td>\n",
       "      <td>39.07</td>\n",
       "    </tr>\n",
       "    <tr>\n",
       "      <th>1</th>\n",
       "      <td>Chikka Tirupathi</td>\n",
       "      <td>4 Bedroom</td>\n",
       "      <td>2600</td>\n",
       "      <td>5.0</td>\n",
       "      <td>120.00</td>\n",
       "    </tr>\n",
       "    <tr>\n",
       "      <th>2</th>\n",
       "      <td>Uttarahalli</td>\n",
       "      <td>3 BHK</td>\n",
       "      <td>1440</td>\n",
       "      <td>2.0</td>\n",
       "      <td>62.00</td>\n",
       "    </tr>\n",
       "    <tr>\n",
       "      <th>3</th>\n",
       "      <td>Lingadheeranahalli</td>\n",
       "      <td>3 BHK</td>\n",
       "      <td>1521</td>\n",
       "      <td>3.0</td>\n",
       "      <td>95.00</td>\n",
       "    </tr>\n",
       "    <tr>\n",
       "      <th>4</th>\n",
       "      <td>Kothanur</td>\n",
       "      <td>2 BHK</td>\n",
       "      <td>1200</td>\n",
       "      <td>2.0</td>\n",
       "      <td>51.00</td>\n",
       "    </tr>\n",
       "  </tbody>\n",
       "</table>\n",
       "</div>"
      ],
      "text/plain": [
       "                   location       size total_sqft  bath   price\n",
       "0  Electronic City Phase II      2 BHK       1056   2.0   39.07\n",
       "1          Chikka Tirupathi  4 Bedroom       2600   5.0  120.00\n",
       "2               Uttarahalli      3 BHK       1440   2.0   62.00\n",
       "3        Lingadheeranahalli      3 BHK       1521   3.0   95.00\n",
       "4                  Kothanur      2 BHK       1200   2.0   51.00"
      ]
     },
     "execution_count": 4,
     "metadata": {},
     "output_type": "execute_result"
    }
   ],
   "source": [
    "df2 = df1.drop(['area_type','society','balcony','availability'], axis='columns')\n",
    "df2.head()"
   ]
  },
  {
   "cell_type": "markdown",
   "id": "51688993",
   "metadata": {
    "papermill": {
     "duration": 0.037267,
     "end_time": "2022-05-09T19:05:53.002635",
     "exception": false,
     "start_time": "2022-05-09T19:05:52.965368",
     "status": "completed"
    },
    "tags": []
   },
   "source": [
    "# Data cleaning : Handling NA values"
   ]
  },
  {
   "cell_type": "code",
   "execution_count": 5,
   "id": "3e209e6b",
   "metadata": {
    "execution": {
     "iopub.execute_input": "2022-05-09T19:05:53.079681Z",
     "iopub.status.busy": "2022-05-09T19:05:53.079146Z",
     "iopub.status.idle": "2022-05-09T19:05:53.092550Z",
     "shell.execute_reply": "2022-05-09T19:05:53.091638Z"
    },
    "papermill": {
     "duration": 0.054015,
     "end_time": "2022-05-09T19:05:53.094414",
     "exception": false,
     "start_time": "2022-05-09T19:05:53.040399",
     "status": "completed"
    },
    "tags": []
   },
   "outputs": [
    {
     "data": {
      "text/plain": [
       "location       1\n",
       "size          16\n",
       "total_sqft     0\n",
       "bath          73\n",
       "price          0\n",
       "dtype: int64"
      ]
     },
     "execution_count": 5,
     "metadata": {},
     "output_type": "execute_result"
    }
   ],
   "source": [
    "df2.isnull().sum()"
   ]
  },
  {
   "cell_type": "code",
   "execution_count": 6,
   "id": "5938229e",
   "metadata": {
    "execution": {
     "iopub.execute_input": "2022-05-09T19:05:53.172912Z",
     "iopub.status.busy": "2022-05-09T19:05:53.172510Z",
     "iopub.status.idle": "2022-05-09T19:05:53.191833Z",
     "shell.execute_reply": "2022-05-09T19:05:53.191018Z"
    },
    "papermill": {
     "duration": 0.060241,
     "end_time": "2022-05-09T19:05:53.193767",
     "exception": false,
     "start_time": "2022-05-09T19:05:53.133526",
     "status": "completed"
    },
    "tags": []
   },
   "outputs": [
    {
     "data": {
      "text/plain": [
       "location      0\n",
       "size          0\n",
       "total_sqft    0\n",
       "bath          0\n",
       "price         0\n",
       "dtype: int64"
      ]
     },
     "execution_count": 6,
     "metadata": {},
     "output_type": "execute_result"
    }
   ],
   "source": [
    "df3 = df2.dropna()\n",
    "df3.isnull().sum()"
   ]
  },
  {
   "cell_type": "code",
   "execution_count": 7,
   "id": "c6fd2c99",
   "metadata": {
    "execution": {
     "iopub.execute_input": "2022-05-09T19:05:53.271261Z",
     "iopub.status.busy": "2022-05-09T19:05:53.270856Z",
     "iopub.status.idle": "2022-05-09T19:05:53.276371Z",
     "shell.execute_reply": "2022-05-09T19:05:53.275535Z"
    },
    "papermill": {
     "duration": 0.046616,
     "end_time": "2022-05-09T19:05:53.278187",
     "exception": false,
     "start_time": "2022-05-09T19:05:53.231571",
     "status": "completed"
    },
    "tags": []
   },
   "outputs": [
    {
     "data": {
      "text/plain": [
       "(13246, 5)"
      ]
     },
     "execution_count": 7,
     "metadata": {},
     "output_type": "execute_result"
    }
   ],
   "source": [
    "df3.shape"
   ]
  },
  {
   "cell_type": "markdown",
   "id": "d00c8ba5",
   "metadata": {
    "papermill": {
     "duration": 0.037785,
     "end_time": "2022-05-09T19:05:53.355101",
     "exception": false,
     "start_time": "2022-05-09T19:05:53.317316",
     "status": "completed"
    },
    "tags": []
   },
   "source": [
    "# Feature Engineering"
   ]
  },
  {
   "cell_type": "markdown",
   "id": "07792a0c",
   "metadata": {
    "papermill": {
     "duration": 0.037699,
     "end_time": "2022-05-09T19:05:53.430753",
     "exception": false,
     "start_time": "2022-05-09T19:05:53.393054",
     "status": "completed"
    },
    "tags": []
   },
   "source": [
    "**Explore size column**"
   ]
  },
  {
   "cell_type": "code",
   "execution_count": 8,
   "id": "857f75a2",
   "metadata": {
    "execution": {
     "iopub.execute_input": "2022-05-09T19:05:53.508363Z",
     "iopub.status.busy": "2022-05-09T19:05:53.507953Z",
     "iopub.status.idle": "2022-05-09T19:05:53.515319Z",
     "shell.execute_reply": "2022-05-09T19:05:53.514474Z"
    },
    "papermill": {
     "duration": 0.048233,
     "end_time": "2022-05-09T19:05:53.517106",
     "exception": false,
     "start_time": "2022-05-09T19:05:53.468873",
     "status": "completed"
    },
    "tags": []
   },
   "outputs": [
    {
     "data": {
      "text/plain": [
       "array(['2 BHK', '4 Bedroom', '3 BHK', '4 BHK', '6 Bedroom', '3 Bedroom',\n",
       "       '1 BHK', '1 RK', '1 Bedroom', '8 Bedroom', '2 Bedroom',\n",
       "       '7 Bedroom', '5 BHK', '7 BHK', '6 BHK', '5 Bedroom', '11 BHK',\n",
       "       '9 BHK', '9 Bedroom', '27 BHK', '10 Bedroom', '11 Bedroom',\n",
       "       '10 BHK', '19 BHK', '16 BHK', '43 Bedroom', '14 BHK', '8 BHK',\n",
       "       '12 Bedroom', '13 BHK', '18 Bedroom'], dtype=object)"
      ]
     },
     "execution_count": 8,
     "metadata": {},
     "output_type": "execute_result"
    }
   ],
   "source": [
    "df3['size'].unique()"
   ]
  },
  {
   "cell_type": "markdown",
   "id": "2bc29c71",
   "metadata": {
    "papermill": {
     "duration": 0.037868,
     "end_time": "2022-05-09T19:05:53.593012",
     "exception": false,
     "start_time": "2022-05-09T19:05:53.555144",
     "status": "completed"
    },
    "tags": []
   },
   "source": [
    "**Here above we can see that 4 Bedroom and 4 BHK are same and so on**"
   ]
  },
  {
   "cell_type": "code",
   "execution_count": 9,
   "id": "366f2204",
   "metadata": {
    "execution": {
     "iopub.execute_input": "2022-05-09T19:05:53.672084Z",
     "iopub.status.busy": "2022-05-09T19:05:53.671673Z",
     "iopub.status.idle": "2022-05-09T19:05:53.692008Z",
     "shell.execute_reply": "2022-05-09T19:05:53.690958Z"
    },
    "papermill": {
     "duration": 0.06272,
     "end_time": "2022-05-09T19:05:53.694294",
     "exception": false,
     "start_time": "2022-05-09T19:05:53.631574",
     "status": "completed"
    },
    "tags": []
   },
   "outputs": [
    {
     "name": "stderr",
     "output_type": "stream",
     "text": [
      "/opt/conda/lib/python3.7/site-packages/ipykernel_launcher.py:1: SettingWithCopyWarning: \n",
      "A value is trying to be set on a copy of a slice from a DataFrame.\n",
      "Try using .loc[row_indexer,col_indexer] = value instead\n",
      "\n",
      "See the caveats in the documentation: https://pandas.pydata.org/pandas-docs/stable/user_guide/indexing.html#returning-a-view-versus-a-copy\n",
      "  \"\"\"Entry point for launching an IPython kernel.\n"
     ]
    }
   ],
   "source": [
    "df3['bhk'] = df3['size'].apply(lambda x : int(x.split(' ')[0]))"
   ]
  },
  {
   "cell_type": "code",
   "execution_count": 10,
   "id": "f84101a6",
   "metadata": {
    "execution": {
     "iopub.execute_input": "2022-05-09T19:05:53.773918Z",
     "iopub.status.busy": "2022-05-09T19:05:53.773652Z",
     "iopub.status.idle": "2022-05-09T19:05:53.786490Z",
     "shell.execute_reply": "2022-05-09T19:05:53.785649Z"
    },
    "papermill": {
     "duration": 0.054697,
     "end_time": "2022-05-09T19:05:53.788360",
     "exception": false,
     "start_time": "2022-05-09T19:05:53.733663",
     "status": "completed"
    },
    "tags": []
   },
   "outputs": [
    {
     "data": {
      "text/html": [
       "<div>\n",
       "<style scoped>\n",
       "    .dataframe tbody tr th:only-of-type {\n",
       "        vertical-align: middle;\n",
       "    }\n",
       "\n",
       "    .dataframe tbody tr th {\n",
       "        vertical-align: top;\n",
       "    }\n",
       "\n",
       "    .dataframe thead th {\n",
       "        text-align: right;\n",
       "    }\n",
       "</style>\n",
       "<table border=\"1\" class=\"dataframe\">\n",
       "  <thead>\n",
       "    <tr style=\"text-align: right;\">\n",
       "      <th></th>\n",
       "      <th>location</th>\n",
       "      <th>size</th>\n",
       "      <th>total_sqft</th>\n",
       "      <th>bath</th>\n",
       "      <th>price</th>\n",
       "      <th>bhk</th>\n",
       "    </tr>\n",
       "  </thead>\n",
       "  <tbody>\n",
       "    <tr>\n",
       "      <th>0</th>\n",
       "      <td>Electronic City Phase II</td>\n",
       "      <td>2 BHK</td>\n",
       "      <td>1056</td>\n",
       "      <td>2.0</td>\n",
       "      <td>39.07</td>\n",
       "      <td>2</td>\n",
       "    </tr>\n",
       "    <tr>\n",
       "      <th>1</th>\n",
       "      <td>Chikka Tirupathi</td>\n",
       "      <td>4 Bedroom</td>\n",
       "      <td>2600</td>\n",
       "      <td>5.0</td>\n",
       "      <td>120.00</td>\n",
       "      <td>4</td>\n",
       "    </tr>\n",
       "    <tr>\n",
       "      <th>2</th>\n",
       "      <td>Uttarahalli</td>\n",
       "      <td>3 BHK</td>\n",
       "      <td>1440</td>\n",
       "      <td>2.0</td>\n",
       "      <td>62.00</td>\n",
       "      <td>3</td>\n",
       "    </tr>\n",
       "    <tr>\n",
       "      <th>3</th>\n",
       "      <td>Lingadheeranahalli</td>\n",
       "      <td>3 BHK</td>\n",
       "      <td>1521</td>\n",
       "      <td>3.0</td>\n",
       "      <td>95.00</td>\n",
       "      <td>3</td>\n",
       "    </tr>\n",
       "    <tr>\n",
       "      <th>4</th>\n",
       "      <td>Kothanur</td>\n",
       "      <td>2 BHK</td>\n",
       "      <td>1200</td>\n",
       "      <td>2.0</td>\n",
       "      <td>51.00</td>\n",
       "      <td>2</td>\n",
       "    </tr>\n",
       "  </tbody>\n",
       "</table>\n",
       "</div>"
      ],
      "text/plain": [
       "                   location       size total_sqft  bath   price  bhk\n",
       "0  Electronic City Phase II      2 BHK       1056   2.0   39.07    2\n",
       "1          Chikka Tirupathi  4 Bedroom       2600   5.0  120.00    4\n",
       "2               Uttarahalli      3 BHK       1440   2.0   62.00    3\n",
       "3        Lingadheeranahalli      3 BHK       1521   3.0   95.00    3\n",
       "4                  Kothanur      2 BHK       1200   2.0   51.00    2"
      ]
     },
     "execution_count": 10,
     "metadata": {},
     "output_type": "execute_result"
    }
   ],
   "source": [
    "df3.head()"
   ]
  },
  {
   "cell_type": "markdown",
   "id": "f23d87a1",
   "metadata": {
    "papermill": {
     "duration": 0.03892,
     "end_time": "2022-05-09T19:05:53.867187",
     "exception": false,
     "start_time": "2022-05-09T19:05:53.828267",
     "status": "completed"
    },
    "tags": []
   },
   "source": [
    "**Explore total_sqft column**"
   ]
  },
  {
   "cell_type": "code",
   "execution_count": 11,
   "id": "467b7184",
   "metadata": {
    "execution": {
     "iopub.execute_input": "2022-05-09T19:05:53.947952Z",
     "iopub.status.busy": "2022-05-09T19:05:53.947538Z",
     "iopub.status.idle": "2022-05-09T19:05:53.954693Z",
     "shell.execute_reply": "2022-05-09T19:05:53.953832Z"
    },
    "papermill": {
     "duration": 0.050007,
     "end_time": "2022-05-09T19:05:53.956429",
     "exception": false,
     "start_time": "2022-05-09T19:05:53.906422",
     "status": "completed"
    },
    "tags": []
   },
   "outputs": [
    {
     "data": {
      "text/plain": [
       "array(['1056', '2600', '1440', ..., '1133 - 1384', '774', '4689'],\n",
       "      dtype=object)"
      ]
     },
     "execution_count": 11,
     "metadata": {},
     "output_type": "execute_result"
    }
   ],
   "source": [
    "df3['total_sqft'].unique()"
   ]
  },
  {
   "cell_type": "markdown",
   "id": "59097b75",
   "metadata": {
    "papermill": {
     "duration": 0.04016,
     "end_time": "2022-05-09T19:05:54.035909",
     "exception": false,
     "start_time": "2022-05-09T19:05:53.995749",
     "status": "completed"
    },
    "tags": []
   },
   "source": [
    "**Here above we can see that apart from the exact values the ranges also exist eg:-  '1133 - 1384' , and we can convert them into exact values by taking the mean**"
   ]
  },
  {
   "cell_type": "code",
   "execution_count": 12,
   "id": "d00ae24b",
   "metadata": {
    "execution": {
     "iopub.execute_input": "2022-05-09T19:05:54.117694Z",
     "iopub.status.busy": "2022-05-09T19:05:54.117260Z",
     "iopub.status.idle": "2022-05-09T19:05:54.121656Z",
     "shell.execute_reply": "2022-05-09T19:05:54.121099Z"
    },
    "papermill": {
     "duration": 0.047607,
     "end_time": "2022-05-09T19:05:54.123402",
     "exception": false,
     "start_time": "2022-05-09T19:05:54.075795",
     "status": "completed"
    },
    "tags": []
   },
   "outputs": [],
   "source": [
    "# creating the is_float function to check the data in the column is float or not, using it to print non float values like ranges\n",
    "def is_float(x):\n",
    "    try:\n",
    "        float(x)\n",
    "    except:\n",
    "        return False\n",
    "    return True"
   ]
  },
  {
   "cell_type": "code",
   "execution_count": 13,
   "id": "0cf0e845",
   "metadata": {
    "execution": {
     "iopub.execute_input": "2022-05-09T19:05:54.204874Z",
     "iopub.status.busy": "2022-05-09T19:05:54.204441Z",
     "iopub.status.idle": "2022-05-09T19:05:54.227252Z",
     "shell.execute_reply": "2022-05-09T19:05:54.226466Z"
    },
    "papermill": {
     "duration": 0.066202,
     "end_time": "2022-05-09T19:05:54.229170",
     "exception": false,
     "start_time": "2022-05-09T19:05:54.162968",
     "status": "completed"
    },
    "tags": []
   },
   "outputs": [
    {
     "data": {
      "text/html": [
       "<div>\n",
       "<style scoped>\n",
       "    .dataframe tbody tr th:only-of-type {\n",
       "        vertical-align: middle;\n",
       "    }\n",
       "\n",
       "    .dataframe tbody tr th {\n",
       "        vertical-align: top;\n",
       "    }\n",
       "\n",
       "    .dataframe thead th {\n",
       "        text-align: right;\n",
       "    }\n",
       "</style>\n",
       "<table border=\"1\" class=\"dataframe\">\n",
       "  <thead>\n",
       "    <tr style=\"text-align: right;\">\n",
       "      <th></th>\n",
       "      <th>location</th>\n",
       "      <th>size</th>\n",
       "      <th>total_sqft</th>\n",
       "      <th>bath</th>\n",
       "      <th>price</th>\n",
       "      <th>bhk</th>\n",
       "    </tr>\n",
       "  </thead>\n",
       "  <tbody>\n",
       "    <tr>\n",
       "      <th>30</th>\n",
       "      <td>Yelahanka</td>\n",
       "      <td>4 BHK</td>\n",
       "      <td>2100 - 2850</td>\n",
       "      <td>4.0</td>\n",
       "      <td>186.000</td>\n",
       "      <td>4</td>\n",
       "    </tr>\n",
       "    <tr>\n",
       "      <th>122</th>\n",
       "      <td>Hebbal</td>\n",
       "      <td>4 BHK</td>\n",
       "      <td>3067 - 8156</td>\n",
       "      <td>4.0</td>\n",
       "      <td>477.000</td>\n",
       "      <td>4</td>\n",
       "    </tr>\n",
       "    <tr>\n",
       "      <th>137</th>\n",
       "      <td>8th Phase JP Nagar</td>\n",
       "      <td>2 BHK</td>\n",
       "      <td>1042 - 1105</td>\n",
       "      <td>2.0</td>\n",
       "      <td>54.005</td>\n",
       "      <td>2</td>\n",
       "    </tr>\n",
       "    <tr>\n",
       "      <th>165</th>\n",
       "      <td>Sarjapur</td>\n",
       "      <td>2 BHK</td>\n",
       "      <td>1145 - 1340</td>\n",
       "      <td>2.0</td>\n",
       "      <td>43.490</td>\n",
       "      <td>2</td>\n",
       "    </tr>\n",
       "    <tr>\n",
       "      <th>188</th>\n",
       "      <td>KR Puram</td>\n",
       "      <td>2 BHK</td>\n",
       "      <td>1015 - 1540</td>\n",
       "      <td>2.0</td>\n",
       "      <td>56.800</td>\n",
       "      <td>2</td>\n",
       "    </tr>\n",
       "    <tr>\n",
       "      <th>...</th>\n",
       "      <td>...</td>\n",
       "      <td>...</td>\n",
       "      <td>...</td>\n",
       "      <td>...</td>\n",
       "      <td>...</td>\n",
       "      <td>...</td>\n",
       "    </tr>\n",
       "    <tr>\n",
       "      <th>12975</th>\n",
       "      <td>Whitefield</td>\n",
       "      <td>2 BHK</td>\n",
       "      <td>850 - 1060</td>\n",
       "      <td>2.0</td>\n",
       "      <td>38.190</td>\n",
       "      <td>2</td>\n",
       "    </tr>\n",
       "    <tr>\n",
       "      <th>12990</th>\n",
       "      <td>Talaghattapura</td>\n",
       "      <td>3 BHK</td>\n",
       "      <td>1804 - 2273</td>\n",
       "      <td>3.0</td>\n",
       "      <td>122.000</td>\n",
       "      <td>3</td>\n",
       "    </tr>\n",
       "    <tr>\n",
       "      <th>13059</th>\n",
       "      <td>Harlur</td>\n",
       "      <td>2 BHK</td>\n",
       "      <td>1200 - 1470</td>\n",
       "      <td>2.0</td>\n",
       "      <td>72.760</td>\n",
       "      <td>2</td>\n",
       "    </tr>\n",
       "    <tr>\n",
       "      <th>13265</th>\n",
       "      <td>Hoodi</td>\n",
       "      <td>2 BHK</td>\n",
       "      <td>1133 - 1384</td>\n",
       "      <td>2.0</td>\n",
       "      <td>59.135</td>\n",
       "      <td>2</td>\n",
       "    </tr>\n",
       "    <tr>\n",
       "      <th>13299</th>\n",
       "      <td>Whitefield</td>\n",
       "      <td>4 BHK</td>\n",
       "      <td>2830 - 2882</td>\n",
       "      <td>5.0</td>\n",
       "      <td>154.500</td>\n",
       "      <td>4</td>\n",
       "    </tr>\n",
       "  </tbody>\n",
       "</table>\n",
       "<p>190 rows × 6 columns</p>\n",
       "</div>"
      ],
      "text/plain": [
       "                 location   size   total_sqft  bath    price  bhk\n",
       "30              Yelahanka  4 BHK  2100 - 2850   4.0  186.000    4\n",
       "122                Hebbal  4 BHK  3067 - 8156   4.0  477.000    4\n",
       "137    8th Phase JP Nagar  2 BHK  1042 - 1105   2.0   54.005    2\n",
       "165              Sarjapur  2 BHK  1145 - 1340   2.0   43.490    2\n",
       "188              KR Puram  2 BHK  1015 - 1540   2.0   56.800    2\n",
       "...                   ...    ...          ...   ...      ...  ...\n",
       "12975          Whitefield  2 BHK   850 - 1060   2.0   38.190    2\n",
       "12990      Talaghattapura  3 BHK  1804 - 2273   3.0  122.000    3\n",
       "13059              Harlur  2 BHK  1200 - 1470   2.0   72.760    2\n",
       "13265               Hoodi  2 BHK  1133 - 1384   2.0   59.135    2\n",
       "13299          Whitefield  4 BHK  2830 - 2882   5.0  154.500    4\n",
       "\n",
       "[190 rows x 6 columns]"
      ]
     },
     "execution_count": 13,
     "metadata": {},
     "output_type": "execute_result"
    }
   ],
   "source": [
    "df3[~df3['total_sqft'].apply(is_float)]   # prints non float data"
   ]
  },
  {
   "cell_type": "code",
   "execution_count": 14,
   "id": "bcd8b167",
   "metadata": {
    "execution": {
     "iopub.execute_input": "2022-05-09T19:05:54.311427Z",
     "iopub.status.busy": "2022-05-09T19:05:54.311035Z",
     "iopub.status.idle": "2022-05-09T19:05:54.316225Z",
     "shell.execute_reply": "2022-05-09T19:05:54.315705Z"
    },
    "papermill": {
     "duration": 0.048619,
     "end_time": "2022-05-09T19:05:54.318038",
     "exception": false,
     "start_time": "2022-05-09T19:05:54.269419",
     "status": "completed"
    },
    "tags": []
   },
   "outputs": [],
   "source": [
    "def convert_range_to_num(x):\n",
    "    tokens = x.split('-')\n",
    "    if len(tokens) == 2:\n",
    "        return (float(tokens[0]) + float(tokens[1]))/2\n",
    "    \n",
    "    try:\n",
    "        return float(x)\n",
    "    except:\n",
    "        return None"
   ]
  },
  {
   "cell_type": "code",
   "execution_count": 15,
   "id": "a616c145",
   "metadata": {
    "execution": {
     "iopub.execute_input": "2022-05-09T19:05:54.400671Z",
     "iopub.status.busy": "2022-05-09T19:05:54.400382Z",
     "iopub.status.idle": "2022-05-09T19:05:54.405908Z",
     "shell.execute_reply": "2022-05-09T19:05:54.405049Z"
    },
    "papermill": {
     "duration": 0.049611,
     "end_time": "2022-05-09T19:05:54.407941",
     "exception": false,
     "start_time": "2022-05-09T19:05:54.358330",
     "status": "completed"
    },
    "tags": []
   },
   "outputs": [
    {
     "data": {
      "text/plain": [
       "3.25"
      ]
     },
     "execution_count": 15,
     "metadata": {},
     "output_type": "execute_result"
    }
   ],
   "source": [
    "convert_range_to_num('2 - 4.5')"
   ]
  },
  {
   "cell_type": "code",
   "execution_count": 16,
   "id": "43b95f94",
   "metadata": {
    "execution": {
     "iopub.execute_input": "2022-05-09T19:05:54.491899Z",
     "iopub.status.busy": "2022-05-09T19:05:54.491630Z",
     "iopub.status.idle": "2022-05-09T19:05:54.511031Z",
     "shell.execute_reply": "2022-05-09T19:05:54.510064Z"
    },
    "papermill": {
     "duration": 0.064413,
     "end_time": "2022-05-09T19:05:54.513381",
     "exception": false,
     "start_time": "2022-05-09T19:05:54.448968",
     "status": "completed"
    },
    "tags": []
   },
   "outputs": [],
   "source": [
    "df4 = df3.copy()     # copy(): changes made on df4 will not reflect on df3\n",
    "df4['total_sqft'] = df4['total_sqft'].apply(lambda x : convert_range_to_num(x))\n"
   ]
  },
  {
   "cell_type": "code",
   "execution_count": 17,
   "id": "f8849204",
   "metadata": {
    "execution": {
     "iopub.execute_input": "2022-05-09T19:05:54.596555Z",
     "iopub.status.busy": "2022-05-09T19:05:54.595734Z",
     "iopub.status.idle": "2022-05-09T19:05:54.611255Z",
     "shell.execute_reply": "2022-05-09T19:05:54.610667Z"
    },
    "papermill": {
     "duration": 0.059338,
     "end_time": "2022-05-09T19:05:54.613199",
     "exception": false,
     "start_time": "2022-05-09T19:05:54.553861",
     "status": "completed"
    },
    "tags": []
   },
   "outputs": [
    {
     "data": {
      "text/html": [
       "<div>\n",
       "<style scoped>\n",
       "    .dataframe tbody tr th:only-of-type {\n",
       "        vertical-align: middle;\n",
       "    }\n",
       "\n",
       "    .dataframe tbody tr th {\n",
       "        vertical-align: top;\n",
       "    }\n",
       "\n",
       "    .dataframe thead th {\n",
       "        text-align: right;\n",
       "    }\n",
       "</style>\n",
       "<table border=\"1\" class=\"dataframe\">\n",
       "  <thead>\n",
       "    <tr style=\"text-align: right;\">\n",
       "      <th></th>\n",
       "      <th>location</th>\n",
       "      <th>size</th>\n",
       "      <th>total_sqft</th>\n",
       "      <th>bath</th>\n",
       "      <th>price</th>\n",
       "      <th>bhk</th>\n",
       "    </tr>\n",
       "  </thead>\n",
       "  <tbody>\n",
       "  </tbody>\n",
       "</table>\n",
       "</div>"
      ],
      "text/plain": [
       "Empty DataFrame\n",
       "Columns: [location, size, total_sqft, bath, price, bhk]\n",
       "Index: []"
      ]
     },
     "execution_count": 17,
     "metadata": {},
     "output_type": "execute_result"
    }
   ],
   "source": [
    "df4[~df4['total_sqft'].apply(is_float)] "
   ]
  },
  {
   "cell_type": "code",
   "execution_count": 18,
   "id": "f330fc2d",
   "metadata": {
    "execution": {
     "iopub.execute_input": "2022-05-09T19:05:54.697150Z",
     "iopub.status.busy": "2022-05-09T19:05:54.696642Z",
     "iopub.status.idle": "2022-05-09T19:05:54.708394Z",
     "shell.execute_reply": "2022-05-09T19:05:54.707825Z"
    },
    "papermill": {
     "duration": 0.055849,
     "end_time": "2022-05-09T19:05:54.710172",
     "exception": false,
     "start_time": "2022-05-09T19:05:54.654323",
     "status": "completed"
    },
    "tags": []
   },
   "outputs": [
    {
     "data": {
      "text/html": [
       "<div>\n",
       "<style scoped>\n",
       "    .dataframe tbody tr th:only-of-type {\n",
       "        vertical-align: middle;\n",
       "    }\n",
       "\n",
       "    .dataframe tbody tr th {\n",
       "        vertical-align: top;\n",
       "    }\n",
       "\n",
       "    .dataframe thead th {\n",
       "        text-align: right;\n",
       "    }\n",
       "</style>\n",
       "<table border=\"1\" class=\"dataframe\">\n",
       "  <thead>\n",
       "    <tr style=\"text-align: right;\">\n",
       "      <th></th>\n",
       "      <th>location</th>\n",
       "      <th>size</th>\n",
       "      <th>total_sqft</th>\n",
       "      <th>bath</th>\n",
       "      <th>price</th>\n",
       "      <th>bhk</th>\n",
       "    </tr>\n",
       "  </thead>\n",
       "  <tbody>\n",
       "    <tr>\n",
       "      <th>0</th>\n",
       "      <td>Electronic City Phase II</td>\n",
       "      <td>2 BHK</td>\n",
       "      <td>1056.0</td>\n",
       "      <td>2.0</td>\n",
       "      <td>39.07</td>\n",
       "      <td>2</td>\n",
       "    </tr>\n",
       "    <tr>\n",
       "      <th>1</th>\n",
       "      <td>Chikka Tirupathi</td>\n",
       "      <td>4 Bedroom</td>\n",
       "      <td>2600.0</td>\n",
       "      <td>5.0</td>\n",
       "      <td>120.00</td>\n",
       "      <td>4</td>\n",
       "    </tr>\n",
       "    <tr>\n",
       "      <th>2</th>\n",
       "      <td>Uttarahalli</td>\n",
       "      <td>3 BHK</td>\n",
       "      <td>1440.0</td>\n",
       "      <td>2.0</td>\n",
       "      <td>62.00</td>\n",
       "      <td>3</td>\n",
       "    </tr>\n",
       "    <tr>\n",
       "      <th>3</th>\n",
       "      <td>Lingadheeranahalli</td>\n",
       "      <td>3 BHK</td>\n",
       "      <td>1521.0</td>\n",
       "      <td>3.0</td>\n",
       "      <td>95.00</td>\n",
       "      <td>3</td>\n",
       "    </tr>\n",
       "    <tr>\n",
       "      <th>4</th>\n",
       "      <td>Kothanur</td>\n",
       "      <td>2 BHK</td>\n",
       "      <td>1200.0</td>\n",
       "      <td>2.0</td>\n",
       "      <td>51.00</td>\n",
       "      <td>2</td>\n",
       "    </tr>\n",
       "  </tbody>\n",
       "</table>\n",
       "</div>"
      ],
      "text/plain": [
       "                   location       size  total_sqft  bath   price  bhk\n",
       "0  Electronic City Phase II      2 BHK      1056.0   2.0   39.07    2\n",
       "1          Chikka Tirupathi  4 Bedroom      2600.0   5.0  120.00    4\n",
       "2               Uttarahalli      3 BHK      1440.0   2.0   62.00    3\n",
       "3        Lingadheeranahalli      3 BHK      1521.0   3.0   95.00    3\n",
       "4                  Kothanur      2 BHK      1200.0   2.0   51.00    2"
      ]
     },
     "execution_count": 18,
     "metadata": {},
     "output_type": "execute_result"
    }
   ],
   "source": [
    "df4.head()"
   ]
  },
  {
   "cell_type": "markdown",
   "id": "eda5b79a",
   "metadata": {
    "papermill": {
     "duration": 0.041537,
     "end_time": "2022-05-09T19:05:54.793321",
     "exception": false,
     "start_time": "2022-05-09T19:05:54.751784",
     "status": "completed"
    },
    "tags": []
   },
   "source": [
    "**Adding new feature price per square feet**"
   ]
  },
  {
   "cell_type": "code",
   "execution_count": 19,
   "id": "00d37b88",
   "metadata": {
    "execution": {
     "iopub.execute_input": "2022-05-09T19:05:54.878893Z",
     "iopub.status.busy": "2022-05-09T19:05:54.878381Z",
     "iopub.status.idle": "2022-05-09T19:05:54.893176Z",
     "shell.execute_reply": "2022-05-09T19:05:54.892603Z"
    },
    "papermill": {
     "duration": 0.05979,
     "end_time": "2022-05-09T19:05:54.895201",
     "exception": false,
     "start_time": "2022-05-09T19:05:54.835411",
     "status": "completed"
    },
    "tags": []
   },
   "outputs": [
    {
     "data": {
      "text/html": [
       "<div>\n",
       "<style scoped>\n",
       "    .dataframe tbody tr th:only-of-type {\n",
       "        vertical-align: middle;\n",
       "    }\n",
       "\n",
       "    .dataframe tbody tr th {\n",
       "        vertical-align: top;\n",
       "    }\n",
       "\n",
       "    .dataframe thead th {\n",
       "        text-align: right;\n",
       "    }\n",
       "</style>\n",
       "<table border=\"1\" class=\"dataframe\">\n",
       "  <thead>\n",
       "    <tr style=\"text-align: right;\">\n",
       "      <th></th>\n",
       "      <th>location</th>\n",
       "      <th>size</th>\n",
       "      <th>total_sqft</th>\n",
       "      <th>bath</th>\n",
       "      <th>price</th>\n",
       "      <th>bhk</th>\n",
       "      <th>price_per_sqft</th>\n",
       "    </tr>\n",
       "  </thead>\n",
       "  <tbody>\n",
       "    <tr>\n",
       "      <th>0</th>\n",
       "      <td>Electronic City Phase II</td>\n",
       "      <td>2 BHK</td>\n",
       "      <td>1056.0</td>\n",
       "      <td>2.0</td>\n",
       "      <td>39.07</td>\n",
       "      <td>2</td>\n",
       "      <td>3699.810606</td>\n",
       "    </tr>\n",
       "    <tr>\n",
       "      <th>1</th>\n",
       "      <td>Chikka Tirupathi</td>\n",
       "      <td>4 Bedroom</td>\n",
       "      <td>2600.0</td>\n",
       "      <td>5.0</td>\n",
       "      <td>120.00</td>\n",
       "      <td>4</td>\n",
       "      <td>4615.384615</td>\n",
       "    </tr>\n",
       "    <tr>\n",
       "      <th>2</th>\n",
       "      <td>Uttarahalli</td>\n",
       "      <td>3 BHK</td>\n",
       "      <td>1440.0</td>\n",
       "      <td>2.0</td>\n",
       "      <td>62.00</td>\n",
       "      <td>3</td>\n",
       "      <td>4305.555556</td>\n",
       "    </tr>\n",
       "    <tr>\n",
       "      <th>3</th>\n",
       "      <td>Lingadheeranahalli</td>\n",
       "      <td>3 BHK</td>\n",
       "      <td>1521.0</td>\n",
       "      <td>3.0</td>\n",
       "      <td>95.00</td>\n",
       "      <td>3</td>\n",
       "      <td>6245.890861</td>\n",
       "    </tr>\n",
       "    <tr>\n",
       "      <th>4</th>\n",
       "      <td>Kothanur</td>\n",
       "      <td>2 BHK</td>\n",
       "      <td>1200.0</td>\n",
       "      <td>2.0</td>\n",
       "      <td>51.00</td>\n",
       "      <td>2</td>\n",
       "      <td>4250.000000</td>\n",
       "    </tr>\n",
       "  </tbody>\n",
       "</table>\n",
       "</div>"
      ],
      "text/plain": [
       "                   location       size  total_sqft  bath   price  bhk  \\\n",
       "0  Electronic City Phase II      2 BHK      1056.0   2.0   39.07    2   \n",
       "1          Chikka Tirupathi  4 Bedroom      2600.0   5.0  120.00    4   \n",
       "2               Uttarahalli      3 BHK      1440.0   2.0   62.00    3   \n",
       "3        Lingadheeranahalli      3 BHK      1521.0   3.0   95.00    3   \n",
       "4                  Kothanur      2 BHK      1200.0   2.0   51.00    2   \n",
       "\n",
       "   price_per_sqft  \n",
       "0     3699.810606  \n",
       "1     4615.384615  \n",
       "2     4305.555556  \n",
       "3     6245.890861  \n",
       "4     4250.000000  "
      ]
     },
     "execution_count": 19,
     "metadata": {},
     "output_type": "execute_result"
    }
   ],
   "source": [
    "df5 = df4.copy()\n",
    "df5['price_per_sqft'] = df5['price']*100000/df5['total_sqft']\n",
    "df5.head()"
   ]
  },
  {
   "cell_type": "code",
   "execution_count": 20,
   "id": "a044b59b",
   "metadata": {
    "execution": {
     "iopub.execute_input": "2022-05-09T19:05:54.981572Z",
     "iopub.status.busy": "2022-05-09T19:05:54.981062Z",
     "iopub.status.idle": "2022-05-09T19:05:54.987893Z",
     "shell.execute_reply": "2022-05-09T19:05:54.987150Z"
    },
    "papermill": {
     "duration": 0.052239,
     "end_time": "2022-05-09T19:05:54.989607",
     "exception": false,
     "start_time": "2022-05-09T19:05:54.937368",
     "status": "completed"
    },
    "tags": []
   },
   "outputs": [
    {
     "data": {
      "text/plain": [
       "1304"
      ]
     },
     "execution_count": 20,
     "metadata": {},
     "output_type": "execute_result"
    }
   ],
   "source": [
    "len(df5.location.unique())"
   ]
  },
  {
   "cell_type": "code",
   "execution_count": 21,
   "id": "d5da8ba1",
   "metadata": {
    "execution": {
     "iopub.execute_input": "2022-05-09T19:05:55.077626Z",
     "iopub.status.busy": "2022-05-09T19:05:55.077289Z",
     "iopub.status.idle": "2022-05-09T19:05:55.088635Z",
     "shell.execute_reply": "2022-05-09T19:05:55.087825Z"
    },
    "papermill": {
     "duration": 0.057906,
     "end_time": "2022-05-09T19:05:55.090441",
     "exception": false,
     "start_time": "2022-05-09T19:05:55.032535",
     "status": "completed"
    },
    "tags": []
   },
   "outputs": [
    {
     "data": {
      "text/plain": [
       "1293"
      ]
     },
     "execution_count": 21,
     "metadata": {},
     "output_type": "execute_result"
    }
   ],
   "source": [
    "df5.location = df5.location.apply(lambda x : x.strip())   # removes the unnecessary space\n",
    "len(df5.location.unique())"
   ]
  },
  {
   "cell_type": "markdown",
   "id": "8675ac58",
   "metadata": {
    "papermill": {
     "duration": 0.042461,
     "end_time": "2022-05-09T19:05:55.177114",
     "exception": false,
     "start_time": "2022-05-09T19:05:55.134653",
     "status": "completed"
    },
    "tags": []
   },
   "source": [
    "**Dimensionality Reduction**"
   ]
  },
  {
   "cell_type": "code",
   "execution_count": 22,
   "id": "eec2ce89",
   "metadata": {
    "execution": {
     "iopub.execute_input": "2022-05-09T19:05:55.264527Z",
     "iopub.status.busy": "2022-05-09T19:05:55.264198Z",
     "iopub.status.idle": "2022-05-09T19:05:55.276931Z",
     "shell.execute_reply": "2022-05-09T19:05:55.276361Z"
    },
    "papermill": {
     "duration": 0.058915,
     "end_time": "2022-05-09T19:05:55.278821",
     "exception": false,
     "start_time": "2022-05-09T19:05:55.219906",
     "status": "completed"
    },
    "tags": []
   },
   "outputs": [
    {
     "data": {
      "text/plain": [
       "location\n",
       "Whitefield               535\n",
       "Sarjapur  Road           392\n",
       "Electronic City          304\n",
       "Kanakpura Road           266\n",
       "Thanisandra              236\n",
       "                        ... \n",
       "1 Giri Nagar               1\n",
       "Kanakapura Road,           1\n",
       "Kanakapura main  Road      1\n",
       "Karnataka Shabarimala      1\n",
       "whitefiled                 1\n",
       "Name: location, Length: 1293, dtype: int64"
      ]
     },
     "execution_count": 22,
     "metadata": {},
     "output_type": "execute_result"
    }
   ],
   "source": [
    "location_stats = df5.groupby('location')['location'].agg('count').sort_values(ascending=False)\n",
    "location_stats"
   ]
  },
  {
   "cell_type": "code",
   "execution_count": 23,
   "id": "047e1d93",
   "metadata": {
    "execution": {
     "iopub.execute_input": "2022-05-09T19:05:55.369046Z",
     "iopub.status.busy": "2022-05-09T19:05:55.368547Z",
     "iopub.status.idle": "2022-05-09T19:05:55.373876Z",
     "shell.execute_reply": "2022-05-09T19:05:55.373341Z"
    },
    "papermill": {
     "duration": 0.052455,
     "end_time": "2022-05-09T19:05:55.375690",
     "exception": false,
     "start_time": "2022-05-09T19:05:55.323235",
     "status": "completed"
    },
    "tags": []
   },
   "outputs": [
    {
     "data": {
      "text/plain": [
       "1052"
      ]
     },
     "execution_count": 23,
     "metadata": {},
     "output_type": "execute_result"
    }
   ],
   "source": [
    "len(location_stats[location_stats<=10])"
   ]
  },
  {
   "cell_type": "code",
   "execution_count": 24,
   "id": "5ff8f817",
   "metadata": {
    "execution": {
     "iopub.execute_input": "2022-05-09T19:05:55.464396Z",
     "iopub.status.busy": "2022-05-09T19:05:55.463919Z",
     "iopub.status.idle": "2022-05-09T19:05:55.470769Z",
     "shell.execute_reply": "2022-05-09T19:05:55.470080Z"
    },
    "papermill": {
     "duration": 0.053404,
     "end_time": "2022-05-09T19:05:55.472608",
     "exception": false,
     "start_time": "2022-05-09T19:05:55.419204",
     "status": "completed"
    },
    "tags": []
   },
   "outputs": [
    {
     "data": {
      "text/plain": [
       "location\n",
       "Basapura                 10\n",
       "1st Block Koramangala    10\n",
       "Gunjur Palya             10\n",
       "Kalkere                  10\n",
       "Sector 1 HSR Layout      10\n",
       "                         ..\n",
       "1 Giri Nagar              1\n",
       "Kanakapura Road,          1\n",
       "Kanakapura main  Road     1\n",
       "Karnataka Shabarimala     1\n",
       "whitefiled                1\n",
       "Name: location, Length: 1052, dtype: int64"
      ]
     },
     "execution_count": 24,
     "metadata": {},
     "output_type": "execute_result"
    }
   ],
   "source": [
    "location_stats_less_then_10 = location_stats[location_stats<=10]\n",
    "location_stats_less_then_10"
   ]
  },
  {
   "cell_type": "code",
   "execution_count": 25,
   "id": "dcb95550",
   "metadata": {
    "execution": {
     "iopub.execute_input": "2022-05-09T19:05:55.564773Z",
     "iopub.status.busy": "2022-05-09T19:05:55.564087Z",
     "iopub.status.idle": "2022-05-09T19:05:55.599209Z",
     "shell.execute_reply": "2022-05-09T19:05:55.598662Z"
    },
    "papermill": {
     "duration": 0.083914,
     "end_time": "2022-05-09T19:05:55.601036",
     "exception": false,
     "start_time": "2022-05-09T19:05:55.517122",
     "status": "completed"
    },
    "tags": []
   },
   "outputs": [
    {
     "data": {
      "text/html": [
       "<div>\n",
       "<style scoped>\n",
       "    .dataframe tbody tr th:only-of-type {\n",
       "        vertical-align: middle;\n",
       "    }\n",
       "\n",
       "    .dataframe tbody tr th {\n",
       "        vertical-align: top;\n",
       "    }\n",
       "\n",
       "    .dataframe thead th {\n",
       "        text-align: right;\n",
       "    }\n",
       "</style>\n",
       "<table border=\"1\" class=\"dataframe\">\n",
       "  <thead>\n",
       "    <tr style=\"text-align: right;\">\n",
       "      <th></th>\n",
       "      <th>location</th>\n",
       "      <th>size</th>\n",
       "      <th>total_sqft</th>\n",
       "      <th>bath</th>\n",
       "      <th>price</th>\n",
       "      <th>bhk</th>\n",
       "      <th>price_per_sqft</th>\n",
       "    </tr>\n",
       "  </thead>\n",
       "  <tbody>\n",
       "    <tr>\n",
       "      <th>0</th>\n",
       "      <td>Electronic City Phase II</td>\n",
       "      <td>2 BHK</td>\n",
       "      <td>1056.0</td>\n",
       "      <td>2.0</td>\n",
       "      <td>39.07</td>\n",
       "      <td>2</td>\n",
       "      <td>3699.810606</td>\n",
       "    </tr>\n",
       "    <tr>\n",
       "      <th>1</th>\n",
       "      <td>Chikka Tirupathi</td>\n",
       "      <td>4 Bedroom</td>\n",
       "      <td>2600.0</td>\n",
       "      <td>5.0</td>\n",
       "      <td>120.00</td>\n",
       "      <td>4</td>\n",
       "      <td>4615.384615</td>\n",
       "    </tr>\n",
       "    <tr>\n",
       "      <th>2</th>\n",
       "      <td>Uttarahalli</td>\n",
       "      <td>3 BHK</td>\n",
       "      <td>1440.0</td>\n",
       "      <td>2.0</td>\n",
       "      <td>62.00</td>\n",
       "      <td>3</td>\n",
       "      <td>4305.555556</td>\n",
       "    </tr>\n",
       "    <tr>\n",
       "      <th>3</th>\n",
       "      <td>Lingadheeranahalli</td>\n",
       "      <td>3 BHK</td>\n",
       "      <td>1521.0</td>\n",
       "      <td>3.0</td>\n",
       "      <td>95.00</td>\n",
       "      <td>3</td>\n",
       "      <td>6245.890861</td>\n",
       "    </tr>\n",
       "    <tr>\n",
       "      <th>4</th>\n",
       "      <td>Kothanur</td>\n",
       "      <td>2 BHK</td>\n",
       "      <td>1200.0</td>\n",
       "      <td>2.0</td>\n",
       "      <td>51.00</td>\n",
       "      <td>2</td>\n",
       "      <td>4250.000000</td>\n",
       "    </tr>\n",
       "    <tr>\n",
       "      <th>5</th>\n",
       "      <td>Whitefield</td>\n",
       "      <td>2 BHK</td>\n",
       "      <td>1170.0</td>\n",
       "      <td>2.0</td>\n",
       "      <td>38.00</td>\n",
       "      <td>2</td>\n",
       "      <td>3247.863248</td>\n",
       "    </tr>\n",
       "    <tr>\n",
       "      <th>6</th>\n",
       "      <td>Old Airport Road</td>\n",
       "      <td>4 BHK</td>\n",
       "      <td>2732.0</td>\n",
       "      <td>4.0</td>\n",
       "      <td>204.00</td>\n",
       "      <td>4</td>\n",
       "      <td>7467.057101</td>\n",
       "    </tr>\n",
       "    <tr>\n",
       "      <th>7</th>\n",
       "      <td>Rajaji Nagar</td>\n",
       "      <td>4 BHK</td>\n",
       "      <td>3300.0</td>\n",
       "      <td>4.0</td>\n",
       "      <td>600.00</td>\n",
       "      <td>4</td>\n",
       "      <td>18181.818182</td>\n",
       "    </tr>\n",
       "    <tr>\n",
       "      <th>8</th>\n",
       "      <td>Marathahalli</td>\n",
       "      <td>3 BHK</td>\n",
       "      <td>1310.0</td>\n",
       "      <td>3.0</td>\n",
       "      <td>63.25</td>\n",
       "      <td>3</td>\n",
       "      <td>4828.244275</td>\n",
       "    </tr>\n",
       "    <tr>\n",
       "      <th>9</th>\n",
       "      <td>other</td>\n",
       "      <td>6 Bedroom</td>\n",
       "      <td>1020.0</td>\n",
       "      <td>6.0</td>\n",
       "      <td>370.00</td>\n",
       "      <td>6</td>\n",
       "      <td>36274.509804</td>\n",
       "    </tr>\n",
       "  </tbody>\n",
       "</table>\n",
       "</div>"
      ],
      "text/plain": [
       "                   location       size  total_sqft  bath   price  bhk  \\\n",
       "0  Electronic City Phase II      2 BHK      1056.0   2.0   39.07    2   \n",
       "1          Chikka Tirupathi  4 Bedroom      2600.0   5.0  120.00    4   \n",
       "2               Uttarahalli      3 BHK      1440.0   2.0   62.00    3   \n",
       "3        Lingadheeranahalli      3 BHK      1521.0   3.0   95.00    3   \n",
       "4                  Kothanur      2 BHK      1200.0   2.0   51.00    2   \n",
       "5                Whitefield      2 BHK      1170.0   2.0   38.00    2   \n",
       "6          Old Airport Road      4 BHK      2732.0   4.0  204.00    4   \n",
       "7              Rajaji Nagar      4 BHK      3300.0   4.0  600.00    4   \n",
       "8              Marathahalli      3 BHK      1310.0   3.0   63.25    3   \n",
       "9                     other  6 Bedroom      1020.0   6.0  370.00    6   \n",
       "\n",
       "   price_per_sqft  \n",
       "0     3699.810606  \n",
       "1     4615.384615  \n",
       "2     4305.555556  \n",
       "3     6245.890861  \n",
       "4     4250.000000  \n",
       "5     3247.863248  \n",
       "6     7467.057101  \n",
       "7    18181.818182  \n",
       "8     4828.244275  \n",
       "9    36274.509804  "
      ]
     },
     "execution_count": 25,
     "metadata": {},
     "output_type": "execute_result"
    }
   ],
   "source": [
    "df5.location = df5.location.apply(lambda x : 'other' if x in location_stats_less_then_10 else x)\n",
    "df5.head(10)"
   ]
  },
  {
   "cell_type": "code",
   "execution_count": 26,
   "id": "345c309d",
   "metadata": {
    "execution": {
     "iopub.execute_input": "2022-05-09T19:05:55.692768Z",
     "iopub.status.busy": "2022-05-09T19:05:55.692225Z",
     "iopub.status.idle": "2022-05-09T19:05:55.698736Z",
     "shell.execute_reply": "2022-05-09T19:05:55.697963Z"
    },
    "papermill": {
     "duration": 0.05435,
     "end_time": "2022-05-09T19:05:55.700491",
     "exception": false,
     "start_time": "2022-05-09T19:05:55.646141",
     "status": "completed"
    },
    "tags": []
   },
   "outputs": [
    {
     "data": {
      "text/plain": [
       "242"
      ]
     },
     "execution_count": 26,
     "metadata": {},
     "output_type": "execute_result"
    }
   ],
   "source": [
    "len(df5.location.unique())"
   ]
  },
  {
   "cell_type": "markdown",
   "id": "bb8525f2",
   "metadata": {
    "papermill": {
     "duration": 0.045296,
     "end_time": "2022-05-09T19:05:55.790971",
     "exception": false,
     "start_time": "2022-05-09T19:05:55.745675",
     "status": "completed"
    },
    "tags": []
   },
   "source": [
    "# **Outlier removal**"
   ]
  },
  {
   "cell_type": "code",
   "execution_count": 27,
   "id": "2ea42e96",
   "metadata": {
    "execution": {
     "iopub.execute_input": "2022-05-09T19:05:55.883410Z",
     "iopub.status.busy": "2022-05-09T19:05:55.882912Z",
     "iopub.status.idle": "2022-05-09T19:05:55.887667Z",
     "shell.execute_reply": "2022-05-09T19:05:55.887123Z"
    },
    "papermill": {
     "duration": 0.05305,
     "end_time": "2022-05-09T19:05:55.889363",
     "exception": false,
     "start_time": "2022-05-09T19:05:55.836313",
     "status": "completed"
    },
    "tags": []
   },
   "outputs": [
    {
     "data": {
      "text/plain": [
       "(13246, 7)"
      ]
     },
     "execution_count": 27,
     "metadata": {},
     "output_type": "execute_result"
    }
   ],
   "source": [
    "df5.shape"
   ]
  },
  {
   "cell_type": "code",
   "execution_count": 28,
   "id": "64b64ea5",
   "metadata": {
    "execution": {
     "iopub.execute_input": "2022-05-09T19:05:55.983001Z",
     "iopub.status.busy": "2022-05-09T19:05:55.982425Z",
     "iopub.status.idle": "2022-05-09T19:05:55.990318Z",
     "shell.execute_reply": "2022-05-09T19:05:55.989731Z"
    },
    "papermill": {
     "duration": 0.057205,
     "end_time": "2022-05-09T19:05:55.992473",
     "exception": false,
     "start_time": "2022-05-09T19:05:55.935268",
     "status": "completed"
    },
    "tags": []
   },
   "outputs": [
    {
     "data": {
      "text/plain": [
       "(12502, 7)"
      ]
     },
     "execution_count": 28,
     "metadata": {},
     "output_type": "execute_result"
    }
   ],
   "source": [
    "df6 = df5[~(df5.total_sqft/df5.bhk < 300)]\n",
    "df6.shape"
   ]
  },
  {
   "cell_type": "markdown",
   "id": "4e31e786",
   "metadata": {
    "papermill": {
     "duration": 0.047812,
     "end_time": "2022-05-09T19:05:56.087416",
     "exception": false,
     "start_time": "2022-05-09T19:05:56.039604",
     "status": "completed"
    },
    "tags": []
   },
   "source": [
    "**Removing outliers using mean and std**"
   ]
  },
  {
   "cell_type": "code",
   "execution_count": 29,
   "id": "55800962",
   "metadata": {
    "execution": {
     "iopub.execute_input": "2022-05-09T19:05:56.182404Z",
     "iopub.status.busy": "2022-05-09T19:05:56.181903Z",
     "iopub.status.idle": "2022-05-09T19:05:56.673079Z",
     "shell.execute_reply": "2022-05-09T19:05:56.672217Z"
    },
    "papermill": {
     "duration": 0.541169,
     "end_time": "2022-05-09T19:05:56.675142",
     "exception": false,
     "start_time": "2022-05-09T19:05:56.133973",
     "status": "completed"
    },
    "tags": []
   },
   "outputs": [
    {
     "data": {
      "text/plain": [
       "(10241, 7)"
      ]
     },
     "execution_count": 29,
     "metadata": {},
     "output_type": "execute_result"
    }
   ],
   "source": [
    "def remove_pps_outliers(df):\n",
    "    df_out = pd.DataFrame()\n",
    "    for key, subdf in df.groupby('location'):\n",
    "        m = np.mean(subdf.price_per_sqft)\n",
    "        st = np.std(subdf.price_per_sqft)\n",
    "        reduced_df = subdf[(subdf.price_per_sqft>(m-st)) & (subdf.price_per_sqft<=(m+st))]\n",
    "        df_out = pd.concat([df_out,reduced_df], ignore_index = True)\n",
    "    return df_out\n",
    "        \n",
    "df7 = remove_pps_outliers(df6)\n",
    "df7.shape"
   ]
  }
 ],
 "metadata": {
  "kernelspec": {
   "display_name": "Python 3",
   "language": "python",
   "name": "python3"
  },
  "language_info": {
   "codemirror_mode": {
    "name": "ipython",
    "version": 3
   },
   "file_extension": ".py",
   "mimetype": "text/x-python",
   "name": "python",
   "nbconvert_exporter": "python",
   "pygments_lexer": "ipython3",
   "version": "3.7.12"
  },
  "papermill": {
   "default_parameters": {},
   "duration": 14.856209,
   "end_time": "2022-05-09T19:05:57.340413",
   "environment_variables": {},
   "exception": null,
   "input_path": "__notebook__.ipynb",
   "output_path": "__notebook__.ipynb",
   "parameters": {},
   "start_time": "2022-05-09T19:05:42.484204",
   "version": "2.3.4"
  }
 },
 "nbformat": 4,
 "nbformat_minor": 5
}
