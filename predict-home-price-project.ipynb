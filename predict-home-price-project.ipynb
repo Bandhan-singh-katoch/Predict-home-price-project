{
 "cells": [
  {
   "cell_type": "code",
   "execution_count": 1,
   "id": "31c66e06",
   "metadata": {
    "_cell_guid": "b1076dfc-b9ad-4769-8c92-a6c4dae69d19",
    "_uuid": "8f2839f25d086af736a60e9eeb907d3b93b6e0e5",
    "execution": {
     "iopub.execute_input": "2022-05-11T15:25:54.920714Z",
     "iopub.status.busy": "2022-05-11T15:25:54.920152Z",
     "iopub.status.idle": "2022-05-11T15:25:54.932523Z",
     "shell.execute_reply": "2022-05-11T15:25:54.931555Z"
    },
    "papermill": {
     "duration": 0.048045,
     "end_time": "2022-05-11T15:25:54.935619",
     "exception": false,
     "start_time": "2022-05-11T15:25:54.887574",
     "status": "completed"
    },
    "tags": []
   },
   "outputs": [],
   "source": [
    "import pandas as pd\n",
    "import numpy as np\n",
    "from matplotlib import pyplot as plt"
   ]
  },
  {
   "cell_type": "markdown",
   "id": "6728aa19",
   "metadata": {
    "papermill": {
     "duration": 0.029375,
     "end_time": "2022-05-11T15:25:55.001751",
     "exception": false,
     "start_time": "2022-05-11T15:25:54.972376",
     "status": "completed"
    },
    "tags": []
   },
   "source": [
    "# Load Data"
   ]
  },
  {
   "cell_type": "code",
   "execution_count": 2,
   "id": "b9055caa",
   "metadata": {
    "execution": {
     "iopub.execute_input": "2022-05-11T15:25:55.066244Z",
     "iopub.status.busy": "2022-05-11T15:25:55.065827Z",
     "iopub.status.idle": "2022-05-11T15:25:55.145772Z",
     "shell.execute_reply": "2022-05-11T15:25:55.144929Z"
    },
    "papermill": {
     "duration": 0.116522,
     "end_time": "2022-05-11T15:25:55.148222",
     "exception": false,
     "start_time": "2022-05-11T15:25:55.031700",
     "status": "completed"
    },
    "tags": []
   },
   "outputs": [
    {
     "data": {
      "text/html": [
       "<div>\n",
       "<style scoped>\n",
       "    .dataframe tbody tr th:only-of-type {\n",
       "        vertical-align: middle;\n",
       "    }\n",
       "\n",
       "    .dataframe tbody tr th {\n",
       "        vertical-align: top;\n",
       "    }\n",
       "\n",
       "    .dataframe thead th {\n",
       "        text-align: right;\n",
       "    }\n",
       "</style>\n",
       "<table border=\"1\" class=\"dataframe\">\n",
       "  <thead>\n",
       "    <tr style=\"text-align: right;\">\n",
       "      <th></th>\n",
       "      <th>area_type</th>\n",
       "      <th>availability</th>\n",
       "      <th>location</th>\n",
       "      <th>size</th>\n",
       "      <th>society</th>\n",
       "      <th>total_sqft</th>\n",
       "      <th>bath</th>\n",
       "      <th>balcony</th>\n",
       "      <th>price</th>\n",
       "    </tr>\n",
       "  </thead>\n",
       "  <tbody>\n",
       "    <tr>\n",
       "      <th>0</th>\n",
       "      <td>Super built-up  Area</td>\n",
       "      <td>19-Dec</td>\n",
       "      <td>Electronic City Phase II</td>\n",
       "      <td>2 BHK</td>\n",
       "      <td>Coomee</td>\n",
       "      <td>1056</td>\n",
       "      <td>2.0</td>\n",
       "      <td>1.0</td>\n",
       "      <td>39.07</td>\n",
       "    </tr>\n",
       "    <tr>\n",
       "      <th>1</th>\n",
       "      <td>Plot  Area</td>\n",
       "      <td>Ready To Move</td>\n",
       "      <td>Chikka Tirupathi</td>\n",
       "      <td>4 Bedroom</td>\n",
       "      <td>Theanmp</td>\n",
       "      <td>2600</td>\n",
       "      <td>5.0</td>\n",
       "      <td>3.0</td>\n",
       "      <td>120.00</td>\n",
       "    </tr>\n",
       "    <tr>\n",
       "      <th>2</th>\n",
       "      <td>Built-up  Area</td>\n",
       "      <td>Ready To Move</td>\n",
       "      <td>Uttarahalli</td>\n",
       "      <td>3 BHK</td>\n",
       "      <td>NaN</td>\n",
       "      <td>1440</td>\n",
       "      <td>2.0</td>\n",
       "      <td>3.0</td>\n",
       "      <td>62.00</td>\n",
       "    </tr>\n",
       "  </tbody>\n",
       "</table>\n",
       "</div>"
      ],
      "text/plain": [
       "              area_type   availability                  location       size  \\\n",
       "0  Super built-up  Area         19-Dec  Electronic City Phase II      2 BHK   \n",
       "1            Plot  Area  Ready To Move          Chikka Tirupathi  4 Bedroom   \n",
       "2        Built-up  Area  Ready To Move               Uttarahalli      3 BHK   \n",
       "\n",
       "   society total_sqft  bath  balcony   price  \n",
       "0  Coomee        1056   2.0      1.0   39.07  \n",
       "1  Theanmp       2600   5.0      3.0  120.00  \n",
       "2      NaN       1440   2.0      3.0   62.00  "
      ]
     },
     "execution_count": 2,
     "metadata": {},
     "output_type": "execute_result"
    }
   ],
   "source": [
    "df1 = pd.read_csv('../input/banglore-house-price-data/bengaluru_house_prices.csv')\n",
    "df1.head(3)"
   ]
  },
  {
   "cell_type": "code",
   "execution_count": 3,
   "id": "693f4f05",
   "metadata": {
    "execution": {
     "iopub.execute_input": "2022-05-11T15:25:55.210680Z",
     "iopub.status.busy": "2022-05-11T15:25:55.210074Z",
     "iopub.status.idle": "2022-05-11T15:25:55.237060Z",
     "shell.execute_reply": "2022-05-11T15:25:55.236481Z"
    },
    "papermill": {
     "duration": 0.059226,
     "end_time": "2022-05-11T15:25:55.239667",
     "exception": false,
     "start_time": "2022-05-11T15:25:55.180441",
     "status": "completed"
    },
    "tags": []
   },
   "outputs": [
    {
     "name": "stdout",
     "output_type": "stream",
     "text": [
      "<class 'pandas.core.frame.DataFrame'>\n",
      "RangeIndex: 13320 entries, 0 to 13319\n",
      "Data columns (total 9 columns):\n",
      " #   Column        Non-Null Count  Dtype  \n",
      "---  ------        --------------  -----  \n",
      " 0   area_type     13320 non-null  object \n",
      " 1   availability  13320 non-null  object \n",
      " 2   location      13319 non-null  object \n",
      " 3   size          13304 non-null  object \n",
      " 4   society       7818 non-null   object \n",
      " 5   total_sqft    13320 non-null  object \n",
      " 6   bath          13247 non-null  float64\n",
      " 7   balcony       12711 non-null  float64\n",
      " 8   price         13320 non-null  float64\n",
      "dtypes: float64(3), object(6)\n",
      "memory usage: 936.7+ KB\n"
     ]
    }
   ],
   "source": [
    "df1.info()"
   ]
  },
  {
   "cell_type": "code",
   "execution_count": 4,
   "id": "63d24c1a",
   "metadata": {
    "execution": {
     "iopub.execute_input": "2022-05-11T15:25:55.302908Z",
     "iopub.status.busy": "2022-05-11T15:25:55.302542Z",
     "iopub.status.idle": "2022-05-11T15:25:55.319497Z",
     "shell.execute_reply": "2022-05-11T15:25:55.318625Z"
    },
    "papermill": {
     "duration": 0.051046,
     "end_time": "2022-05-11T15:25:55.321366",
     "exception": false,
     "start_time": "2022-05-11T15:25:55.270320",
     "status": "completed"
    },
    "tags": []
   },
   "outputs": [
    {
     "data": {
      "text/html": [
       "<div>\n",
       "<style scoped>\n",
       "    .dataframe tbody tr th:only-of-type {\n",
       "        vertical-align: middle;\n",
       "    }\n",
       "\n",
       "    .dataframe tbody tr th {\n",
       "        vertical-align: top;\n",
       "    }\n",
       "\n",
       "    .dataframe thead th {\n",
       "        text-align: right;\n",
       "    }\n",
       "</style>\n",
       "<table border=\"1\" class=\"dataframe\">\n",
       "  <thead>\n",
       "    <tr style=\"text-align: right;\">\n",
       "      <th></th>\n",
       "      <th>location</th>\n",
       "      <th>size</th>\n",
       "      <th>total_sqft</th>\n",
       "      <th>bath</th>\n",
       "      <th>price</th>\n",
       "    </tr>\n",
       "  </thead>\n",
       "  <tbody>\n",
       "    <tr>\n",
       "      <th>0</th>\n",
       "      <td>Electronic City Phase II</td>\n",
       "      <td>2 BHK</td>\n",
       "      <td>1056</td>\n",
       "      <td>2.0</td>\n",
       "      <td>39.07</td>\n",
       "    </tr>\n",
       "    <tr>\n",
       "      <th>1</th>\n",
       "      <td>Chikka Tirupathi</td>\n",
       "      <td>4 Bedroom</td>\n",
       "      <td>2600</td>\n",
       "      <td>5.0</td>\n",
       "      <td>120.00</td>\n",
       "    </tr>\n",
       "    <tr>\n",
       "      <th>2</th>\n",
       "      <td>Uttarahalli</td>\n",
       "      <td>3 BHK</td>\n",
       "      <td>1440</td>\n",
       "      <td>2.0</td>\n",
       "      <td>62.00</td>\n",
       "    </tr>\n",
       "    <tr>\n",
       "      <th>3</th>\n",
       "      <td>Lingadheeranahalli</td>\n",
       "      <td>3 BHK</td>\n",
       "      <td>1521</td>\n",
       "      <td>3.0</td>\n",
       "      <td>95.00</td>\n",
       "    </tr>\n",
       "    <tr>\n",
       "      <th>4</th>\n",
       "      <td>Kothanur</td>\n",
       "      <td>2 BHK</td>\n",
       "      <td>1200</td>\n",
       "      <td>2.0</td>\n",
       "      <td>51.00</td>\n",
       "    </tr>\n",
       "  </tbody>\n",
       "</table>\n",
       "</div>"
      ],
      "text/plain": [
       "                   location       size total_sqft  bath   price\n",
       "0  Electronic City Phase II      2 BHK       1056   2.0   39.07\n",
       "1          Chikka Tirupathi  4 Bedroom       2600   5.0  120.00\n",
       "2               Uttarahalli      3 BHK       1440   2.0   62.00\n",
       "3        Lingadheeranahalli      3 BHK       1521   3.0   95.00\n",
       "4                  Kothanur      2 BHK       1200   2.0   51.00"
      ]
     },
     "execution_count": 4,
     "metadata": {},
     "output_type": "execute_result"
    }
   ],
   "source": [
    "df2 = df1.drop(['area_type','society','balcony','availability'], axis='columns')\n",
    "df2.head()"
   ]
  },
  {
   "cell_type": "markdown",
   "id": "6fcf4e69",
   "metadata": {
    "papermill": {
     "duration": 0.030966,
     "end_time": "2022-05-11T15:25:55.385528",
     "exception": false,
     "start_time": "2022-05-11T15:25:55.354562",
     "status": "completed"
    },
    "tags": []
   },
   "source": [
    "# Data cleaning : Handling NA values"
   ]
  },
  {
   "cell_type": "code",
   "execution_count": 5,
   "id": "59c573af",
   "metadata": {
    "execution": {
     "iopub.execute_input": "2022-05-11T15:25:55.446467Z",
     "iopub.status.busy": "2022-05-11T15:25:55.446142Z",
     "iopub.status.idle": "2022-05-11T15:25:55.454899Z",
     "shell.execute_reply": "2022-05-11T15:25:55.454371Z"
    },
    "papermill": {
     "duration": 0.041184,
     "end_time": "2022-05-11T15:25:55.456602",
     "exception": false,
     "start_time": "2022-05-11T15:25:55.415418",
     "status": "completed"
    },
    "tags": []
   },
   "outputs": [
    {
     "data": {
      "text/plain": [
       "location       1\n",
       "size          16\n",
       "total_sqft     0\n",
       "bath          73\n",
       "price          0\n",
       "dtype: int64"
      ]
     },
     "execution_count": 5,
     "metadata": {},
     "output_type": "execute_result"
    }
   ],
   "source": [
    "df2.isnull().sum()"
   ]
  },
  {
   "cell_type": "code",
   "execution_count": 6,
   "id": "78f678a9",
   "metadata": {
    "execution": {
     "iopub.execute_input": "2022-05-11T15:25:55.518734Z",
     "iopub.status.busy": "2022-05-11T15:25:55.518287Z",
     "iopub.status.idle": "2022-05-11T15:25:55.531119Z",
     "shell.execute_reply": "2022-05-11T15:25:55.530453Z"
    },
    "papermill": {
     "duration": 0.045937,
     "end_time": "2022-05-11T15:25:55.532871",
     "exception": false,
     "start_time": "2022-05-11T15:25:55.486934",
     "status": "completed"
    },
    "tags": []
   },
   "outputs": [
    {
     "data": {
      "text/plain": [
       "location      0\n",
       "size          0\n",
       "total_sqft    0\n",
       "bath          0\n",
       "price         0\n",
       "dtype: int64"
      ]
     },
     "execution_count": 6,
     "metadata": {},
     "output_type": "execute_result"
    }
   ],
   "source": [
    "df3 = df2.dropna()\n",
    "df3.isnull().sum()"
   ]
  },
  {
   "cell_type": "code",
   "execution_count": 7,
   "id": "f93b3c3b",
   "metadata": {
    "execution": {
     "iopub.execute_input": "2022-05-11T15:25:55.595107Z",
     "iopub.status.busy": "2022-05-11T15:25:55.594800Z",
     "iopub.status.idle": "2022-05-11T15:25:55.599879Z",
     "shell.execute_reply": "2022-05-11T15:25:55.599134Z"
    },
    "papermill": {
     "duration": 0.038639,
     "end_time": "2022-05-11T15:25:55.601699",
     "exception": false,
     "start_time": "2022-05-11T15:25:55.563060",
     "status": "completed"
    },
    "tags": []
   },
   "outputs": [
    {
     "data": {
      "text/plain": [
       "(13246, 5)"
      ]
     },
     "execution_count": 7,
     "metadata": {},
     "output_type": "execute_result"
    }
   ],
   "source": [
    "df3.shape"
   ]
  },
  {
   "cell_type": "markdown",
   "id": "8e1dfaaa",
   "metadata": {
    "papermill": {
     "duration": 0.030558,
     "end_time": "2022-05-11T15:25:55.663551",
     "exception": false,
     "start_time": "2022-05-11T15:25:55.632993",
     "status": "completed"
    },
    "tags": []
   },
   "source": [
    "# Feature Engineering"
   ]
  },
  {
   "cell_type": "markdown",
   "id": "212cff6f",
   "metadata": {
    "papermill": {
     "duration": 0.030272,
     "end_time": "2022-05-11T15:25:55.724503",
     "exception": false,
     "start_time": "2022-05-11T15:25:55.694231",
     "status": "completed"
    },
    "tags": []
   },
   "source": [
    "**Explore size column**"
   ]
  },
  {
   "cell_type": "code",
   "execution_count": 8,
   "id": "3a02cd55",
   "metadata": {
    "execution": {
     "iopub.execute_input": "2022-05-11T15:25:55.789935Z",
     "iopub.status.busy": "2022-05-11T15:25:55.788943Z",
     "iopub.status.idle": "2022-05-11T15:25:55.795576Z",
     "shell.execute_reply": "2022-05-11T15:25:55.794807Z"
    },
    "papermill": {
     "duration": 0.040815,
     "end_time": "2022-05-11T15:25:55.797359",
     "exception": false,
     "start_time": "2022-05-11T15:25:55.756544",
     "status": "completed"
    },
    "tags": []
   },
   "outputs": [
    {
     "data": {
      "text/plain": [
       "array(['2 BHK', '4 Bedroom', '3 BHK', '4 BHK', '6 Bedroom', '3 Bedroom',\n",
       "       '1 BHK', '1 RK', '1 Bedroom', '8 Bedroom', '2 Bedroom',\n",
       "       '7 Bedroom', '5 BHK', '7 BHK', '6 BHK', '5 Bedroom', '11 BHK',\n",
       "       '9 BHK', '9 Bedroom', '27 BHK', '10 Bedroom', '11 Bedroom',\n",
       "       '10 BHK', '19 BHK', '16 BHK', '43 Bedroom', '14 BHK', '8 BHK',\n",
       "       '12 Bedroom', '13 BHK', '18 Bedroom'], dtype=object)"
      ]
     },
     "execution_count": 8,
     "metadata": {},
     "output_type": "execute_result"
    }
   ],
   "source": [
    "df3['size'].unique()"
   ]
  },
  {
   "cell_type": "markdown",
   "id": "0092939c",
   "metadata": {
    "papermill": {
     "duration": 0.030644,
     "end_time": "2022-05-11T15:25:55.858663",
     "exception": false,
     "start_time": "2022-05-11T15:25:55.828019",
     "status": "completed"
    },
    "tags": []
   },
   "source": [
    "**Here above we can see that 4 Bedroom and 4 BHK are same and so on**"
   ]
  },
  {
   "cell_type": "code",
   "execution_count": 9,
   "id": "5c5d0ec9",
   "metadata": {
    "execution": {
     "iopub.execute_input": "2022-05-11T15:25:55.921903Z",
     "iopub.status.busy": "2022-05-11T15:25:55.921427Z",
     "iopub.status.idle": "2022-05-11T15:25:55.935359Z",
     "shell.execute_reply": "2022-05-11T15:25:55.934768Z"
    },
    "papermill": {
     "duration": 0.048012,
     "end_time": "2022-05-11T15:25:55.937310",
     "exception": false,
     "start_time": "2022-05-11T15:25:55.889298",
     "status": "completed"
    },
    "tags": []
   },
   "outputs": [
    {
     "name": "stderr",
     "output_type": "stream",
     "text": [
      "/opt/conda/lib/python3.7/site-packages/ipykernel_launcher.py:1: SettingWithCopyWarning: \n",
      "A value is trying to be set on a copy of a slice from a DataFrame.\n",
      "Try using .loc[row_indexer,col_indexer] = value instead\n",
      "\n",
      "See the caveats in the documentation: https://pandas.pydata.org/pandas-docs/stable/user_guide/indexing.html#returning-a-view-versus-a-copy\n",
      "  \"\"\"Entry point for launching an IPython kernel.\n"
     ]
    }
   ],
   "source": [
    "df3['bhk'] = df3['size'].apply(lambda x : int(x.split(' ')[0]))"
   ]
  },
  {
   "cell_type": "code",
   "execution_count": 10,
   "id": "b29b11e2",
   "metadata": {
    "execution": {
     "iopub.execute_input": "2022-05-11T15:25:56.000865Z",
     "iopub.status.busy": "2022-05-11T15:25:56.000446Z",
     "iopub.status.idle": "2022-05-11T15:25:56.012756Z",
     "shell.execute_reply": "2022-05-11T15:25:56.011826Z"
    },
    "papermill": {
     "duration": 0.046426,
     "end_time": "2022-05-11T15:25:56.014917",
     "exception": false,
     "start_time": "2022-05-11T15:25:55.968491",
     "status": "completed"
    },
    "tags": []
   },
   "outputs": [
    {
     "data": {
      "text/html": [
       "<div>\n",
       "<style scoped>\n",
       "    .dataframe tbody tr th:only-of-type {\n",
       "        vertical-align: middle;\n",
       "    }\n",
       "\n",
       "    .dataframe tbody tr th {\n",
       "        vertical-align: top;\n",
       "    }\n",
       "\n",
       "    .dataframe thead th {\n",
       "        text-align: right;\n",
       "    }\n",
       "</style>\n",
       "<table border=\"1\" class=\"dataframe\">\n",
       "  <thead>\n",
       "    <tr style=\"text-align: right;\">\n",
       "      <th></th>\n",
       "      <th>location</th>\n",
       "      <th>size</th>\n",
       "      <th>total_sqft</th>\n",
       "      <th>bath</th>\n",
       "      <th>price</th>\n",
       "      <th>bhk</th>\n",
       "    </tr>\n",
       "  </thead>\n",
       "  <tbody>\n",
       "    <tr>\n",
       "      <th>0</th>\n",
       "      <td>Electronic City Phase II</td>\n",
       "      <td>2 BHK</td>\n",
       "      <td>1056</td>\n",
       "      <td>2.0</td>\n",
       "      <td>39.07</td>\n",
       "      <td>2</td>\n",
       "    </tr>\n",
       "    <tr>\n",
       "      <th>1</th>\n",
       "      <td>Chikka Tirupathi</td>\n",
       "      <td>4 Bedroom</td>\n",
       "      <td>2600</td>\n",
       "      <td>5.0</td>\n",
       "      <td>120.00</td>\n",
       "      <td>4</td>\n",
       "    </tr>\n",
       "    <tr>\n",
       "      <th>2</th>\n",
       "      <td>Uttarahalli</td>\n",
       "      <td>3 BHK</td>\n",
       "      <td>1440</td>\n",
       "      <td>2.0</td>\n",
       "      <td>62.00</td>\n",
       "      <td>3</td>\n",
       "    </tr>\n",
       "    <tr>\n",
       "      <th>3</th>\n",
       "      <td>Lingadheeranahalli</td>\n",
       "      <td>3 BHK</td>\n",
       "      <td>1521</td>\n",
       "      <td>3.0</td>\n",
       "      <td>95.00</td>\n",
       "      <td>3</td>\n",
       "    </tr>\n",
       "    <tr>\n",
       "      <th>4</th>\n",
       "      <td>Kothanur</td>\n",
       "      <td>2 BHK</td>\n",
       "      <td>1200</td>\n",
       "      <td>2.0</td>\n",
       "      <td>51.00</td>\n",
       "      <td>2</td>\n",
       "    </tr>\n",
       "  </tbody>\n",
       "</table>\n",
       "</div>"
      ],
      "text/plain": [
       "                   location       size total_sqft  bath   price  bhk\n",
       "0  Electronic City Phase II      2 BHK       1056   2.0   39.07    2\n",
       "1          Chikka Tirupathi  4 Bedroom       2600   5.0  120.00    4\n",
       "2               Uttarahalli      3 BHK       1440   2.0   62.00    3\n",
       "3        Lingadheeranahalli      3 BHK       1521   3.0   95.00    3\n",
       "4                  Kothanur      2 BHK       1200   2.0   51.00    2"
      ]
     },
     "execution_count": 10,
     "metadata": {},
     "output_type": "execute_result"
    }
   ],
   "source": [
    "df3.head()"
   ]
  },
  {
   "cell_type": "markdown",
   "id": "0a111ff5",
   "metadata": {
    "papermill": {
     "duration": 0.032399,
     "end_time": "2022-05-11T15:25:56.080779",
     "exception": false,
     "start_time": "2022-05-11T15:25:56.048380",
     "status": "completed"
    },
    "tags": []
   },
   "source": [
    "**Explore total_sqft column**"
   ]
  },
  {
   "cell_type": "code",
   "execution_count": 11,
   "id": "1b88ff48",
   "metadata": {
    "execution": {
     "iopub.execute_input": "2022-05-11T15:25:56.145834Z",
     "iopub.status.busy": "2022-05-11T15:25:56.145560Z",
     "iopub.status.idle": "2022-05-11T15:25:56.152073Z",
     "shell.execute_reply": "2022-05-11T15:25:56.151334Z"
    },
    "papermill": {
     "duration": 0.041341,
     "end_time": "2022-05-11T15:25:56.153916",
     "exception": false,
     "start_time": "2022-05-11T15:25:56.112575",
     "status": "completed"
    },
    "tags": []
   },
   "outputs": [
    {
     "data": {
      "text/plain": [
       "array(['1056', '2600', '1440', ..., '1133 - 1384', '774', '4689'],\n",
       "      dtype=object)"
      ]
     },
     "execution_count": 11,
     "metadata": {},
     "output_type": "execute_result"
    }
   ],
   "source": [
    "df3['total_sqft'].unique()"
   ]
  },
  {
   "cell_type": "markdown",
   "id": "6ea3c1e2",
   "metadata": {
    "papermill": {
     "duration": 0.031549,
     "end_time": "2022-05-11T15:25:56.219519",
     "exception": false,
     "start_time": "2022-05-11T15:25:56.187970",
     "status": "completed"
    },
    "tags": []
   },
   "source": [
    "**Here above we can see that apart from the exact values the ranges also exist eg:-  '1133 - 1384' , and we can convert them into exact values by taking the mean**"
   ]
  },
  {
   "cell_type": "code",
   "execution_count": 12,
   "id": "67906cd6",
   "metadata": {
    "execution": {
     "iopub.execute_input": "2022-05-11T15:25:56.284671Z",
     "iopub.status.busy": "2022-05-11T15:25:56.284014Z",
     "iopub.status.idle": "2022-05-11T15:25:56.288441Z",
     "shell.execute_reply": "2022-05-11T15:25:56.287638Z"
    },
    "papermill": {
     "duration": 0.039221,
     "end_time": "2022-05-11T15:25:56.290135",
     "exception": false,
     "start_time": "2022-05-11T15:25:56.250914",
     "status": "completed"
    },
    "tags": []
   },
   "outputs": [],
   "source": [
    "# creating the is_float function to check the data in the column is float or not, using it to print non float values like ranges\n",
    "def is_float(x):\n",
    "    try:\n",
    "        float(x)\n",
    "    except:\n",
    "        return False\n",
    "    return True"
   ]
  },
  {
   "cell_type": "code",
   "execution_count": 13,
   "id": "1a0cf19b",
   "metadata": {
    "execution": {
     "iopub.execute_input": "2022-05-11T15:25:56.355070Z",
     "iopub.status.busy": "2022-05-11T15:25:56.354767Z",
     "iopub.status.idle": "2022-05-11T15:25:56.375697Z",
     "shell.execute_reply": "2022-05-11T15:25:56.375200Z"
    },
    "papermill": {
     "duration": 0.055409,
     "end_time": "2022-05-11T15:25:56.377427",
     "exception": false,
     "start_time": "2022-05-11T15:25:56.322018",
     "status": "completed"
    },
    "tags": []
   },
   "outputs": [
    {
     "data": {
      "text/html": [
       "<div>\n",
       "<style scoped>\n",
       "    .dataframe tbody tr th:only-of-type {\n",
       "        vertical-align: middle;\n",
       "    }\n",
       "\n",
       "    .dataframe tbody tr th {\n",
       "        vertical-align: top;\n",
       "    }\n",
       "\n",
       "    .dataframe thead th {\n",
       "        text-align: right;\n",
       "    }\n",
       "</style>\n",
       "<table border=\"1\" class=\"dataframe\">\n",
       "  <thead>\n",
       "    <tr style=\"text-align: right;\">\n",
       "      <th></th>\n",
       "      <th>location</th>\n",
       "      <th>size</th>\n",
       "      <th>total_sqft</th>\n",
       "      <th>bath</th>\n",
       "      <th>price</th>\n",
       "      <th>bhk</th>\n",
       "    </tr>\n",
       "  </thead>\n",
       "  <tbody>\n",
       "    <tr>\n",
       "      <th>30</th>\n",
       "      <td>Yelahanka</td>\n",
       "      <td>4 BHK</td>\n",
       "      <td>2100 - 2850</td>\n",
       "      <td>4.0</td>\n",
       "      <td>186.000</td>\n",
       "      <td>4</td>\n",
       "    </tr>\n",
       "    <tr>\n",
       "      <th>122</th>\n",
       "      <td>Hebbal</td>\n",
       "      <td>4 BHK</td>\n",
       "      <td>3067 - 8156</td>\n",
       "      <td>4.0</td>\n",
       "      <td>477.000</td>\n",
       "      <td>4</td>\n",
       "    </tr>\n",
       "    <tr>\n",
       "      <th>137</th>\n",
       "      <td>8th Phase JP Nagar</td>\n",
       "      <td>2 BHK</td>\n",
       "      <td>1042 - 1105</td>\n",
       "      <td>2.0</td>\n",
       "      <td>54.005</td>\n",
       "      <td>2</td>\n",
       "    </tr>\n",
       "    <tr>\n",
       "      <th>165</th>\n",
       "      <td>Sarjapur</td>\n",
       "      <td>2 BHK</td>\n",
       "      <td>1145 - 1340</td>\n",
       "      <td>2.0</td>\n",
       "      <td>43.490</td>\n",
       "      <td>2</td>\n",
       "    </tr>\n",
       "    <tr>\n",
       "      <th>188</th>\n",
       "      <td>KR Puram</td>\n",
       "      <td>2 BHK</td>\n",
       "      <td>1015 - 1540</td>\n",
       "      <td>2.0</td>\n",
       "      <td>56.800</td>\n",
       "      <td>2</td>\n",
       "    </tr>\n",
       "    <tr>\n",
       "      <th>...</th>\n",
       "      <td>...</td>\n",
       "      <td>...</td>\n",
       "      <td>...</td>\n",
       "      <td>...</td>\n",
       "      <td>...</td>\n",
       "      <td>...</td>\n",
       "    </tr>\n",
       "    <tr>\n",
       "      <th>12975</th>\n",
       "      <td>Whitefield</td>\n",
       "      <td>2 BHK</td>\n",
       "      <td>850 - 1060</td>\n",
       "      <td>2.0</td>\n",
       "      <td>38.190</td>\n",
       "      <td>2</td>\n",
       "    </tr>\n",
       "    <tr>\n",
       "      <th>12990</th>\n",
       "      <td>Talaghattapura</td>\n",
       "      <td>3 BHK</td>\n",
       "      <td>1804 - 2273</td>\n",
       "      <td>3.0</td>\n",
       "      <td>122.000</td>\n",
       "      <td>3</td>\n",
       "    </tr>\n",
       "    <tr>\n",
       "      <th>13059</th>\n",
       "      <td>Harlur</td>\n",
       "      <td>2 BHK</td>\n",
       "      <td>1200 - 1470</td>\n",
       "      <td>2.0</td>\n",
       "      <td>72.760</td>\n",
       "      <td>2</td>\n",
       "    </tr>\n",
       "    <tr>\n",
       "      <th>13265</th>\n",
       "      <td>Hoodi</td>\n",
       "      <td>2 BHK</td>\n",
       "      <td>1133 - 1384</td>\n",
       "      <td>2.0</td>\n",
       "      <td>59.135</td>\n",
       "      <td>2</td>\n",
       "    </tr>\n",
       "    <tr>\n",
       "      <th>13299</th>\n",
       "      <td>Whitefield</td>\n",
       "      <td>4 BHK</td>\n",
       "      <td>2830 - 2882</td>\n",
       "      <td>5.0</td>\n",
       "      <td>154.500</td>\n",
       "      <td>4</td>\n",
       "    </tr>\n",
       "  </tbody>\n",
       "</table>\n",
       "<p>190 rows × 6 columns</p>\n",
       "</div>"
      ],
      "text/plain": [
       "                 location   size   total_sqft  bath    price  bhk\n",
       "30              Yelahanka  4 BHK  2100 - 2850   4.0  186.000    4\n",
       "122                Hebbal  4 BHK  3067 - 8156   4.0  477.000    4\n",
       "137    8th Phase JP Nagar  2 BHK  1042 - 1105   2.0   54.005    2\n",
       "165              Sarjapur  2 BHK  1145 - 1340   2.0   43.490    2\n",
       "188              KR Puram  2 BHK  1015 - 1540   2.0   56.800    2\n",
       "...                   ...    ...          ...   ...      ...  ...\n",
       "12975          Whitefield  2 BHK   850 - 1060   2.0   38.190    2\n",
       "12990      Talaghattapura  3 BHK  1804 - 2273   3.0  122.000    3\n",
       "13059              Harlur  2 BHK  1200 - 1470   2.0   72.760    2\n",
       "13265               Hoodi  2 BHK  1133 - 1384   2.0   59.135    2\n",
       "13299          Whitefield  4 BHK  2830 - 2882   5.0  154.500    4\n",
       "\n",
       "[190 rows x 6 columns]"
      ]
     },
     "execution_count": 13,
     "metadata": {},
     "output_type": "execute_result"
    }
   ],
   "source": [
    "df3[~df3['total_sqft'].apply(is_float)]   # prints non float data"
   ]
  },
  {
   "cell_type": "code",
   "execution_count": 14,
   "id": "8397e066",
   "metadata": {
    "execution": {
     "iopub.execute_input": "2022-05-11T15:25:56.445014Z",
     "iopub.status.busy": "2022-05-11T15:25:56.444511Z",
     "iopub.status.idle": "2022-05-11T15:25:56.449180Z",
     "shell.execute_reply": "2022-05-11T15:25:56.448599Z"
    },
    "papermill": {
     "duration": 0.040577,
     "end_time": "2022-05-11T15:25:56.450868",
     "exception": false,
     "start_time": "2022-05-11T15:25:56.410291",
     "status": "completed"
    },
    "tags": []
   },
   "outputs": [],
   "source": [
    "def convert_range_to_num(x):\n",
    "    tokens = x.split('-')\n",
    "    if len(tokens) == 2:\n",
    "        return (float(tokens[0]) + float(tokens[1]))/2\n",
    "    \n",
    "    try:\n",
    "        return float(x)\n",
    "    except:\n",
    "        return None"
   ]
  },
  {
   "cell_type": "code",
   "execution_count": 15,
   "id": "889ae761",
   "metadata": {
    "execution": {
     "iopub.execute_input": "2022-05-11T15:25:56.517726Z",
     "iopub.status.busy": "2022-05-11T15:25:56.517236Z",
     "iopub.status.idle": "2022-05-11T15:25:56.522008Z",
     "shell.execute_reply": "2022-05-11T15:25:56.521281Z"
    },
    "papermill": {
     "duration": 0.040564,
     "end_time": "2022-05-11T15:25:56.523879",
     "exception": false,
     "start_time": "2022-05-11T15:25:56.483315",
     "status": "completed"
    },
    "tags": []
   },
   "outputs": [
    {
     "data": {
      "text/plain": [
       "3.25"
      ]
     },
     "execution_count": 15,
     "metadata": {},
     "output_type": "execute_result"
    }
   ],
   "source": [
    "convert_range_to_num('2 - 4.5')"
   ]
  },
  {
   "cell_type": "code",
   "execution_count": 16,
   "id": "0900e5e6",
   "metadata": {
    "execution": {
     "iopub.execute_input": "2022-05-11T15:25:56.590860Z",
     "iopub.status.busy": "2022-05-11T15:25:56.590585Z",
     "iopub.status.idle": "2022-05-11T15:25:56.605926Z",
     "shell.execute_reply": "2022-05-11T15:25:56.605033Z"
    },
    "papermill": {
     "duration": 0.05137,
     "end_time": "2022-05-11T15:25:56.607973",
     "exception": false,
     "start_time": "2022-05-11T15:25:56.556603",
     "status": "completed"
    },
    "tags": []
   },
   "outputs": [],
   "source": [
    "df4 = df3.copy()     # copy(): changes made on df4 will not reflect on df3\n",
    "df4['total_sqft'] = df4['total_sqft'].apply(lambda x : convert_range_to_num(x))\n"
   ]
  },
  {
   "cell_type": "code",
   "execution_count": 17,
   "id": "139781d0",
   "metadata": {
    "execution": {
     "iopub.execute_input": "2022-05-11T15:25:56.687235Z",
     "iopub.status.busy": "2022-05-11T15:25:56.686854Z",
     "iopub.status.idle": "2022-05-11T15:25:56.700817Z",
     "shell.execute_reply": "2022-05-11T15:25:56.700184Z"
    },
    "papermill": {
     "duration": 0.058907,
     "end_time": "2022-05-11T15:25:56.703895",
     "exception": false,
     "start_time": "2022-05-11T15:25:56.644988",
     "status": "completed"
    },
    "tags": []
   },
   "outputs": [
    {
     "data": {
      "text/html": [
       "<div>\n",
       "<style scoped>\n",
       "    .dataframe tbody tr th:only-of-type {\n",
       "        vertical-align: middle;\n",
       "    }\n",
       "\n",
       "    .dataframe tbody tr th {\n",
       "        vertical-align: top;\n",
       "    }\n",
       "\n",
       "    .dataframe thead th {\n",
       "        text-align: right;\n",
       "    }\n",
       "</style>\n",
       "<table border=\"1\" class=\"dataframe\">\n",
       "  <thead>\n",
       "    <tr style=\"text-align: right;\">\n",
       "      <th></th>\n",
       "      <th>location</th>\n",
       "      <th>size</th>\n",
       "      <th>total_sqft</th>\n",
       "      <th>bath</th>\n",
       "      <th>price</th>\n",
       "      <th>bhk</th>\n",
       "    </tr>\n",
       "  </thead>\n",
       "  <tbody>\n",
       "  </tbody>\n",
       "</table>\n",
       "</div>"
      ],
      "text/plain": [
       "Empty DataFrame\n",
       "Columns: [location, size, total_sqft, bath, price, bhk]\n",
       "Index: []"
      ]
     },
     "execution_count": 17,
     "metadata": {},
     "output_type": "execute_result"
    }
   ],
   "source": [
    "df4[~df4['total_sqft'].apply(is_float)] "
   ]
  },
  {
   "cell_type": "code",
   "execution_count": 18,
   "id": "24e5038b",
   "metadata": {
    "execution": {
     "iopub.execute_input": "2022-05-11T15:25:56.780746Z",
     "iopub.status.busy": "2022-05-11T15:25:56.780409Z",
     "iopub.status.idle": "2022-05-11T15:25:56.791980Z",
     "shell.execute_reply": "2022-05-11T15:25:56.791430Z"
    },
    "papermill": {
     "duration": 0.04822,
     "end_time": "2022-05-11T15:25:56.793720",
     "exception": false,
     "start_time": "2022-05-11T15:25:56.745500",
     "status": "completed"
    },
    "tags": []
   },
   "outputs": [
    {
     "data": {
      "text/html": [
       "<div>\n",
       "<style scoped>\n",
       "    .dataframe tbody tr th:only-of-type {\n",
       "        vertical-align: middle;\n",
       "    }\n",
       "\n",
       "    .dataframe tbody tr th {\n",
       "        vertical-align: top;\n",
       "    }\n",
       "\n",
       "    .dataframe thead th {\n",
       "        text-align: right;\n",
       "    }\n",
       "</style>\n",
       "<table border=\"1\" class=\"dataframe\">\n",
       "  <thead>\n",
       "    <tr style=\"text-align: right;\">\n",
       "      <th></th>\n",
       "      <th>location</th>\n",
       "      <th>size</th>\n",
       "      <th>total_sqft</th>\n",
       "      <th>bath</th>\n",
       "      <th>price</th>\n",
       "      <th>bhk</th>\n",
       "    </tr>\n",
       "  </thead>\n",
       "  <tbody>\n",
       "    <tr>\n",
       "      <th>0</th>\n",
       "      <td>Electronic City Phase II</td>\n",
       "      <td>2 BHK</td>\n",
       "      <td>1056.0</td>\n",
       "      <td>2.0</td>\n",
       "      <td>39.07</td>\n",
       "      <td>2</td>\n",
       "    </tr>\n",
       "    <tr>\n",
       "      <th>1</th>\n",
       "      <td>Chikka Tirupathi</td>\n",
       "      <td>4 Bedroom</td>\n",
       "      <td>2600.0</td>\n",
       "      <td>5.0</td>\n",
       "      <td>120.00</td>\n",
       "      <td>4</td>\n",
       "    </tr>\n",
       "    <tr>\n",
       "      <th>2</th>\n",
       "      <td>Uttarahalli</td>\n",
       "      <td>3 BHK</td>\n",
       "      <td>1440.0</td>\n",
       "      <td>2.0</td>\n",
       "      <td>62.00</td>\n",
       "      <td>3</td>\n",
       "    </tr>\n",
       "    <tr>\n",
       "      <th>3</th>\n",
       "      <td>Lingadheeranahalli</td>\n",
       "      <td>3 BHK</td>\n",
       "      <td>1521.0</td>\n",
       "      <td>3.0</td>\n",
       "      <td>95.00</td>\n",
       "      <td>3</td>\n",
       "    </tr>\n",
       "    <tr>\n",
       "      <th>4</th>\n",
       "      <td>Kothanur</td>\n",
       "      <td>2 BHK</td>\n",
       "      <td>1200.0</td>\n",
       "      <td>2.0</td>\n",
       "      <td>51.00</td>\n",
       "      <td>2</td>\n",
       "    </tr>\n",
       "  </tbody>\n",
       "</table>\n",
       "</div>"
      ],
      "text/plain": [
       "                   location       size  total_sqft  bath   price  bhk\n",
       "0  Electronic City Phase II      2 BHK      1056.0   2.0   39.07    2\n",
       "1          Chikka Tirupathi  4 Bedroom      2600.0   5.0  120.00    4\n",
       "2               Uttarahalli      3 BHK      1440.0   2.0   62.00    3\n",
       "3        Lingadheeranahalli      3 BHK      1521.0   3.0   95.00    3\n",
       "4                  Kothanur      2 BHK      1200.0   2.0   51.00    2"
      ]
     },
     "execution_count": 18,
     "metadata": {},
     "output_type": "execute_result"
    }
   ],
   "source": [
    "df4.head()"
   ]
  },
  {
   "cell_type": "markdown",
   "id": "7b58dd60",
   "metadata": {
    "papermill": {
     "duration": 0.033357,
     "end_time": "2022-05-11T15:25:56.860743",
     "exception": false,
     "start_time": "2022-05-11T15:25:56.827386",
     "status": "completed"
    },
    "tags": []
   },
   "source": [
    "**Adding new feature price per square feet**"
   ]
  },
  {
   "cell_type": "code",
   "execution_count": 19,
   "id": "c5b1a877",
   "metadata": {
    "execution": {
     "iopub.execute_input": "2022-05-11T15:25:56.929692Z",
     "iopub.status.busy": "2022-05-11T15:25:56.929403Z",
     "iopub.status.idle": "2022-05-11T15:25:56.943565Z",
     "shell.execute_reply": "2022-05-11T15:25:56.942960Z"
    },
    "papermill": {
     "duration": 0.050973,
     "end_time": "2022-05-11T15:25:56.945206",
     "exception": false,
     "start_time": "2022-05-11T15:25:56.894233",
     "status": "completed"
    },
    "tags": []
   },
   "outputs": [
    {
     "data": {
      "text/html": [
       "<div>\n",
       "<style scoped>\n",
       "    .dataframe tbody tr th:only-of-type {\n",
       "        vertical-align: middle;\n",
       "    }\n",
       "\n",
       "    .dataframe tbody tr th {\n",
       "        vertical-align: top;\n",
       "    }\n",
       "\n",
       "    .dataframe thead th {\n",
       "        text-align: right;\n",
       "    }\n",
       "</style>\n",
       "<table border=\"1\" class=\"dataframe\">\n",
       "  <thead>\n",
       "    <tr style=\"text-align: right;\">\n",
       "      <th></th>\n",
       "      <th>location</th>\n",
       "      <th>size</th>\n",
       "      <th>total_sqft</th>\n",
       "      <th>bath</th>\n",
       "      <th>price</th>\n",
       "      <th>bhk</th>\n",
       "      <th>price_per_sqft</th>\n",
       "    </tr>\n",
       "  </thead>\n",
       "  <tbody>\n",
       "    <tr>\n",
       "      <th>0</th>\n",
       "      <td>Electronic City Phase II</td>\n",
       "      <td>2 BHK</td>\n",
       "      <td>1056.0</td>\n",
       "      <td>2.0</td>\n",
       "      <td>39.07</td>\n",
       "      <td>2</td>\n",
       "      <td>3699.810606</td>\n",
       "    </tr>\n",
       "    <tr>\n",
       "      <th>1</th>\n",
       "      <td>Chikka Tirupathi</td>\n",
       "      <td>4 Bedroom</td>\n",
       "      <td>2600.0</td>\n",
       "      <td>5.0</td>\n",
       "      <td>120.00</td>\n",
       "      <td>4</td>\n",
       "      <td>4615.384615</td>\n",
       "    </tr>\n",
       "    <tr>\n",
       "      <th>2</th>\n",
       "      <td>Uttarahalli</td>\n",
       "      <td>3 BHK</td>\n",
       "      <td>1440.0</td>\n",
       "      <td>2.0</td>\n",
       "      <td>62.00</td>\n",
       "      <td>3</td>\n",
       "      <td>4305.555556</td>\n",
       "    </tr>\n",
       "    <tr>\n",
       "      <th>3</th>\n",
       "      <td>Lingadheeranahalli</td>\n",
       "      <td>3 BHK</td>\n",
       "      <td>1521.0</td>\n",
       "      <td>3.0</td>\n",
       "      <td>95.00</td>\n",
       "      <td>3</td>\n",
       "      <td>6245.890861</td>\n",
       "    </tr>\n",
       "    <tr>\n",
       "      <th>4</th>\n",
       "      <td>Kothanur</td>\n",
       "      <td>2 BHK</td>\n",
       "      <td>1200.0</td>\n",
       "      <td>2.0</td>\n",
       "      <td>51.00</td>\n",
       "      <td>2</td>\n",
       "      <td>4250.000000</td>\n",
       "    </tr>\n",
       "  </tbody>\n",
       "</table>\n",
       "</div>"
      ],
      "text/plain": [
       "                   location       size  total_sqft  bath   price  bhk  \\\n",
       "0  Electronic City Phase II      2 BHK      1056.0   2.0   39.07    2   \n",
       "1          Chikka Tirupathi  4 Bedroom      2600.0   5.0  120.00    4   \n",
       "2               Uttarahalli      3 BHK      1440.0   2.0   62.00    3   \n",
       "3        Lingadheeranahalli      3 BHK      1521.0   3.0   95.00    3   \n",
       "4                  Kothanur      2 BHK      1200.0   2.0   51.00    2   \n",
       "\n",
       "   price_per_sqft  \n",
       "0     3699.810606  \n",
       "1     4615.384615  \n",
       "2     4305.555556  \n",
       "3     6245.890861  \n",
       "4     4250.000000  "
      ]
     },
     "execution_count": 19,
     "metadata": {},
     "output_type": "execute_result"
    }
   ],
   "source": [
    "df5 = df4.copy()\n",
    "df5['price_per_sqft'] = df5['price']*100000/df5['total_sqft']\n",
    "df5.head()"
   ]
  },
  {
   "cell_type": "code",
   "execution_count": 20,
   "id": "c42c5c0e",
   "metadata": {
    "execution": {
     "iopub.execute_input": "2022-05-11T15:25:57.014332Z",
     "iopub.status.busy": "2022-05-11T15:25:57.014031Z",
     "iopub.status.idle": "2022-05-11T15:25:57.020824Z",
     "shell.execute_reply": "2022-05-11T15:25:57.020103Z"
    },
    "papermill": {
     "duration": 0.043566,
     "end_time": "2022-05-11T15:25:57.022569",
     "exception": false,
     "start_time": "2022-05-11T15:25:56.979003",
     "status": "completed"
    },
    "tags": []
   },
   "outputs": [
    {
     "data": {
      "text/plain": [
       "1304"
      ]
     },
     "execution_count": 20,
     "metadata": {},
     "output_type": "execute_result"
    }
   ],
   "source": [
    "len(df5.location.unique())"
   ]
  },
  {
   "cell_type": "code",
   "execution_count": 21,
   "id": "1ae812d4",
   "metadata": {
    "execution": {
     "iopub.execute_input": "2022-05-11T15:25:57.092360Z",
     "iopub.status.busy": "2022-05-11T15:25:57.092075Z",
     "iopub.status.idle": "2022-05-11T15:25:57.101755Z",
     "shell.execute_reply": "2022-05-11T15:25:57.100951Z"
    },
    "papermill": {
     "duration": 0.046735,
     "end_time": "2022-05-11T15:25:57.103625",
     "exception": false,
     "start_time": "2022-05-11T15:25:57.056890",
     "status": "completed"
    },
    "tags": []
   },
   "outputs": [
    {
     "data": {
      "text/plain": [
       "1293"
      ]
     },
     "execution_count": 21,
     "metadata": {},
     "output_type": "execute_result"
    }
   ],
   "source": [
    "df5.location = df5.location.apply(lambda x : x.strip())   # removes the unnecessary space\n",
    "len(df5.location.unique())"
   ]
  },
  {
   "cell_type": "markdown",
   "id": "ed397d8a",
   "metadata": {
    "papermill": {
     "duration": 0.034101,
     "end_time": "2022-05-11T15:25:57.172143",
     "exception": false,
     "start_time": "2022-05-11T15:25:57.138042",
     "status": "completed"
    },
    "tags": []
   },
   "source": [
    "**Dimensionality Reduction**"
   ]
  },
  {
   "cell_type": "code",
   "execution_count": 22,
   "id": "4bba43c1",
   "metadata": {
    "execution": {
     "iopub.execute_input": "2022-05-11T15:25:57.242853Z",
     "iopub.status.busy": "2022-05-11T15:25:57.242276Z",
     "iopub.status.idle": "2022-05-11T15:25:57.252977Z",
     "shell.execute_reply": "2022-05-11T15:25:57.252425Z"
    },
    "papermill": {
     "duration": 0.048081,
     "end_time": "2022-05-11T15:25:57.254706",
     "exception": false,
     "start_time": "2022-05-11T15:25:57.206625",
     "status": "completed"
    },
    "tags": []
   },
   "outputs": [
    {
     "data": {
      "text/plain": [
       "location\n",
       "Whitefield               535\n",
       "Sarjapur  Road           392\n",
       "Electronic City          304\n",
       "Kanakpura Road           266\n",
       "Thanisandra              236\n",
       "                        ... \n",
       "1 Giri Nagar               1\n",
       "Kanakapura Road,           1\n",
       "Kanakapura main  Road      1\n",
       "Karnataka Shabarimala      1\n",
       "whitefiled                 1\n",
       "Name: location, Length: 1293, dtype: int64"
      ]
     },
     "execution_count": 22,
     "metadata": {},
     "output_type": "execute_result"
    }
   ],
   "source": [
    "location_stats = df5.groupby('location')['location'].agg('count').sort_values(ascending=False)\n",
    "location_stats"
   ]
  },
  {
   "cell_type": "code",
   "execution_count": 23,
   "id": "a0d72588",
   "metadata": {
    "execution": {
     "iopub.execute_input": "2022-05-11T15:25:57.325343Z",
     "iopub.status.busy": "2022-05-11T15:25:57.325072Z",
     "iopub.status.idle": "2022-05-11T15:25:57.330516Z",
     "shell.execute_reply": "2022-05-11T15:25:57.329954Z"
    },
    "papermill": {
     "duration": 0.042659,
     "end_time": "2022-05-11T15:25:57.332112",
     "exception": false,
     "start_time": "2022-05-11T15:25:57.289453",
     "status": "completed"
    },
    "tags": []
   },
   "outputs": [
    {
     "data": {
      "text/plain": [
       "1052"
      ]
     },
     "execution_count": 23,
     "metadata": {},
     "output_type": "execute_result"
    }
   ],
   "source": [
    "len(location_stats[location_stats<=10])"
   ]
  },
  {
   "cell_type": "code",
   "execution_count": 24,
   "id": "e84518d2",
   "metadata": {
    "execution": {
     "iopub.execute_input": "2022-05-11T15:25:57.403487Z",
     "iopub.status.busy": "2022-05-11T15:25:57.402720Z",
     "iopub.status.idle": "2022-05-11T15:25:57.410221Z",
     "shell.execute_reply": "2022-05-11T15:25:57.409481Z"
    },
    "papermill": {
     "duration": 0.04521,
     "end_time": "2022-05-11T15:25:57.412025",
     "exception": false,
     "start_time": "2022-05-11T15:25:57.366815",
     "status": "completed"
    },
    "tags": []
   },
   "outputs": [
    {
     "data": {
      "text/plain": [
       "location\n",
       "Basapura                 10\n",
       "1st Block Koramangala    10\n",
       "Gunjur Palya             10\n",
       "Kalkere                  10\n",
       "Sector 1 HSR Layout      10\n",
       "                         ..\n",
       "1 Giri Nagar              1\n",
       "Kanakapura Road,          1\n",
       "Kanakapura main  Road     1\n",
       "Karnataka Shabarimala     1\n",
       "whitefiled                1\n",
       "Name: location, Length: 1052, dtype: int64"
      ]
     },
     "execution_count": 24,
     "metadata": {},
     "output_type": "execute_result"
    }
   ],
   "source": [
    "location_stats_less_then_10 = location_stats[location_stats<=10]\n",
    "location_stats_less_then_10"
   ]
  },
  {
   "cell_type": "code",
   "execution_count": 25,
   "id": "05ebdbcb",
   "metadata": {
    "execution": {
     "iopub.execute_input": "2022-05-11T15:25:57.483816Z",
     "iopub.status.busy": "2022-05-11T15:25:57.483543Z",
     "iopub.status.idle": "2022-05-11T15:25:57.510408Z",
     "shell.execute_reply": "2022-05-11T15:25:57.509574Z"
    },
    "papermill": {
     "duration": 0.064979,
     "end_time": "2022-05-11T15:25:57.512275",
     "exception": false,
     "start_time": "2022-05-11T15:25:57.447296",
     "status": "completed"
    },
    "tags": []
   },
   "outputs": [
    {
     "data": {
      "text/html": [
       "<div>\n",
       "<style scoped>\n",
       "    .dataframe tbody tr th:only-of-type {\n",
       "        vertical-align: middle;\n",
       "    }\n",
       "\n",
       "    .dataframe tbody tr th {\n",
       "        vertical-align: top;\n",
       "    }\n",
       "\n",
       "    .dataframe thead th {\n",
       "        text-align: right;\n",
       "    }\n",
       "</style>\n",
       "<table border=\"1\" class=\"dataframe\">\n",
       "  <thead>\n",
       "    <tr style=\"text-align: right;\">\n",
       "      <th></th>\n",
       "      <th>location</th>\n",
       "      <th>size</th>\n",
       "      <th>total_sqft</th>\n",
       "      <th>bath</th>\n",
       "      <th>price</th>\n",
       "      <th>bhk</th>\n",
       "      <th>price_per_sqft</th>\n",
       "    </tr>\n",
       "  </thead>\n",
       "  <tbody>\n",
       "    <tr>\n",
       "      <th>0</th>\n",
       "      <td>Electronic City Phase II</td>\n",
       "      <td>2 BHK</td>\n",
       "      <td>1056.0</td>\n",
       "      <td>2.0</td>\n",
       "      <td>39.07</td>\n",
       "      <td>2</td>\n",
       "      <td>3699.810606</td>\n",
       "    </tr>\n",
       "    <tr>\n",
       "      <th>1</th>\n",
       "      <td>Chikka Tirupathi</td>\n",
       "      <td>4 Bedroom</td>\n",
       "      <td>2600.0</td>\n",
       "      <td>5.0</td>\n",
       "      <td>120.00</td>\n",
       "      <td>4</td>\n",
       "      <td>4615.384615</td>\n",
       "    </tr>\n",
       "    <tr>\n",
       "      <th>2</th>\n",
       "      <td>Uttarahalli</td>\n",
       "      <td>3 BHK</td>\n",
       "      <td>1440.0</td>\n",
       "      <td>2.0</td>\n",
       "      <td>62.00</td>\n",
       "      <td>3</td>\n",
       "      <td>4305.555556</td>\n",
       "    </tr>\n",
       "    <tr>\n",
       "      <th>3</th>\n",
       "      <td>Lingadheeranahalli</td>\n",
       "      <td>3 BHK</td>\n",
       "      <td>1521.0</td>\n",
       "      <td>3.0</td>\n",
       "      <td>95.00</td>\n",
       "      <td>3</td>\n",
       "      <td>6245.890861</td>\n",
       "    </tr>\n",
       "    <tr>\n",
       "      <th>4</th>\n",
       "      <td>Kothanur</td>\n",
       "      <td>2 BHK</td>\n",
       "      <td>1200.0</td>\n",
       "      <td>2.0</td>\n",
       "      <td>51.00</td>\n",
       "      <td>2</td>\n",
       "      <td>4250.000000</td>\n",
       "    </tr>\n",
       "    <tr>\n",
       "      <th>5</th>\n",
       "      <td>Whitefield</td>\n",
       "      <td>2 BHK</td>\n",
       "      <td>1170.0</td>\n",
       "      <td>2.0</td>\n",
       "      <td>38.00</td>\n",
       "      <td>2</td>\n",
       "      <td>3247.863248</td>\n",
       "    </tr>\n",
       "    <tr>\n",
       "      <th>6</th>\n",
       "      <td>Old Airport Road</td>\n",
       "      <td>4 BHK</td>\n",
       "      <td>2732.0</td>\n",
       "      <td>4.0</td>\n",
       "      <td>204.00</td>\n",
       "      <td>4</td>\n",
       "      <td>7467.057101</td>\n",
       "    </tr>\n",
       "    <tr>\n",
       "      <th>7</th>\n",
       "      <td>Rajaji Nagar</td>\n",
       "      <td>4 BHK</td>\n",
       "      <td>3300.0</td>\n",
       "      <td>4.0</td>\n",
       "      <td>600.00</td>\n",
       "      <td>4</td>\n",
       "      <td>18181.818182</td>\n",
       "    </tr>\n",
       "    <tr>\n",
       "      <th>8</th>\n",
       "      <td>Marathahalli</td>\n",
       "      <td>3 BHK</td>\n",
       "      <td>1310.0</td>\n",
       "      <td>3.0</td>\n",
       "      <td>63.25</td>\n",
       "      <td>3</td>\n",
       "      <td>4828.244275</td>\n",
       "    </tr>\n",
       "    <tr>\n",
       "      <th>9</th>\n",
       "      <td>other</td>\n",
       "      <td>6 Bedroom</td>\n",
       "      <td>1020.0</td>\n",
       "      <td>6.0</td>\n",
       "      <td>370.00</td>\n",
       "      <td>6</td>\n",
       "      <td>36274.509804</td>\n",
       "    </tr>\n",
       "  </tbody>\n",
       "</table>\n",
       "</div>"
      ],
      "text/plain": [
       "                   location       size  total_sqft  bath   price  bhk  \\\n",
       "0  Electronic City Phase II      2 BHK      1056.0   2.0   39.07    2   \n",
       "1          Chikka Tirupathi  4 Bedroom      2600.0   5.0  120.00    4   \n",
       "2               Uttarahalli      3 BHK      1440.0   2.0   62.00    3   \n",
       "3        Lingadheeranahalli      3 BHK      1521.0   3.0   95.00    3   \n",
       "4                  Kothanur      2 BHK      1200.0   2.0   51.00    2   \n",
       "5                Whitefield      2 BHK      1170.0   2.0   38.00    2   \n",
       "6          Old Airport Road      4 BHK      2732.0   4.0  204.00    4   \n",
       "7              Rajaji Nagar      4 BHK      3300.0   4.0  600.00    4   \n",
       "8              Marathahalli      3 BHK      1310.0   3.0   63.25    3   \n",
       "9                     other  6 Bedroom      1020.0   6.0  370.00    6   \n",
       "\n",
       "   price_per_sqft  \n",
       "0     3699.810606  \n",
       "1     4615.384615  \n",
       "2     4305.555556  \n",
       "3     6245.890861  \n",
       "4     4250.000000  \n",
       "5     3247.863248  \n",
       "6     7467.057101  \n",
       "7    18181.818182  \n",
       "8     4828.244275  \n",
       "9    36274.509804  "
      ]
     },
     "execution_count": 25,
     "metadata": {},
     "output_type": "execute_result"
    }
   ],
   "source": [
    "df5.location = df5.location.apply(lambda x : 'other' if x in location_stats_less_then_10 else x)\n",
    "df5.head(10)"
   ]
  },
  {
   "cell_type": "code",
   "execution_count": 26,
   "id": "f61c7d8c",
   "metadata": {
    "execution": {
     "iopub.execute_input": "2022-05-11T15:25:57.585667Z",
     "iopub.status.busy": "2022-05-11T15:25:57.585388Z",
     "iopub.status.idle": "2022-05-11T15:25:57.592111Z",
     "shell.execute_reply": "2022-05-11T15:25:57.591281Z"
    },
    "papermill": {
     "duration": 0.045996,
     "end_time": "2022-05-11T15:25:57.594139",
     "exception": false,
     "start_time": "2022-05-11T15:25:57.548143",
     "status": "completed"
    },
    "tags": []
   },
   "outputs": [
    {
     "data": {
      "text/plain": [
       "242"
      ]
     },
     "execution_count": 26,
     "metadata": {},
     "output_type": "execute_result"
    }
   ],
   "source": [
    "len(df5.location.unique())"
   ]
  },
  {
   "cell_type": "markdown",
   "id": "1b339e36",
   "metadata": {
    "papermill": {
     "duration": 0.035882,
     "end_time": "2022-05-11T15:25:57.666446",
     "exception": false,
     "start_time": "2022-05-11T15:25:57.630564",
     "status": "completed"
    },
    "tags": []
   },
   "source": [
    "# **Outlier removal**"
   ]
  },
  {
   "cell_type": "code",
   "execution_count": 27,
   "id": "4264e369",
   "metadata": {
    "execution": {
     "iopub.execute_input": "2022-05-11T15:25:57.741820Z",
     "iopub.status.busy": "2022-05-11T15:25:57.741572Z",
     "iopub.status.idle": "2022-05-11T15:25:57.746350Z",
     "shell.execute_reply": "2022-05-11T15:25:57.745595Z"
    },
    "papermill": {
     "duration": 0.044781,
     "end_time": "2022-05-11T15:25:57.748439",
     "exception": false,
     "start_time": "2022-05-11T15:25:57.703658",
     "status": "completed"
    },
    "tags": []
   },
   "outputs": [
    {
     "data": {
      "text/plain": [
       "(13246, 7)"
      ]
     },
     "execution_count": 27,
     "metadata": {},
     "output_type": "execute_result"
    }
   ],
   "source": [
    "df5.shape"
   ]
  },
  {
   "cell_type": "code",
   "execution_count": 28,
   "id": "544daa41",
   "metadata": {
    "execution": {
     "iopub.execute_input": "2022-05-11T15:25:57.822221Z",
     "iopub.status.busy": "2022-05-11T15:25:57.821804Z",
     "iopub.status.idle": "2022-05-11T15:25:57.829845Z",
     "shell.execute_reply": "2022-05-11T15:25:57.829135Z"
    },
    "papermill": {
     "duration": 0.047167,
     "end_time": "2022-05-11T15:25:57.831559",
     "exception": false,
     "start_time": "2022-05-11T15:25:57.784392",
     "status": "completed"
    },
    "tags": []
   },
   "outputs": [
    {
     "data": {
      "text/plain": [
       "(12502, 7)"
      ]
     },
     "execution_count": 28,
     "metadata": {},
     "output_type": "execute_result"
    }
   ],
   "source": [
    "df6 = df5[~(df5.total_sqft/df5.bhk < 300)]\n",
    "df6.shape"
   ]
  },
  {
   "cell_type": "markdown",
   "id": "9e7e05e0",
   "metadata": {
    "papermill": {
     "duration": 0.038219,
     "end_time": "2022-05-11T15:25:57.907086",
     "exception": false,
     "start_time": "2022-05-11T15:25:57.868867",
     "status": "completed"
    },
    "tags": []
   },
   "source": [
    "**Removing outliers using mean and std**"
   ]
  },
  {
   "cell_type": "code",
   "execution_count": 29,
   "id": "38022080",
   "metadata": {
    "execution": {
     "iopub.execute_input": "2022-05-11T15:25:57.983212Z",
     "iopub.status.busy": "2022-05-11T15:25:57.982808Z",
     "iopub.status.idle": "2022-05-11T15:25:57.993548Z",
     "shell.execute_reply": "2022-05-11T15:25:57.992765Z"
    },
    "papermill": {
     "duration": 0.050715,
     "end_time": "2022-05-11T15:25:57.995351",
     "exception": false,
     "start_time": "2022-05-11T15:25:57.944636",
     "status": "completed"
    },
    "tags": []
   },
   "outputs": [
    {
     "data": {
      "text/plain": [
       "count     12456.000000\n",
       "mean       6308.502826\n",
       "std        4168.127339\n",
       "min         267.829813\n",
       "25%        4210.526316\n",
       "50%        5294.117647\n",
       "75%        6916.666667\n",
       "max      176470.588235\n",
       "Name: price_per_sqft, dtype: float64"
      ]
     },
     "execution_count": 29,
     "metadata": {},
     "output_type": "execute_result"
    }
   ],
   "source": [
    "df6.price_per_sqft.describe()"
   ]
  },
  {
   "cell_type": "code",
   "execution_count": 30,
   "id": "174f8459",
   "metadata": {
    "execution": {
     "iopub.execute_input": "2022-05-11T15:25:58.072875Z",
     "iopub.status.busy": "2022-05-11T15:25:58.072599Z",
     "iopub.status.idle": "2022-05-11T15:25:58.508031Z",
     "shell.execute_reply": "2022-05-11T15:25:58.507256Z"
    },
    "papermill": {
     "duration": 0.476487,
     "end_time": "2022-05-11T15:25:58.509972",
     "exception": false,
     "start_time": "2022-05-11T15:25:58.033485",
     "status": "completed"
    },
    "tags": []
   },
   "outputs": [
    {
     "data": {
      "text/plain": [
       "(10241, 7)"
      ]
     },
     "execution_count": 30,
     "metadata": {},
     "output_type": "execute_result"
    }
   ],
   "source": [
    "def remove_pps_outliers(df):\n",
    "    df_out = pd.DataFrame()\n",
    "    for key, subdf in df.groupby('location'):\n",
    "        m = np.mean(subdf.price_per_sqft)\n",
    "        st = np.std(subdf.price_per_sqft)\n",
    "        reduced_df = subdf[(subdf.price_per_sqft>(m-st)) & (subdf.price_per_sqft<=(m+st))]\n",
    "        df_out = pd.concat([df_out,reduced_df], ignore_index = True)\n",
    "    return df_out\n",
    "        \n",
    "df7 = remove_pps_outliers(df6)\n",
    "df7.shape"
   ]
  },
  {
   "cell_type": "code",
   "execution_count": 31,
   "id": "ffc5dd32",
   "metadata": {
    "execution": {
     "iopub.execute_input": "2022-05-11T15:25:58.587330Z",
     "iopub.status.busy": "2022-05-11T15:25:58.586555Z",
     "iopub.status.idle": "2022-05-11T15:25:58.908718Z",
     "shell.execute_reply": "2022-05-11T15:25:58.907885Z"
    },
    "papermill": {
     "duration": 0.363902,
     "end_time": "2022-05-11T15:25:58.911541",
     "exception": false,
     "start_time": "2022-05-11T15:25:58.547639",
     "status": "completed"
    },
    "tags": []
   },
   "outputs": [
    {
     "data": {
      "image/png": "[encoded data removed]",
      "text/plain": [
       "<Figure size 720x504 with 1 Axes>"
      ]
     },
     "metadata": {
      "needs_background": "light"
     },
     "output_type": "display_data"
    }
   ],
   "source": [
    "def plot_scatter_plot(df,location):\n",
    "    df_bhk2 = df[(df.location == location) & (df.bhk == 2)]\n",
    "    df_bhk3 = df[(df.location == location) & (df.bhk == 3)]\n",
    "    \n",
    "    plt.rcParams[\"figure.figsize\"] = (10,7)\n",
    "    plt.scatter(df_bhk2.total_sqft,df_bhk2.price, color='red')\n",
    "    plt.scatter(df_bhk3.total_sqft,df_bhk3.price, color='blue')\n",
    "    plt.xlabel(\"Total sq feet\")\n",
    "    plt.ylabel(\"Price in lakh\")\n",
    "    \n",
    "plot_scatter_plot(df7, \"Marathahalli\")"
   ]
  },
  {
   "cell_type": "markdown",
   "id": "7314d7be",
   "metadata": {
    "papermill": {
     "duration": 0.038447,
     "end_time": "2022-05-11T15:25:58.990311",
     "exception": false,
     "start_time": "2022-05-11T15:25:58.951864",
     "status": "completed"
    },
    "tags": []
   },
   "source": [
    "**Removing m bhk apartment whose price/sqfeet value is less than the mean of (m-1)bhk apartments**"
   ]
  },
  {
   "cell_type": "code",
   "execution_count": 32,
   "id": "9efd76d7",
   "metadata": {
    "execution": {
     "iopub.execute_input": "2022-05-11T15:25:59.068389Z",
     "iopub.status.busy": "2022-05-11T15:25:59.067761Z",
     "iopub.status.idle": "2022-05-11T15:25:59.683921Z",
     "shell.execute_reply": "2022-05-11T15:25:59.683032Z"
    },
    "papermill": {
     "duration": 0.657508,
     "end_time": "2022-05-11T15:25:59.685981",
     "exception": false,
     "start_time": "2022-05-11T15:25:59.028473",
     "status": "completed"
    },
    "tags": []
   },
   "outputs": [
    {
     "data": {
      "text/plain": [
       "(7329, 7)"
      ]
     },
     "execution_count": 32,
     "metadata": {},
     "output_type": "execute_result"
    }
   ],
   "source": [
    "def remove_bhk_outliers(df):\n",
    "    exclude_indices = np.array([])\n",
    "    for location, location_df in df.groupby('location'):\n",
    "        bhk_stats = {}\n",
    "        for bhk, bhk_df in location_df.groupby('bhk'):\n",
    "            bhk_stats[bhk] = {\n",
    "                'mean': np.mean(bhk_df.price_per_sqft),\n",
    "                'std':  np.mean(bhk_df.price_per_sqft),\n",
    "                'count': bhk_df.shape[0]\n",
    "            }\n",
    "            \n",
    "        for bhk, bhk_df in location_df.groupby('bhk'):\n",
    "            stats = bhk_stats.get(bhk-1)            \n",
    "            if stats and stats['count']>5:\n",
    "                exclude_indices = np.append(exclude_indices, bhk_df[bhk_df.price_per_sqft<(stats['mean'])].index.values)\n",
    "                \n",
    "    return df.drop(exclude_indices,axis='index')\n",
    "\n",
    "df8 = remove_bhk_outliers(df7)\n",
    "df8.shape"
   ]
  }
 ],
 "metadata": {
  "kernelspec": {
   "display_name": "Python 3",
   "language": "python",
   "name": "python3"
  },
  "language_info": {
   "codemirror_mode": {
    "name": "ipython",
    "version": 3
   },
   "file_extension": ".py",
   "mimetype": "text/x-python",
   "name": "python",
   "nbconvert_exporter": "python",
   "pygments_lexer": "ipython3",
   "version": "3.7.12"
  },
  "papermill": {
   "default_parameters": {},
   "duration": 13.890166,
   "end_time": "2022-05-11T15:26:00.343681",
   "environment_variables": {},
   "exception": null,
   "input_path": "__notebook__.ipynb",
   "output_path": "__notebook__.ipynb",
   "parameters": {},
   "start_time": "2022-05-11T15:25:46.453515",
   "version": "2.3.4"
  }
 },
 "nbformat": 4,
 "nbformat_minor": 5
}
