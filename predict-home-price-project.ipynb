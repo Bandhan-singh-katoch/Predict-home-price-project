{
 "cells": [
  {
   "cell_type": "code",
   "execution_count": 1,
   "id": "e7cdc8c2",
   "metadata": {
    "_cell_guid": "b1076dfc-b9ad-4769-8c92-a6c4dae69d19",
    "_uuid": "8f2839f25d086af736a60e9eeb907d3b93b6e0e5",
    "execution": {
     "iopub.execute_input": "2022-05-11T17:50:14.603217Z",
     "iopub.status.busy": "2022-05-11T17:50:14.602651Z",
     "iopub.status.idle": "2022-05-11T17:50:14.613035Z",
     "shell.execute_reply": "2022-05-11T17:50:14.612090Z"
    },
    "papermill": {
     "duration": 0.062838,
     "end_time": "2022-05-11T17:50:14.615610",
     "exception": false,
     "start_time": "2022-05-11T17:50:14.552772",
     "status": "completed"
    },
    "tags": []
   },
   "outputs": [],
   "source": [
    "import pandas as pd\n",
    "import numpy as np\n",
    "from matplotlib import pyplot as plt"
   ]
  },
  {
   "cell_type": "markdown",
   "id": "94bfa171",
   "metadata": {
    "papermill": {
     "duration": 0.046585,
     "end_time": "2022-05-11T17:50:14.709455",
     "exception": false,
     "start_time": "2022-05-11T17:50:14.662870",
     "status": "completed"
    },
    "tags": []
   },
   "source": [
    "# Load Data"
   ]
  },
  {
   "cell_type": "code",
   "execution_count": 2,
   "id": "a270d2e5",
   "metadata": {
    "execution": {
     "iopub.execute_input": "2022-05-11T17:50:14.809601Z",
     "iopub.status.busy": "2022-05-11T17:50:14.809052Z",
     "iopub.status.idle": "2022-05-11T17:50:14.889869Z",
     "shell.execute_reply": "2022-05-11T17:50:14.888699Z"
    },
    "papermill": {
     "duration": 0.135476,
     "end_time": "2022-05-11T17:50:14.894129",
     "exception": false,
     "start_time": "2022-05-11T17:50:14.758653",
     "status": "completed"
    },
    "tags": []
   },
   "outputs": [
    {
     "data": {
      "text/html": [
       "<div>\n",
       "<style scoped>\n",
       "    .dataframe tbody tr th:only-of-type {\n",
       "        vertical-align: middle;\n",
       "    }\n",
       "\n",
       "    .dataframe tbody tr th {\n",
       "        vertical-align: top;\n",
       "    }\n",
       "\n",
       "    .dataframe thead th {\n",
       "        text-align: right;\n",
       "    }\n",
       "</style>\n",
       "<table border=\"1\" class=\"dataframe\">\n",
       "  <thead>\n",
       "    <tr style=\"text-align: right;\">\n",
       "      <th></th>\n",
       "      <th>area_type</th>\n",
       "      <th>availability</th>\n",
       "      <th>location</th>\n",
       "      <th>size</th>\n",
       "      <th>society</th>\n",
       "      <th>total_sqft</th>\n",
       "      <th>bath</th>\n",
       "      <th>balcony</th>\n",
       "      <th>price</th>\n",
       "    </tr>\n",
       "  </thead>\n",
       "  <tbody>\n",
       "    <tr>\n",
       "      <th>0</th>\n",
       "      <td>Super built-up  Area</td>\n",
       "      <td>19-Dec</td>\n",
       "      <td>Electronic City Phase II</td>\n",
       "      <td>2 BHK</td>\n",
       "      <td>Coomee</td>\n",
       "      <td>1056</td>\n",
       "      <td>2.0</td>\n",
       "      <td>1.0</td>\n",
       "      <td>39.07</td>\n",
       "    </tr>\n",
       "    <tr>\n",
       "      <th>1</th>\n",
       "      <td>Plot  Area</td>\n",
       "      <td>Ready To Move</td>\n",
       "      <td>Chikka Tirupathi</td>\n",
       "      <td>4 Bedroom</td>\n",
       "      <td>Theanmp</td>\n",
       "      <td>2600</td>\n",
       "      <td>5.0</td>\n",
       "      <td>3.0</td>\n",
       "      <td>120.00</td>\n",
       "    </tr>\n",
       "    <tr>\n",
       "      <th>2</th>\n",
       "      <td>Built-up  Area</td>\n",
       "      <td>Ready To Move</td>\n",
       "      <td>Uttarahalli</td>\n",
       "      <td>3 BHK</td>\n",
       "      <td>NaN</td>\n",
       "      <td>1440</td>\n",
       "      <td>2.0</td>\n",
       "      <td>3.0</td>\n",
       "      <td>62.00</td>\n",
       "    </tr>\n",
       "  </tbody>\n",
       "</table>\n",
       "</div>"
      ],
      "text/plain": [
       "              area_type   availability                  location       size  \\\n",
       "0  Super built-up  Area         19-Dec  Electronic City Phase II      2 BHK   \n",
       "1            Plot  Area  Ready To Move          Chikka Tirupathi  4 Bedroom   \n",
       "2        Built-up  Area  Ready To Move               Uttarahalli      3 BHK   \n",
       "\n",
       "   society total_sqft  bath  balcony   price  \n",
       "0  Coomee        1056   2.0      1.0   39.07  \n",
       "1  Theanmp       2600   5.0      3.0  120.00  \n",
       "2      NaN       1440   2.0      3.0   62.00  "
      ]
     },
     "execution_count": 2,
     "metadata": {},
     "output_type": "execute_result"
    }
   ],
   "source": [
    "df1 = pd.read_csv('../input/banglore-house-price-data/bengaluru_house_prices.csv')\n",
    "df1.head(3)"
   ]
  },
  {
   "cell_type": "code",
   "execution_count": 3,
   "id": "cd927d3e",
   "metadata": {
    "execution": {
     "iopub.execute_input": "2022-05-11T17:50:14.995487Z",
     "iopub.status.busy": "2022-05-11T17:50:14.994721Z",
     "iopub.status.idle": "2022-05-11T17:50:15.029944Z",
     "shell.execute_reply": "2022-05-11T17:50:15.029298Z"
    },
    "papermill": {
     "duration": 0.087546,
     "end_time": "2022-05-11T17:50:15.033206",
     "exception": false,
     "start_time": "2022-05-11T17:50:14.945660",
     "status": "completed"
    },
    "tags": []
   },
   "outputs": [
    {
     "name": "stdout",
     "output_type": "stream",
     "text": [
      "<class 'pandas.core.frame.DataFrame'>\n",
      "RangeIndex: 13320 entries, 0 to 13319\n",
      "Data columns (total 9 columns):\n",
      " #   Column        Non-Null Count  Dtype  \n",
      "---  ------        --------------  -----  \n",
      " 0   area_type     13320 non-null  object \n",
      " 1   availability  13320 non-null  object \n",
      " 2   location      13319 non-null  object \n",
      " 3   size          13304 non-null  object \n",
      " 4   society       7818 non-null   object \n",
      " 5   total_sqft    13320 non-null  object \n",
      " 6   bath          13247 non-null  float64\n",
      " 7   balcony       12711 non-null  float64\n",
      " 8   price         13320 non-null  float64\n",
      "dtypes: float64(3), object(6)\n",
      "memory usage: 936.7+ KB\n"
     ]
    }
   ],
   "source": [
    "df1.info()"
   ]
  },
  {
   "cell_type": "code",
   "execution_count": 4,
   "id": "2fe923b0",
   "metadata": {
    "execution": {
     "iopub.execute_input": "2022-05-11T17:50:15.133276Z",
     "iopub.status.busy": "2022-05-11T17:50:15.132737Z",
     "iopub.status.idle": "2022-05-11T17:50:15.148829Z",
     "shell.execute_reply": "2022-05-11T17:50:15.148218Z"
    },
    "papermill": {
     "duration": 0.067038,
     "end_time": "2022-05-11T17:50:15.150709",
     "exception": false,
     "start_time": "2022-05-11T17:50:15.083671",
     "status": "completed"
    },
    "tags": []
   },
   "outputs": [
    {
     "data": {
      "text/html": [
       "<div>\n",
       "<style scoped>\n",
       "    .dataframe tbody tr th:only-of-type {\n",
       "        vertical-align: middle;\n",
       "    }\n",
       "\n",
       "    .dataframe tbody tr th {\n",
       "        vertical-align: top;\n",
       "    }\n",
       "\n",
       "    .dataframe thead th {\n",
       "        text-align: right;\n",
       "    }\n",
       "</style>\n",
       "<table border=\"1\" class=\"dataframe\">\n",
       "  <thead>\n",
       "    <tr style=\"text-align: right;\">\n",
       "      <th></th>\n",
       "      <th>location</th>\n",
       "      <th>size</th>\n",
       "      <th>total_sqft</th>\n",
       "      <th>bath</th>\n",
       "      <th>price</th>\n",
       "    </tr>\n",
       "  </thead>\n",
       "  <tbody>\n",
       "    <tr>\n",
       "      <th>0</th>\n",
       "      <td>Electronic City Phase II</td>\n",
       "      <td>2 BHK</td>\n",
       "      <td>1056</td>\n",
       "      <td>2.0</td>\n",
       "      <td>39.07</td>\n",
       "    </tr>\n",
       "    <tr>\n",
       "      <th>1</th>\n",
       "      <td>Chikka Tirupathi</td>\n",
       "      <td>4 Bedroom</td>\n",
       "      <td>2600</td>\n",
       "      <td>5.0</td>\n",
       "      <td>120.00</td>\n",
       "    </tr>\n",
       "    <tr>\n",
       "      <th>2</th>\n",
       "      <td>Uttarahalli</td>\n",
       "      <td>3 BHK</td>\n",
       "      <td>1440</td>\n",
       "      <td>2.0</td>\n",
       "      <td>62.00</td>\n",
       "    </tr>\n",
       "    <tr>\n",
       "      <th>3</th>\n",
       "      <td>Lingadheeranahalli</td>\n",
       "      <td>3 BHK</td>\n",
       "      <td>1521</td>\n",
       "      <td>3.0</td>\n",
       "      <td>95.00</td>\n",
       "    </tr>\n",
       "    <tr>\n",
       "      <th>4</th>\n",
       "      <td>Kothanur</td>\n",
       "      <td>2 BHK</td>\n",
       "      <td>1200</td>\n",
       "      <td>2.0</td>\n",
       "      <td>51.00</td>\n",
       "    </tr>\n",
       "  </tbody>\n",
       "</table>\n",
       "</div>"
      ],
      "text/plain": [
       "                   location       size total_sqft  bath   price\n",
       "0  Electronic City Phase II      2 BHK       1056   2.0   39.07\n",
       "1          Chikka Tirupathi  4 Bedroom       2600   5.0  120.00\n",
       "2               Uttarahalli      3 BHK       1440   2.0   62.00\n",
       "3        Lingadheeranahalli      3 BHK       1521   3.0   95.00\n",
       "4                  Kothanur      2 BHK       1200   2.0   51.00"
      ]
     },
     "execution_count": 4,
     "metadata": {},
     "output_type": "execute_result"
    }
   ],
   "source": [
    "df2 = df1.drop(['area_type','society','balcony','availability'], axis='columns')\n",
    "df2.head()"
   ]
  },
  {
   "cell_type": "markdown",
   "id": "be23136f",
   "metadata": {
    "papermill": {
     "duration": 0.047221,
     "end_time": "2022-05-11T17:50:15.247640",
     "exception": false,
     "start_time": "2022-05-11T17:50:15.200419",
     "status": "completed"
    },
    "tags": []
   },
   "source": [
    "# Data cleaning : Handling NA values"
   ]
  },
  {
   "cell_type": "code",
   "execution_count": 5,
   "id": "92cb312b",
   "metadata": {
    "execution": {
     "iopub.execute_input": "2022-05-11T17:50:15.345213Z",
     "iopub.status.busy": "2022-05-11T17:50:15.344506Z",
     "iopub.status.idle": "2022-05-11T17:50:15.358204Z",
     "shell.execute_reply": "2022-05-11T17:50:15.357285Z"
    },
    "papermill": {
     "duration": 0.065629,
     "end_time": "2022-05-11T17:50:15.360481",
     "exception": false,
     "start_time": "2022-05-11T17:50:15.294852",
     "status": "completed"
    },
    "tags": []
   },
   "outputs": [
    {
     "data": {
      "text/plain": [
       "location       1\n",
       "size          16\n",
       "total_sqft     0\n",
       "bath          73\n",
       "price          0\n",
       "dtype: int64"
      ]
     },
     "execution_count": 5,
     "metadata": {},
     "output_type": "execute_result"
    }
   ],
   "source": [
    "df2.isnull().sum()"
   ]
  },
  {
   "cell_type": "code",
   "execution_count": 6,
   "id": "4d866b1f",
   "metadata": {
    "execution": {
     "iopub.execute_input": "2022-05-11T17:50:15.458170Z",
     "iopub.status.busy": "2022-05-11T17:50:15.457836Z",
     "iopub.status.idle": "2022-05-11T17:50:15.480327Z",
     "shell.execute_reply": "2022-05-11T17:50:15.479408Z"
    },
    "papermill": {
     "duration": 0.074543,
     "end_time": "2022-05-11T17:50:15.482502",
     "exception": false,
     "start_time": "2022-05-11T17:50:15.407959",
     "status": "completed"
    },
    "tags": []
   },
   "outputs": [
    {
     "data": {
      "text/plain": [
       "location      0\n",
       "size          0\n",
       "total_sqft    0\n",
       "bath          0\n",
       "price         0\n",
       "dtype: int64"
      ]
     },
     "execution_count": 6,
     "metadata": {},
     "output_type": "execute_result"
    }
   ],
   "source": [
    "df3 = df2.dropna()\n",
    "df3.isnull().sum()"
   ]
  },
  {
   "cell_type": "code",
   "execution_count": 7,
   "id": "efd9cc46",
   "metadata": {
    "execution": {
     "iopub.execute_input": "2022-05-11T17:50:15.582376Z",
     "iopub.status.busy": "2022-05-11T17:50:15.582044Z",
     "iopub.status.idle": "2022-05-11T17:50:15.588230Z",
     "shell.execute_reply": "2022-05-11T17:50:15.587350Z"
    },
    "papermill": {
     "duration": 0.059936,
     "end_time": "2022-05-11T17:50:15.590292",
     "exception": false,
     "start_time": "2022-05-11T17:50:15.530356",
     "status": "completed"
    },
    "tags": []
   },
   "outputs": [
    {
     "data": {
      "text/plain": [
       "(13246, 5)"
      ]
     },
     "execution_count": 7,
     "metadata": {},
     "output_type": "execute_result"
    }
   ],
   "source": [
    "df3.shape"
   ]
  },
  {
   "cell_type": "markdown",
   "id": "2699824a",
   "metadata": {
    "papermill": {
     "duration": 0.048097,
     "end_time": "2022-05-11T17:50:15.689373",
     "exception": false,
     "start_time": "2022-05-11T17:50:15.641276",
     "status": "completed"
    },
    "tags": []
   },
   "source": [
    "# Feature Engineering"
   ]
  },
  {
   "cell_type": "markdown",
   "id": "521bda3d",
   "metadata": {
    "papermill": {
     "duration": 0.049111,
     "end_time": "2022-05-11T17:50:15.786986",
     "exception": false,
     "start_time": "2022-05-11T17:50:15.737875",
     "status": "completed"
    },
    "tags": []
   },
   "source": [
    "**Explore size column**"
   ]
  },
  {
   "cell_type": "code",
   "execution_count": 8,
   "id": "840e3bf6",
   "metadata": {
    "execution": {
     "iopub.execute_input": "2022-05-11T17:50:15.886482Z",
     "iopub.status.busy": "2022-05-11T17:50:15.886168Z",
     "iopub.status.idle": "2022-05-11T17:50:15.893670Z",
     "shell.execute_reply": "2022-05-11T17:50:15.893079Z"
    },
    "papermill": {
     "duration": 0.059737,
     "end_time": "2022-05-11T17:50:15.895659",
     "exception": false,
     "start_time": "2022-05-11T17:50:15.835922",
     "status": "completed"
    },
    "tags": []
   },
   "outputs": [
    {
     "data": {
      "text/plain": [
       "array(['2 BHK', '4 Bedroom', '3 BHK', '4 BHK', '6 Bedroom', '3 Bedroom',\n",
       "       '1 BHK', '1 RK', '1 Bedroom', '8 Bedroom', '2 Bedroom',\n",
       "       '7 Bedroom', '5 BHK', '7 BHK', '6 BHK', '5 Bedroom', '11 BHK',\n",
       "       '9 BHK', '9 Bedroom', '27 BHK', '10 Bedroom', '11 Bedroom',\n",
       "       '10 BHK', '19 BHK', '16 BHK', '43 Bedroom', '14 BHK', '8 BHK',\n",
       "       '12 Bedroom', '13 BHK', '18 Bedroom'], dtype=object)"
      ]
     },
     "execution_count": 8,
     "metadata": {},
     "output_type": "execute_result"
    }
   ],
   "source": [
    "df3['size'].unique()"
   ]
  },
  {
   "cell_type": "markdown",
   "id": "0a12f563",
   "metadata": {
    "papermill": {
     "duration": 0.049381,
     "end_time": "2022-05-11T17:50:15.996415",
     "exception": false,
     "start_time": "2022-05-11T17:50:15.947034",
     "status": "completed"
    },
    "tags": []
   },
   "source": [
    "**Here above we can see that 4 Bedroom and 4 BHK are same and so on**"
   ]
  },
  {
   "cell_type": "code",
   "execution_count": 9,
   "id": "e5d1f4ad",
   "metadata": {
    "execution": {
     "iopub.execute_input": "2022-05-11T17:50:16.098243Z",
     "iopub.status.busy": "2022-05-11T17:50:16.097759Z",
     "iopub.status.idle": "2022-05-11T17:50:16.118115Z",
     "shell.execute_reply": "2022-05-11T17:50:16.117381Z"
    },
    "papermill": {
     "duration": 0.073871,
     "end_time": "2022-05-11T17:50:16.120112",
     "exception": false,
     "start_time": "2022-05-11T17:50:16.046241",
     "status": "completed"
    },
    "tags": []
   },
   "outputs": [
    {
     "name": "stderr",
     "output_type": "stream",
     "text": [
      "/opt/conda/lib/python3.7/site-packages/ipykernel_launcher.py:1: SettingWithCopyWarning: \n",
      "A value is trying to be set on a copy of a slice from a DataFrame.\n",
      "Try using .loc[row_indexer,col_indexer] = value instead\n",
      "\n",
      "See the caveats in the documentation: https://pandas.pydata.org/pandas-docs/stable/user_guide/indexing.html#returning-a-view-versus-a-copy\n",
      "  \"\"\"Entry point for launching an IPython kernel.\n"
     ]
    }
   ],
   "source": [
    "df3['bhk'] = df3['size'].apply(lambda x : int(x.split(' ')[0]))"
   ]
  },
  {
   "cell_type": "code",
   "execution_count": 10,
   "id": "409744dc",
   "metadata": {
    "execution": {
     "iopub.execute_input": "2022-05-11T17:50:16.220437Z",
     "iopub.status.busy": "2022-05-11T17:50:16.220126Z",
     "iopub.status.idle": "2022-05-11T17:50:16.234140Z",
     "shell.execute_reply": "2022-05-11T17:50:16.233316Z"
    },
    "papermill": {
     "duration": 0.06674,
     "end_time": "2022-05-11T17:50:16.236219",
     "exception": false,
     "start_time": "2022-05-11T17:50:16.169479",
     "status": "completed"
    },
    "tags": []
   },
   "outputs": [
    {
     "data": {
      "text/html": [
       "<div>\n",
       "<style scoped>\n",
       "    .dataframe tbody tr th:only-of-type {\n",
       "        vertical-align: middle;\n",
       "    }\n",
       "\n",
       "    .dataframe tbody tr th {\n",
       "        vertical-align: top;\n",
       "    }\n",
       "\n",
       "    .dataframe thead th {\n",
       "        text-align: right;\n",
       "    }\n",
       "</style>\n",
       "<table border=\"1\" class=\"dataframe\">\n",
       "  <thead>\n",
       "    <tr style=\"text-align: right;\">\n",
       "      <th></th>\n",
       "      <th>location</th>\n",
       "      <th>size</th>\n",
       "      <th>total_sqft</th>\n",
       "      <th>bath</th>\n",
       "      <th>price</th>\n",
       "      <th>bhk</th>\n",
       "    </tr>\n",
       "  </thead>\n",
       "  <tbody>\n",
       "    <tr>\n",
       "      <th>0</th>\n",
       "      <td>Electronic City Phase II</td>\n",
       "      <td>2 BHK</td>\n",
       "      <td>1056</td>\n",
       "      <td>2.0</td>\n",
       "      <td>39.07</td>\n",
       "      <td>2</td>\n",
       "    </tr>\n",
       "    <tr>\n",
       "      <th>1</th>\n",
       "      <td>Chikka Tirupathi</td>\n",
       "      <td>4 Bedroom</td>\n",
       "      <td>2600</td>\n",
       "      <td>5.0</td>\n",
       "      <td>120.00</td>\n",
       "      <td>4</td>\n",
       "    </tr>\n",
       "    <tr>\n",
       "      <th>2</th>\n",
       "      <td>Uttarahalli</td>\n",
       "      <td>3 BHK</td>\n",
       "      <td>1440</td>\n",
       "      <td>2.0</td>\n",
       "      <td>62.00</td>\n",
       "      <td>3</td>\n",
       "    </tr>\n",
       "    <tr>\n",
       "      <th>3</th>\n",
       "      <td>Lingadheeranahalli</td>\n",
       "      <td>3 BHK</td>\n",
       "      <td>1521</td>\n",
       "      <td>3.0</td>\n",
       "      <td>95.00</td>\n",
       "      <td>3</td>\n",
       "    </tr>\n",
       "    <tr>\n",
       "      <th>4</th>\n",
       "      <td>Kothanur</td>\n",
       "      <td>2 BHK</td>\n",
       "      <td>1200</td>\n",
       "      <td>2.0</td>\n",
       "      <td>51.00</td>\n",
       "      <td>2</td>\n",
       "    </tr>\n",
       "  </tbody>\n",
       "</table>\n",
       "</div>"
      ],
      "text/plain": [
       "                   location       size total_sqft  bath   price  bhk\n",
       "0  Electronic City Phase II      2 BHK       1056   2.0   39.07    2\n",
       "1          Chikka Tirupathi  4 Bedroom       2600   5.0  120.00    4\n",
       "2               Uttarahalli      3 BHK       1440   2.0   62.00    3\n",
       "3        Lingadheeranahalli      3 BHK       1521   3.0   95.00    3\n",
       "4                  Kothanur      2 BHK       1200   2.0   51.00    2"
      ]
     },
     "execution_count": 10,
     "metadata": {},
     "output_type": "execute_result"
    }
   ],
   "source": [
    "df3.head()"
   ]
  },
  {
   "cell_type": "markdown",
   "id": "23e1f85d",
   "metadata": {
    "papermill": {
     "duration": 0.049623,
     "end_time": "2022-05-11T17:50:16.336741",
     "exception": false,
     "start_time": "2022-05-11T17:50:16.287118",
     "status": "completed"
    },
    "tags": []
   },
   "source": [
    "**Explore total_sqft column**"
   ]
  },
  {
   "cell_type": "code",
   "execution_count": 11,
   "id": "0cef3229",
   "metadata": {
    "execution": {
     "iopub.execute_input": "2022-05-11T17:50:16.438571Z",
     "iopub.status.busy": "2022-05-11T17:50:16.437939Z",
     "iopub.status.idle": "2022-05-11T17:50:16.445468Z",
     "shell.execute_reply": "2022-05-11T17:50:16.444854Z"
    },
    "papermill": {
     "duration": 0.060816,
     "end_time": "2022-05-11T17:50:16.447387",
     "exception": false,
     "start_time": "2022-05-11T17:50:16.386571",
     "status": "completed"
    },
    "tags": []
   },
   "outputs": [
    {
     "data": {
      "text/plain": [
       "array(['1056', '2600', '1440', ..., '1133 - 1384', '774', '4689'],\n",
       "      dtype=object)"
      ]
     },
     "execution_count": 11,
     "metadata": {},
     "output_type": "execute_result"
    }
   ],
   "source": [
    "df3['total_sqft'].unique()"
   ]
  },
  {
   "cell_type": "markdown",
   "id": "e55bd000",
   "metadata": {
    "papermill": {
     "duration": 0.049597,
     "end_time": "2022-05-11T17:50:16.547484",
     "exception": false,
     "start_time": "2022-05-11T17:50:16.497887",
     "status": "completed"
    },
    "tags": []
   },
   "source": [
    "**Here above we can see that apart from the exact values the ranges also exist eg:-  '1133 - 1384' , and we can convert them into exact values by taking the mean**"
   ]
  },
  {
   "cell_type": "code",
   "execution_count": 12,
   "id": "d9868f81",
   "metadata": {
    "execution": {
     "iopub.execute_input": "2022-05-11T17:50:16.651410Z",
     "iopub.status.busy": "2022-05-11T17:50:16.650754Z",
     "iopub.status.idle": "2022-05-11T17:50:16.655110Z",
     "shell.execute_reply": "2022-05-11T17:50:16.654549Z"
    },
    "papermill": {
     "duration": 0.059486,
     "end_time": "2022-05-11T17:50:16.657093",
     "exception": false,
     "start_time": "2022-05-11T17:50:16.597607",
     "status": "completed"
    },
    "tags": []
   },
   "outputs": [],
   "source": [
    "# creating the is_float function to check the data in the column is float or not, using it to print non float values like ranges\n",
    "def is_float(x):\n",
    "    try:\n",
    "        float(x)\n",
    "    except:\n",
    "        return False\n",
    "    return True"
   ]
  },
  {
   "cell_type": "code",
   "execution_count": 13,
   "id": "a3d225e2",
   "metadata": {
    "execution": {
     "iopub.execute_input": "2022-05-11T17:50:16.760318Z",
     "iopub.status.busy": "2022-05-11T17:50:16.759685Z",
     "iopub.status.idle": "2022-05-11T17:50:16.784671Z",
     "shell.execute_reply": "2022-05-11T17:50:16.784061Z"
    },
    "papermill": {
     "duration": 0.078868,
     "end_time": "2022-05-11T17:50:16.786750",
     "exception": false,
     "start_time": "2022-05-11T17:50:16.707882",
     "status": "completed"
    },
    "tags": []
   },
   "outputs": [
    {
     "data": {
      "text/html": [
       "<div>\n",
       "<style scoped>\n",
       "    .dataframe tbody tr th:only-of-type {\n",
       "        vertical-align: middle;\n",
       "    }\n",
       "\n",
       "    .dataframe tbody tr th {\n",
       "        vertical-align: top;\n",
       "    }\n",
       "\n",
       "    .dataframe thead th {\n",
       "        text-align: right;\n",
       "    }\n",
       "</style>\n",
       "<table border=\"1\" class=\"dataframe\">\n",
       "  <thead>\n",
       "    <tr style=\"text-align: right;\">\n",
       "      <th></th>\n",
       "      <th>location</th>\n",
       "      <th>size</th>\n",
       "      <th>total_sqft</th>\n",
       "      <th>bath</th>\n",
       "      <th>price</th>\n",
       "      <th>bhk</th>\n",
       "    </tr>\n",
       "  </thead>\n",
       "  <tbody>\n",
       "    <tr>\n",
       "      <th>30</th>\n",
       "      <td>Yelahanka</td>\n",
       "      <td>4 BHK</td>\n",
       "      <td>2100 - 2850</td>\n",
       "      <td>4.0</td>\n",
       "      <td>186.000</td>\n",
       "      <td>4</td>\n",
       "    </tr>\n",
       "    <tr>\n",
       "      <th>122</th>\n",
       "      <td>Hebbal</td>\n",
       "      <td>4 BHK</td>\n",
       "      <td>3067 - 8156</td>\n",
       "      <td>4.0</td>\n",
       "      <td>477.000</td>\n",
       "      <td>4</td>\n",
       "    </tr>\n",
       "    <tr>\n",
       "      <th>137</th>\n",
       "      <td>8th Phase JP Nagar</td>\n",
       "      <td>2 BHK</td>\n",
       "      <td>1042 - 1105</td>\n",
       "      <td>2.0</td>\n",
       "      <td>54.005</td>\n",
       "      <td>2</td>\n",
       "    </tr>\n",
       "    <tr>\n",
       "      <th>165</th>\n",
       "      <td>Sarjapur</td>\n",
       "      <td>2 BHK</td>\n",
       "      <td>1145 - 1340</td>\n",
       "      <td>2.0</td>\n",
       "      <td>43.490</td>\n",
       "      <td>2</td>\n",
       "    </tr>\n",
       "    <tr>\n",
       "      <th>188</th>\n",
       "      <td>KR Puram</td>\n",
       "      <td>2 BHK</td>\n",
       "      <td>1015 - 1540</td>\n",
       "      <td>2.0</td>\n",
       "      <td>56.800</td>\n",
       "      <td>2</td>\n",
       "    </tr>\n",
       "    <tr>\n",
       "      <th>...</th>\n",
       "      <td>...</td>\n",
       "      <td>...</td>\n",
       "      <td>...</td>\n",
       "      <td>...</td>\n",
       "      <td>...</td>\n",
       "      <td>...</td>\n",
       "    </tr>\n",
       "    <tr>\n",
       "      <th>12975</th>\n",
       "      <td>Whitefield</td>\n",
       "      <td>2 BHK</td>\n",
       "      <td>850 - 1060</td>\n",
       "      <td>2.0</td>\n",
       "      <td>38.190</td>\n",
       "      <td>2</td>\n",
       "    </tr>\n",
       "    <tr>\n",
       "      <th>12990</th>\n",
       "      <td>Talaghattapura</td>\n",
       "      <td>3 BHK</td>\n",
       "      <td>1804 - 2273</td>\n",
       "      <td>3.0</td>\n",
       "      <td>122.000</td>\n",
       "      <td>3</td>\n",
       "    </tr>\n",
       "    <tr>\n",
       "      <th>13059</th>\n",
       "      <td>Harlur</td>\n",
       "      <td>2 BHK</td>\n",
       "      <td>1200 - 1470</td>\n",
       "      <td>2.0</td>\n",
       "      <td>72.760</td>\n",
       "      <td>2</td>\n",
       "    </tr>\n",
       "    <tr>\n",
       "      <th>13265</th>\n",
       "      <td>Hoodi</td>\n",
       "      <td>2 BHK</td>\n",
       "      <td>1133 - 1384</td>\n",
       "      <td>2.0</td>\n",
       "      <td>59.135</td>\n",
       "      <td>2</td>\n",
       "    </tr>\n",
       "    <tr>\n",
       "      <th>13299</th>\n",
       "      <td>Whitefield</td>\n",
       "      <td>4 BHK</td>\n",
       "      <td>2830 - 2882</td>\n",
       "      <td>5.0</td>\n",
       "      <td>154.500</td>\n",
       "      <td>4</td>\n",
       "    </tr>\n",
       "  </tbody>\n",
       "</table>\n",
       "<p>190 rows × 6 columns</p>\n",
       "</div>"
      ],
      "text/plain": [
       "                 location   size   total_sqft  bath    price  bhk\n",
       "30              Yelahanka  4 BHK  2100 - 2850   4.0  186.000    4\n",
       "122                Hebbal  4 BHK  3067 - 8156   4.0  477.000    4\n",
       "137    8th Phase JP Nagar  2 BHK  1042 - 1105   2.0   54.005    2\n",
       "165              Sarjapur  2 BHK  1145 - 1340   2.0   43.490    2\n",
       "188              KR Puram  2 BHK  1015 - 1540   2.0   56.800    2\n",
       "...                   ...    ...          ...   ...      ...  ...\n",
       "12975          Whitefield  2 BHK   850 - 1060   2.0   38.190    2\n",
       "12990      Talaghattapura  3 BHK  1804 - 2273   3.0  122.000    3\n",
       "13059              Harlur  2 BHK  1200 - 1470   2.0   72.760    2\n",
       "13265               Hoodi  2 BHK  1133 - 1384   2.0   59.135    2\n",
       "13299          Whitefield  4 BHK  2830 - 2882   5.0  154.500    4\n",
       "\n",
       "[190 rows x 6 columns]"
      ]
     },
     "execution_count": 13,
     "metadata": {},
     "output_type": "execute_result"
    }
   ],
   "source": [
    "df3[~df3['total_sqft'].apply(is_float)]   # prints non float data"
   ]
  },
  {
   "cell_type": "code",
   "execution_count": 14,
   "id": "a666a9f2",
   "metadata": {
    "execution": {
     "iopub.execute_input": "2022-05-11T17:50:16.893027Z",
     "iopub.status.busy": "2022-05-11T17:50:16.892665Z",
     "iopub.status.idle": "2022-05-11T17:50:16.897976Z",
     "shell.execute_reply": "2022-05-11T17:50:16.897255Z"
    },
    "papermill": {
     "duration": 0.062075,
     "end_time": "2022-05-11T17:50:16.899730",
     "exception": false,
     "start_time": "2022-05-11T17:50:16.837655",
     "status": "completed"
    },
    "tags": []
   },
   "outputs": [],
   "source": [
    "def convert_range_to_num(x):\n",
    "    tokens = x.split('-')\n",
    "    if len(tokens) == 2:\n",
    "        return (float(tokens[0]) + float(tokens[1]))/2\n",
    "    \n",
    "    try:\n",
    "        return float(x)\n",
    "    except:\n",
    "        return None"
   ]
  },
  {
   "cell_type": "code",
   "execution_count": 15,
   "id": "e636ba62",
   "metadata": {
    "execution": {
     "iopub.execute_input": "2022-05-11T17:50:17.006361Z",
     "iopub.status.busy": "2022-05-11T17:50:17.005743Z",
     "iopub.status.idle": "2022-05-11T17:50:17.010852Z",
     "shell.execute_reply": "2022-05-11T17:50:17.010255Z"
    },
    "papermill": {
     "duration": 0.060664,
     "end_time": "2022-05-11T17:50:17.012559",
     "exception": false,
     "start_time": "2022-05-11T17:50:16.951895",
     "status": "completed"
    },
    "tags": []
   },
   "outputs": [
    {
     "data": {
      "text/plain": [
       "3.25"
      ]
     },
     "execution_count": 15,
     "metadata": {},
     "output_type": "execute_result"
    }
   ],
   "source": [
    "convert_range_to_num('2 - 4.5')"
   ]
  },
  {
   "cell_type": "code",
   "execution_count": 16,
   "id": "5ba0a423",
   "metadata": {
    "execution": {
     "iopub.execute_input": "2022-05-11T17:50:17.120134Z",
     "iopub.status.busy": "2022-05-11T17:50:17.119488Z",
     "iopub.status.idle": "2022-05-11T17:50:17.139668Z",
     "shell.execute_reply": "2022-05-11T17:50:17.138946Z"
    },
    "papermill": {
     "duration": 0.075546,
     "end_time": "2022-05-11T17:50:17.142013",
     "exception": false,
     "start_time": "2022-05-11T17:50:17.066467",
     "status": "completed"
    },
    "tags": []
   },
   "outputs": [],
   "source": [
    "df4 = df3.copy()     # copy(): changes made on df4 will not reflect on df3\n",
    "df4['total_sqft'] = df4['total_sqft'].apply(lambda x : convert_range_to_num(x))\n"
   ]
  },
  {
   "cell_type": "code",
   "execution_count": 17,
   "id": "f8731f8e",
   "metadata": {
    "execution": {
     "iopub.execute_input": "2022-05-11T17:50:17.247007Z",
     "iopub.status.busy": "2022-05-11T17:50:17.246396Z",
     "iopub.status.idle": "2022-05-11T17:50:17.263845Z",
     "shell.execute_reply": "2022-05-11T17:50:17.263245Z"
    },
    "papermill": {
     "duration": 0.072754,
     "end_time": "2022-05-11T17:50:17.265804",
     "exception": false,
     "start_time": "2022-05-11T17:50:17.193050",
     "status": "completed"
    },
    "tags": []
   },
   "outputs": [
    {
     "data": {
      "text/html": [
       "<div>\n",
       "<style scoped>\n",
       "    .dataframe tbody tr th:only-of-type {\n",
       "        vertical-align: middle;\n",
       "    }\n",
       "\n",
       "    .dataframe tbody tr th {\n",
       "        vertical-align: top;\n",
       "    }\n",
       "\n",
       "    .dataframe thead th {\n",
       "        text-align: right;\n",
       "    }\n",
       "</style>\n",
       "<table border=\"1\" class=\"dataframe\">\n",
       "  <thead>\n",
       "    <tr style=\"text-align: right;\">\n",
       "      <th></th>\n",
       "      <th>location</th>\n",
       "      <th>size</th>\n",
       "      <th>total_sqft</th>\n",
       "      <th>bath</th>\n",
       "      <th>price</th>\n",
       "      <th>bhk</th>\n",
       "    </tr>\n",
       "  </thead>\n",
       "  <tbody>\n",
       "  </tbody>\n",
       "</table>\n",
       "</div>"
      ],
      "text/plain": [
       "Empty DataFrame\n",
       "Columns: [location, size, total_sqft, bath, price, bhk]\n",
       "Index: []"
      ]
     },
     "execution_count": 17,
     "metadata": {},
     "output_type": "execute_result"
    }
   ],
   "source": [
    "df4[~df4['total_sqft'].apply(is_float)] "
   ]
  },
  {
   "cell_type": "code",
   "execution_count": 18,
   "id": "56c122d0",
   "metadata": {
    "execution": {
     "iopub.execute_input": "2022-05-11T17:50:17.372985Z",
     "iopub.status.busy": "2022-05-11T17:50:17.372356Z",
     "iopub.status.idle": "2022-05-11T17:50:17.386068Z",
     "shell.execute_reply": "2022-05-11T17:50:17.385227Z"
    },
    "papermill": {
     "duration": 0.069251,
     "end_time": "2022-05-11T17:50:17.388053",
     "exception": false,
     "start_time": "2022-05-11T17:50:17.318802",
     "status": "completed"
    },
    "tags": []
   },
   "outputs": [
    {
     "data": {
      "text/html": [
       "<div>\n",
       "<style scoped>\n",
       "    .dataframe tbody tr th:only-of-type {\n",
       "        vertical-align: middle;\n",
       "    }\n",
       "\n",
       "    .dataframe tbody tr th {\n",
       "        vertical-align: top;\n",
       "    }\n",
       "\n",
       "    .dataframe thead th {\n",
       "        text-align: right;\n",
       "    }\n",
       "</style>\n",
       "<table border=\"1\" class=\"dataframe\">\n",
       "  <thead>\n",
       "    <tr style=\"text-align: right;\">\n",
       "      <th></th>\n",
       "      <th>location</th>\n",
       "      <th>size</th>\n",
       "      <th>total_sqft</th>\n",
       "      <th>bath</th>\n",
       "      <th>price</th>\n",
       "      <th>bhk</th>\n",
       "    </tr>\n",
       "  </thead>\n",
       "  <tbody>\n",
       "    <tr>\n",
       "      <th>0</th>\n",
       "      <td>Electronic City Phase II</td>\n",
       "      <td>2 BHK</td>\n",
       "      <td>1056.0</td>\n",
       "      <td>2.0</td>\n",
       "      <td>39.07</td>\n",
       "      <td>2</td>\n",
       "    </tr>\n",
       "    <tr>\n",
       "      <th>1</th>\n",
       "      <td>Chikka Tirupathi</td>\n",
       "      <td>4 Bedroom</td>\n",
       "      <td>2600.0</td>\n",
       "      <td>5.0</td>\n",
       "      <td>120.00</td>\n",
       "      <td>4</td>\n",
       "    </tr>\n",
       "    <tr>\n",
       "      <th>2</th>\n",
       "      <td>Uttarahalli</td>\n",
       "      <td>3 BHK</td>\n",
       "      <td>1440.0</td>\n",
       "      <td>2.0</td>\n",
       "      <td>62.00</td>\n",
       "      <td>3</td>\n",
       "    </tr>\n",
       "    <tr>\n",
       "      <th>3</th>\n",
       "      <td>Lingadheeranahalli</td>\n",
       "      <td>3 BHK</td>\n",
       "      <td>1521.0</td>\n",
       "      <td>3.0</td>\n",
       "      <td>95.00</td>\n",
       "      <td>3</td>\n",
       "    </tr>\n",
       "    <tr>\n",
       "      <th>4</th>\n",
       "      <td>Kothanur</td>\n",
       "      <td>2 BHK</td>\n",
       "      <td>1200.0</td>\n",
       "      <td>2.0</td>\n",
       "      <td>51.00</td>\n",
       "      <td>2</td>\n",
       "    </tr>\n",
       "  </tbody>\n",
       "</table>\n",
       "</div>"
      ],
      "text/plain": [
       "                   location       size  total_sqft  bath   price  bhk\n",
       "0  Electronic City Phase II      2 BHK      1056.0   2.0   39.07    2\n",
       "1          Chikka Tirupathi  4 Bedroom      2600.0   5.0  120.00    4\n",
       "2               Uttarahalli      3 BHK      1440.0   2.0   62.00    3\n",
       "3        Lingadheeranahalli      3 BHK      1521.0   3.0   95.00    3\n",
       "4                  Kothanur      2 BHK      1200.0   2.0   51.00    2"
      ]
     },
     "execution_count": 18,
     "metadata": {},
     "output_type": "execute_result"
    }
   ],
   "source": [
    "df4.head()"
   ]
  },
  {
   "cell_type": "markdown",
   "id": "012721d8",
   "metadata": {
    "papermill": {
     "duration": 0.051724,
     "end_time": "2022-05-11T17:50:17.491709",
     "exception": false,
     "start_time": "2022-05-11T17:50:17.439985",
     "status": "completed"
    },
    "tags": []
   },
   "source": [
    "**Adding new feature price per square feet**"
   ]
  },
  {
   "cell_type": "code",
   "execution_count": 19,
   "id": "fe0aea5a",
   "metadata": {
    "execution": {
     "iopub.execute_input": "2022-05-11T17:50:17.598003Z",
     "iopub.status.busy": "2022-05-11T17:50:17.597624Z",
     "iopub.status.idle": "2022-05-11T17:50:17.619009Z",
     "shell.execute_reply": "2022-05-11T17:50:17.618355Z"
    },
    "papermill": {
     "duration": 0.079238,
     "end_time": "2022-05-11T17:50:17.623167",
     "exception": false,
     "start_time": "2022-05-11T17:50:17.543929",
     "status": "completed"
    },
    "tags": []
   },
   "outputs": [
    {
     "data": {
      "text/html": [
       "<div>\n",
       "<style scoped>\n",
       "    .dataframe tbody tr th:only-of-type {\n",
       "        vertical-align: middle;\n",
       "    }\n",
       "\n",
       "    .dataframe tbody tr th {\n",
       "        vertical-align: top;\n",
       "    }\n",
       "\n",
       "    .dataframe thead th {\n",
       "        text-align: right;\n",
       "    }\n",
       "</style>\n",
       "<table border=\"1\" class=\"dataframe\">\n",
       "  <thead>\n",
       "    <tr style=\"text-align: right;\">\n",
       "      <th></th>\n",
       "      <th>location</th>\n",
       "      <th>size</th>\n",
       "      <th>total_sqft</th>\n",
       "      <th>bath</th>\n",
       "      <th>price</th>\n",
       "      <th>bhk</th>\n",
       "      <th>price_per_sqft</th>\n",
       "    </tr>\n",
       "  </thead>\n",
       "  <tbody>\n",
       "    <tr>\n",
       "      <th>0</th>\n",
       "      <td>Electronic City Phase II</td>\n",
       "      <td>2 BHK</td>\n",
       "      <td>1056.0</td>\n",
       "      <td>2.0</td>\n",
       "      <td>39.07</td>\n",
       "      <td>2</td>\n",
       "      <td>3699.810606</td>\n",
       "    </tr>\n",
       "    <tr>\n",
       "      <th>1</th>\n",
       "      <td>Chikka Tirupathi</td>\n",
       "      <td>4 Bedroom</td>\n",
       "      <td>2600.0</td>\n",
       "      <td>5.0</td>\n",
       "      <td>120.00</td>\n",
       "      <td>4</td>\n",
       "      <td>4615.384615</td>\n",
       "    </tr>\n",
       "    <tr>\n",
       "      <th>2</th>\n",
       "      <td>Uttarahalli</td>\n",
       "      <td>3 BHK</td>\n",
       "      <td>1440.0</td>\n",
       "      <td>2.0</td>\n",
       "      <td>62.00</td>\n",
       "      <td>3</td>\n",
       "      <td>4305.555556</td>\n",
       "    </tr>\n",
       "    <tr>\n",
       "      <th>3</th>\n",
       "      <td>Lingadheeranahalli</td>\n",
       "      <td>3 BHK</td>\n",
       "      <td>1521.0</td>\n",
       "      <td>3.0</td>\n",
       "      <td>95.00</td>\n",
       "      <td>3</td>\n",
       "      <td>6245.890861</td>\n",
       "    </tr>\n",
       "    <tr>\n",
       "      <th>4</th>\n",
       "      <td>Kothanur</td>\n",
       "      <td>2 BHK</td>\n",
       "      <td>1200.0</td>\n",
       "      <td>2.0</td>\n",
       "      <td>51.00</td>\n",
       "      <td>2</td>\n",
       "      <td>4250.000000</td>\n",
       "    </tr>\n",
       "  </tbody>\n",
       "</table>\n",
       "</div>"
      ],
      "text/plain": [
       "                   location       size  total_sqft  bath   price  bhk  \\\n",
       "0  Electronic City Phase II      2 BHK      1056.0   2.0   39.07    2   \n",
       "1          Chikka Tirupathi  4 Bedroom      2600.0   5.0  120.00    4   \n",
       "2               Uttarahalli      3 BHK      1440.0   2.0   62.00    3   \n",
       "3        Lingadheeranahalli      3 BHK      1521.0   3.0   95.00    3   \n",
       "4                  Kothanur      2 BHK      1200.0   2.0   51.00    2   \n",
       "\n",
       "   price_per_sqft  \n",
       "0     3699.810606  \n",
       "1     4615.384615  \n",
       "2     4305.555556  \n",
       "3     6245.890861  \n",
       "4     4250.000000  "
      ]
     },
     "execution_count": 19,
     "metadata": {},
     "output_type": "execute_result"
    }
   ],
   "source": [
    "df5 = df4.copy()\n",
    "df5['price_per_sqft'] = df5['price']*100000/df5['total_sqft']\n",
    "df5.head()"
   ]
  },
  {
   "cell_type": "code",
   "execution_count": 20,
   "id": "8bf48279",
   "metadata": {
    "execution": {
     "iopub.execute_input": "2022-05-11T17:50:17.734215Z",
     "iopub.status.busy": "2022-05-11T17:50:17.733111Z",
     "iopub.status.idle": "2022-05-11T17:50:17.741965Z",
     "shell.execute_reply": "2022-05-11T17:50:17.741273Z"
    },
    "papermill": {
     "duration": 0.065591,
     "end_time": "2022-05-11T17:50:17.744046",
     "exception": false,
     "start_time": "2022-05-11T17:50:17.678455",
     "status": "completed"
    },
    "tags": []
   },
   "outputs": [
    {
     "data": {
      "text/plain": [
       "1304"
      ]
     },
     "execution_count": 20,
     "metadata": {},
     "output_type": "execute_result"
    }
   ],
   "source": [
    "len(df5.location.unique())"
   ]
  },
  {
   "cell_type": "code",
   "execution_count": 21,
   "id": "29dd2be5",
   "metadata": {
    "execution": {
     "iopub.execute_input": "2022-05-11T17:50:17.854743Z",
     "iopub.status.busy": "2022-05-11T17:50:17.853793Z",
     "iopub.status.idle": "2022-05-11T17:50:17.866721Z",
     "shell.execute_reply": "2022-05-11T17:50:17.866098Z"
    },
    "papermill": {
     "duration": 0.069917,
     "end_time": "2022-05-11T17:50:17.868633",
     "exception": false,
     "start_time": "2022-05-11T17:50:17.798716",
     "status": "completed"
    },
    "tags": []
   },
   "outputs": [
    {
     "data": {
      "text/plain": [
       "1293"
      ]
     },
     "execution_count": 21,
     "metadata": {},
     "output_type": "execute_result"
    }
   ],
   "source": [
    "df5.location = df5.location.apply(lambda x : x.strip())   # removes the unnecessary space\n",
    "len(df5.location.unique())"
   ]
  },
  {
   "cell_type": "markdown",
   "id": "5f580822",
   "metadata": {
    "papermill": {
     "duration": 0.053799,
     "end_time": "2022-05-11T17:50:17.976858",
     "exception": false,
     "start_time": "2022-05-11T17:50:17.923059",
     "status": "completed"
    },
    "tags": []
   },
   "source": [
    "**Dimensionality Reduction**"
   ]
  },
  {
   "cell_type": "code",
   "execution_count": 22,
   "id": "58915ee3",
   "metadata": {
    "execution": {
     "iopub.execute_input": "2022-05-11T17:50:18.087572Z",
     "iopub.status.busy": "2022-05-11T17:50:18.086637Z",
     "iopub.status.idle": "2022-05-11T17:50:18.101515Z",
     "shell.execute_reply": "2022-05-11T17:50:18.100675Z"
    },
    "papermill": {
     "duration": 0.072513,
     "end_time": "2022-05-11T17:50:18.103475",
     "exception": false,
     "start_time": "2022-05-11T17:50:18.030962",
     "status": "completed"
    },
    "tags": []
   },
   "outputs": [
    {
     "data": {
      "text/plain": [
       "location\n",
       "Whitefield               535\n",
       "Sarjapur  Road           392\n",
       "Electronic City          304\n",
       "Kanakpura Road           266\n",
       "Thanisandra              236\n",
       "                        ... \n",
       "1 Giri Nagar               1\n",
       "Kanakapura Road,           1\n",
       "Kanakapura main  Road      1\n",
       "Karnataka Shabarimala      1\n",
       "whitefiled                 1\n",
       "Name: location, Length: 1293, dtype: int64"
      ]
     },
     "execution_count": 22,
     "metadata": {},
     "output_type": "execute_result"
    }
   ],
   "source": [
    "location_stats = df5.groupby('location')['location'].agg('count').sort_values(ascending=False)\n",
    "location_stats"
   ]
  },
  {
   "cell_type": "code",
   "execution_count": 23,
   "id": "fa555369",
   "metadata": {
    "execution": {
     "iopub.execute_input": "2022-05-11T17:50:18.214203Z",
     "iopub.status.busy": "2022-05-11T17:50:18.213551Z",
     "iopub.status.idle": "2022-05-11T17:50:18.220125Z",
     "shell.execute_reply": "2022-05-11T17:50:18.219249Z"
    },
    "papermill": {
     "duration": 0.064102,
     "end_time": "2022-05-11T17:50:18.222147",
     "exception": false,
     "start_time": "2022-05-11T17:50:18.158045",
     "status": "completed"
    },
    "tags": []
   },
   "outputs": [
    {
     "data": {
      "text/plain": [
       "1052"
      ]
     },
     "execution_count": 23,
     "metadata": {},
     "output_type": "execute_result"
    }
   ],
   "source": [
    "len(location_stats[location_stats<=10])"
   ]
  },
  {
   "cell_type": "code",
   "execution_count": 24,
   "id": "0638b88a",
   "metadata": {
    "execution": {
     "iopub.execute_input": "2022-05-11T17:50:18.334439Z",
     "iopub.status.busy": "2022-05-11T17:50:18.333827Z",
     "iopub.status.idle": "2022-05-11T17:50:18.342854Z",
     "shell.execute_reply": "2022-05-11T17:50:18.341820Z"
    },
    "papermill": {
     "duration": 0.067726,
     "end_time": "2022-05-11T17:50:18.344870",
     "exception": false,
     "start_time": "2022-05-11T17:50:18.277144",
     "status": "completed"
    },
    "tags": []
   },
   "outputs": [
    {
     "data": {
      "text/plain": [
       "location\n",
       "Basapura                 10\n",
       "1st Block Koramangala    10\n",
       "Gunjur Palya             10\n",
       "Kalkere                  10\n",
       "Sector 1 HSR Layout      10\n",
       "                         ..\n",
       "1 Giri Nagar              1\n",
       "Kanakapura Road,          1\n",
       "Kanakapura main  Road     1\n",
       "Karnataka Shabarimala     1\n",
       "whitefiled                1\n",
       "Name: location, Length: 1052, dtype: int64"
      ]
     },
     "execution_count": 24,
     "metadata": {},
     "output_type": "execute_result"
    }
   ],
   "source": [
    "location_stats_less_then_10 = location_stats[location_stats<=10]\n",
    "location_stats_less_then_10"
   ]
  },
  {
   "cell_type": "code",
   "execution_count": 25,
   "id": "a12d534c",
   "metadata": {
    "execution": {
     "iopub.execute_input": "2022-05-11T17:50:18.458525Z",
     "iopub.status.busy": "2022-05-11T17:50:18.457655Z",
     "iopub.status.idle": "2022-05-11T17:50:18.496082Z",
     "shell.execute_reply": "2022-05-11T17:50:18.495274Z"
    },
    "papermill": {
     "duration": 0.097611,
     "end_time": "2022-05-11T17:50:18.498143",
     "exception": false,
     "start_time": "2022-05-11T17:50:18.400532",
     "status": "completed"
    },
    "tags": []
   },
   "outputs": [
    {
     "data": {
      "text/html": [
       "<div>\n",
       "<style scoped>\n",
       "    .dataframe tbody tr th:only-of-type {\n",
       "        vertical-align: middle;\n",
       "    }\n",
       "\n",
       "    .dataframe tbody tr th {\n",
       "        vertical-align: top;\n",
       "    }\n",
       "\n",
       "    .dataframe thead th {\n",
       "        text-align: right;\n",
       "    }\n",
       "</style>\n",
       "<table border=\"1\" class=\"dataframe\">\n",
       "  <thead>\n",
       "    <tr style=\"text-align: right;\">\n",
       "      <th></th>\n",
       "      <th>location</th>\n",
       "      <th>size</th>\n",
       "      <th>total_sqft</th>\n",
       "      <th>bath</th>\n",
       "      <th>price</th>\n",
       "      <th>bhk</th>\n",
       "      <th>price_per_sqft</th>\n",
       "    </tr>\n",
       "  </thead>\n",
       "  <tbody>\n",
       "    <tr>\n",
       "      <th>0</th>\n",
       "      <td>Electronic City Phase II</td>\n",
       "      <td>2 BHK</td>\n",
       "      <td>1056.0</td>\n",
       "      <td>2.0</td>\n",
       "      <td>39.07</td>\n",
       "      <td>2</td>\n",
       "      <td>3699.810606</td>\n",
       "    </tr>\n",
       "    <tr>\n",
       "      <th>1</th>\n",
       "      <td>Chikka Tirupathi</td>\n",
       "      <td>4 Bedroom</td>\n",
       "      <td>2600.0</td>\n",
       "      <td>5.0</td>\n",
       "      <td>120.00</td>\n",
       "      <td>4</td>\n",
       "      <td>4615.384615</td>\n",
       "    </tr>\n",
       "    <tr>\n",
       "      <th>2</th>\n",
       "      <td>Uttarahalli</td>\n",
       "      <td>3 BHK</td>\n",
       "      <td>1440.0</td>\n",
       "      <td>2.0</td>\n",
       "      <td>62.00</td>\n",
       "      <td>3</td>\n",
       "      <td>4305.555556</td>\n",
       "    </tr>\n",
       "    <tr>\n",
       "      <th>3</th>\n",
       "      <td>Lingadheeranahalli</td>\n",
       "      <td>3 BHK</td>\n",
       "      <td>1521.0</td>\n",
       "      <td>3.0</td>\n",
       "      <td>95.00</td>\n",
       "      <td>3</td>\n",
       "      <td>6245.890861</td>\n",
       "    </tr>\n",
       "    <tr>\n",
       "      <th>4</th>\n",
       "      <td>Kothanur</td>\n",
       "      <td>2 BHK</td>\n",
       "      <td>1200.0</td>\n",
       "      <td>2.0</td>\n",
       "      <td>51.00</td>\n",
       "      <td>2</td>\n",
       "      <td>4250.000000</td>\n",
       "    </tr>\n",
       "    <tr>\n",
       "      <th>5</th>\n",
       "      <td>Whitefield</td>\n",
       "      <td>2 BHK</td>\n",
       "      <td>1170.0</td>\n",
       "      <td>2.0</td>\n",
       "      <td>38.00</td>\n",
       "      <td>2</td>\n",
       "      <td>3247.863248</td>\n",
       "    </tr>\n",
       "    <tr>\n",
       "      <th>6</th>\n",
       "      <td>Old Airport Road</td>\n",
       "      <td>4 BHK</td>\n",
       "      <td>2732.0</td>\n",
       "      <td>4.0</td>\n",
       "      <td>204.00</td>\n",
       "      <td>4</td>\n",
       "      <td>7467.057101</td>\n",
       "    </tr>\n",
       "    <tr>\n",
       "      <th>7</th>\n",
       "      <td>Rajaji Nagar</td>\n",
       "      <td>4 BHK</td>\n",
       "      <td>3300.0</td>\n",
       "      <td>4.0</td>\n",
       "      <td>600.00</td>\n",
       "      <td>4</td>\n",
       "      <td>18181.818182</td>\n",
       "    </tr>\n",
       "    <tr>\n",
       "      <th>8</th>\n",
       "      <td>Marathahalli</td>\n",
       "      <td>3 BHK</td>\n",
       "      <td>1310.0</td>\n",
       "      <td>3.0</td>\n",
       "      <td>63.25</td>\n",
       "      <td>3</td>\n",
       "      <td>4828.244275</td>\n",
       "    </tr>\n",
       "    <tr>\n",
       "      <th>9</th>\n",
       "      <td>other</td>\n",
       "      <td>6 Bedroom</td>\n",
       "      <td>1020.0</td>\n",
       "      <td>6.0</td>\n",
       "      <td>370.00</td>\n",
       "      <td>6</td>\n",
       "      <td>36274.509804</td>\n",
       "    </tr>\n",
       "  </tbody>\n",
       "</table>\n",
       "</div>"
      ],
      "text/plain": [
       "                   location       size  total_sqft  bath   price  bhk  \\\n",
       "0  Electronic City Phase II      2 BHK      1056.0   2.0   39.07    2   \n",
       "1          Chikka Tirupathi  4 Bedroom      2600.0   5.0  120.00    4   \n",
       "2               Uttarahalli      3 BHK      1440.0   2.0   62.00    3   \n",
       "3        Lingadheeranahalli      3 BHK      1521.0   3.0   95.00    3   \n",
       "4                  Kothanur      2 BHK      1200.0   2.0   51.00    2   \n",
       "5                Whitefield      2 BHK      1170.0   2.0   38.00    2   \n",
       "6          Old Airport Road      4 BHK      2732.0   4.0  204.00    4   \n",
       "7              Rajaji Nagar      4 BHK      3300.0   4.0  600.00    4   \n",
       "8              Marathahalli      3 BHK      1310.0   3.0   63.25    3   \n",
       "9                     other  6 Bedroom      1020.0   6.0  370.00    6   \n",
       "\n",
       "   price_per_sqft  \n",
       "0     3699.810606  \n",
       "1     4615.384615  \n",
       "2     4305.555556  \n",
       "3     6245.890861  \n",
       "4     4250.000000  \n",
       "5     3247.863248  \n",
       "6     7467.057101  \n",
       "7    18181.818182  \n",
       "8     4828.244275  \n",
       "9    36274.509804  "
      ]
     },
     "execution_count": 25,
     "metadata": {},
     "output_type": "execute_result"
    }
   ],
   "source": [
    "df5.location = df5.location.apply(lambda x : 'other' if x in location_stats_less_then_10 else x)\n",
    "df5.head(10)"
   ]
  },
  {
   "cell_type": "code",
   "execution_count": 26,
   "id": "f4857ccb",
   "metadata": {
    "execution": {
     "iopub.execute_input": "2022-05-11T17:50:18.611633Z",
     "iopub.status.busy": "2022-05-11T17:50:18.611048Z",
     "iopub.status.idle": "2022-05-11T17:50:18.618196Z",
     "shell.execute_reply": "2022-05-11T17:50:18.617544Z"
    },
    "papermill": {
     "duration": 0.066277,
     "end_time": "2022-05-11T17:50:18.620148",
     "exception": false,
     "start_time": "2022-05-11T17:50:18.553871",
     "status": "completed"
    },
    "tags": []
   },
   "outputs": [
    {
     "data": {
      "text/plain": [
       "242"
      ]
     },
     "execution_count": 26,
     "metadata": {},
     "output_type": "execute_result"
    }
   ],
   "source": [
    "len(df5.location.unique())"
   ]
  },
  {
   "cell_type": "markdown",
   "id": "f36e2e1f",
   "metadata": {
    "papermill": {
     "duration": 0.055736,
     "end_time": "2022-05-11T17:50:18.732038",
     "exception": false,
     "start_time": "2022-05-11T17:50:18.676302",
     "status": "completed"
    },
    "tags": []
   },
   "source": [
    "# **Outlier removal**"
   ]
  },
  {
   "cell_type": "code",
   "execution_count": 27,
   "id": "90ca06d2",
   "metadata": {
    "execution": {
     "iopub.execute_input": "2022-05-11T17:50:18.845908Z",
     "iopub.status.busy": "2022-05-11T17:50:18.845262Z",
     "iopub.status.idle": "2022-05-11T17:50:18.850600Z",
     "shell.execute_reply": "2022-05-11T17:50:18.849972Z"
    },
    "papermill": {
     "duration": 0.064633,
     "end_time": "2022-05-11T17:50:18.852560",
     "exception": false,
     "start_time": "2022-05-11T17:50:18.787927",
     "status": "completed"
    },
    "tags": []
   },
   "outputs": [
    {
     "data": {
      "text/plain": [
       "(13246, 7)"
      ]
     },
     "execution_count": 27,
     "metadata": {},
     "output_type": "execute_result"
    }
   ],
   "source": [
    "df5.shape"
   ]
  },
  {
   "cell_type": "code",
   "execution_count": 28,
   "id": "a23d8a80",
   "metadata": {
    "execution": {
     "iopub.execute_input": "2022-05-11T17:50:18.969121Z",
     "iopub.status.busy": "2022-05-11T17:50:18.968500Z",
     "iopub.status.idle": "2022-05-11T17:50:18.977578Z",
     "shell.execute_reply": "2022-05-11T17:50:18.976938Z"
    },
    "papermill": {
     "duration": 0.068895,
     "end_time": "2022-05-11T17:50:18.979536",
     "exception": false,
     "start_time": "2022-05-11T17:50:18.910641",
     "status": "completed"
    },
    "tags": []
   },
   "outputs": [
    {
     "data": {
      "text/plain": [
       "(12502, 7)"
      ]
     },
     "execution_count": 28,
     "metadata": {},
     "output_type": "execute_result"
    }
   ],
   "source": [
    "df6 = df5[~(df5.total_sqft/df5.bhk < 300)]\n",
    "df6.shape"
   ]
  },
  {
   "cell_type": "markdown",
   "id": "7c6a3f7a",
   "metadata": {
    "papermill": {
     "duration": 0.056186,
     "end_time": "2022-05-11T17:50:19.093163",
     "exception": false,
     "start_time": "2022-05-11T17:50:19.036977",
     "status": "completed"
    },
    "tags": []
   },
   "source": [
    "**Removing outliers using mean and std**"
   ]
  },
  {
   "cell_type": "code",
   "execution_count": 29,
   "id": "dc9f2ccd",
   "metadata": {
    "execution": {
     "iopub.execute_input": "2022-05-11T17:50:19.208470Z",
     "iopub.status.busy": "2022-05-11T17:50:19.207835Z",
     "iopub.status.idle": "2022-05-11T17:50:19.222127Z",
     "shell.execute_reply": "2022-05-11T17:50:19.221243Z"
    },
    "papermill": {
     "duration": 0.074531,
     "end_time": "2022-05-11T17:50:19.224067",
     "exception": false,
     "start_time": "2022-05-11T17:50:19.149536",
     "status": "completed"
    },
    "tags": []
   },
   "outputs": [
    {
     "data": {
      "text/plain": [
       "count     12456.000000\n",
       "mean       6308.502826\n",
       "std        4168.127339\n",
       "min         267.829813\n",
       "25%        4210.526316\n",
       "50%        5294.117647\n",
       "75%        6916.666667\n",
       "max      176470.588235\n",
       "Name: price_per_sqft, dtype: float64"
      ]
     },
     "execution_count": 29,
     "metadata": {},
     "output_type": "execute_result"
    }
   ],
   "source": [
    "df6.price_per_sqft.describe()"
   ]
  },
  {
   "cell_type": "code",
   "execution_count": 30,
   "id": "6a6a7c14",
   "metadata": {
    "execution": {
     "iopub.execute_input": "2022-05-11T17:50:19.341419Z",
     "iopub.status.busy": "2022-05-11T17:50:19.340839Z",
     "iopub.status.idle": "2022-05-11T17:50:19.839657Z",
     "shell.execute_reply": "2022-05-11T17:50:19.838657Z"
    },
    "papermill": {
     "duration": 0.56112,
     "end_time": "2022-05-11T17:50:19.841982",
     "exception": false,
     "start_time": "2022-05-11T17:50:19.280862",
     "status": "completed"
    },
    "tags": []
   },
   "outputs": [
    {
     "data": {
      "text/plain": [
       "(10241, 7)"
      ]
     },
     "execution_count": 30,
     "metadata": {},
     "output_type": "execute_result"
    }
   ],
   "source": [
    "def remove_pps_outliers(df):\n",
    "    df_out = pd.DataFrame()\n",
    "    for key, subdf in df.groupby('location'):\n",
    "        m = np.mean(subdf.price_per_sqft)\n",
    "        st = np.std(subdf.price_per_sqft)\n",
    "        reduced_df = subdf[(subdf.price_per_sqft>(m-st)) & (subdf.price_per_sqft<=(m+st))]\n",
    "        df_out = pd.concat([df_out,reduced_df], ignore_index = True)\n",
    "    return df_out\n",
    "        \n",
    "df7 = remove_pps_outliers(df6)\n",
    "df7.shape"
   ]
  },
  {
   "cell_type": "code",
   "execution_count": 31,
   "id": "e4dec9ea",
   "metadata": {
    "execution": {
     "iopub.execute_input": "2022-05-11T17:50:19.960631Z",
     "iopub.status.busy": "2022-05-11T17:50:19.960358Z",
     "iopub.status.idle": "2022-05-11T17:50:20.345685Z",
     "shell.execute_reply": "2022-05-11T17:50:20.344916Z"
    },
    "papermill": {
     "duration": 0.448788,
     "end_time": "2022-05-11T17:50:20.348343",
     "exception": false,
     "start_time": "2022-05-11T17:50:19.899555",
     "status": "completed"
    },
    "tags": []
   },
   "outputs": [
    {
     "data": {
      "image/png": "[encoded data removed]",
      "text/plain": [
       "<Figure size 720x504 with 1 Axes>"
      ]
     },
     "metadata": {
      "needs_background": "light"
     },
     "output_type": "display_data"
    }
   ],
   "source": [
    "def plot_scatter_plot(df,location):\n",
    "    df_bhk2 = df[(df.location == location) & (df.bhk == 2)]\n",
    "    df_bhk3 = df[(df.location == location) & (df.bhk == 3)]\n",
    "    \n",
    "    plt.rcParams[\"figure.figsize\"] = (10,7)\n",
    "    plt.scatter(df_bhk2.total_sqft,df_bhk2.price, color='red')\n",
    "    plt.scatter(df_bhk3.total_sqft,df_bhk3.price, color='blue')\n",
    "    plt.xlabel(\"Total sq feet\")\n",
    "    plt.ylabel(\"Price in lakh\")\n",
    "    \n",
    "plot_scatter_plot(df7, \"Marathahalli\")"
   ]
  },
  {
   "cell_type": "markdown",
   "id": "36d6d0df",
   "metadata": {
    "papermill": {
     "duration": 0.057583,
     "end_time": "2022-05-11T17:50:20.464424",
     "exception": false,
     "start_time": "2022-05-11T17:50:20.406841",
     "status": "completed"
    },
    "tags": []
   },
   "source": [
    "**Removing m bhk apartment whose price/sqfeet value is less than the mean of (m-1)bhk apartments**"
   ]
  },
  {
   "cell_type": "code",
   "execution_count": 32,
   "id": "6eb3bd80",
   "metadata": {
    "execution": {
     "iopub.execute_input": "2022-05-11T17:50:20.583385Z",
     "iopub.status.busy": "2022-05-11T17:50:20.582500Z",
     "iopub.status.idle": "2022-05-11T17:50:21.297145Z",
     "shell.execute_reply": "2022-05-11T17:50:21.296335Z"
    },
    "papermill": {
     "duration": 0.776575,
     "end_time": "2022-05-11T17:50:21.299139",
     "exception": false,
     "start_time": "2022-05-11T17:50:20.522564",
     "status": "completed"
    },
    "tags": []
   },
   "outputs": [
    {
     "data": {
      "text/plain": [
       "(7329, 7)"
      ]
     },
     "execution_count": 32,
     "metadata": {},
     "output_type": "execute_result"
    }
   ],
   "source": [
    "def remove_bhk_outliers(df):\n",
    "    exclude_indices = np.array([])\n",
    "    for location, location_df in df.groupby('location'):\n",
    "        bhk_stats = {}\n",
    "        for bhk, bhk_df in location_df.groupby('bhk'):\n",
    "            bhk_stats[bhk] = {\n",
    "                'mean': np.mean(bhk_df.price_per_sqft),\n",
    "                'std':  np.mean(bhk_df.price_per_sqft),\n",
    "                'count': bhk_df.shape[0]\n",
    "            }\n",
    "            \n",
    "        for bhk, bhk_df in location_df.groupby('bhk'):\n",
    "            stats = bhk_stats.get(bhk-1)            \n",
    "            if stats and stats['count']>5:\n",
    "                exclude_indices = np.append(exclude_indices, bhk_df[bhk_df.price_per_sqft<(stats['mean'])].index.values)\n",
    "                \n",
    "    return df.drop(exclude_indices,axis='index')\n",
    "\n",
    "df8 = remove_bhk_outliers(df7)\n",
    "df8.shape"
   ]
  },
  {
   "cell_type": "code",
   "execution_count": 33,
   "id": "82ed58fe",
   "metadata": {
    "execution": {
     "iopub.execute_input": "2022-05-11T17:50:21.421851Z",
     "iopub.status.busy": "2022-05-11T17:50:21.420711Z",
     "iopub.status.idle": "2022-05-11T17:50:21.647777Z",
     "shell.execute_reply": "2022-05-11T17:50:21.647192Z"
    },
    "papermill": {
     "duration": 0.290923,
     "end_time": "2022-05-11T17:50:21.650107",
     "exception": false,
     "start_time": "2022-05-11T17:50:21.359184",
     "status": "completed"
    },
    "tags": []
   },
   "outputs": [
    {
     "data": {
      "image/png": "[encoded data removed]",
      "text/plain": [
       "<Figure size 720x504 with 1 Axes>"
      ]
     },
     "metadata": {
      "needs_background": "light"
     },
     "output_type": "display_data"
    }
   ],
   "source": [
    " plot_scatter_plot(df8, \"Marathahalli\")"
   ]
  },
  {
   "cell_type": "code",
   "execution_count": 34,
   "id": "27aee815",
   "metadata": {
    "execution": {
     "iopub.execute_input": "2022-05-11T17:50:21.774650Z",
     "iopub.status.busy": "2022-05-11T17:50:21.774123Z",
     "iopub.status.idle": "2022-05-11T17:50:21.998741Z",
     "shell.execute_reply": "2022-05-11T17:50:21.998140Z"
    },
    "papermill": {
     "duration": 0.288941,
     "end_time": "2022-05-11T17:50:22.001065",
     "exception": false,
     "start_time": "2022-05-11T17:50:21.712124",
     "status": "completed"
    },
    "tags": []
   },
   "outputs": [
    {
     "data": {
      "text/plain": [
       "Text(0, 0.5, 'Count')"
      ]
     },
     "execution_count": 34,
     "metadata": {},
     "output_type": "execute_result"
    },
    {
     "data": {
      "image/png": "[encoded data removed]",
      "text/plain": [
       "<Figure size 720x504 with 1 Axes>"
      ]
     },
     "metadata": {
      "needs_background": "light"
     },
     "output_type": "display_data"
    }
   ],
   "source": [
    "plt.hist(df8.price_per_sqft, rwidth = 0.7)\n",
    "plt.xlabel(\"Price per Square feet\")\n",
    "plt.ylabel(\"Count\")"
   ]
  },
  {
   "cell_type": "markdown",
   "id": "ee0905af",
   "metadata": {
    "papermill": {
     "duration": 0.060772,
     "end_time": "2022-05-11T17:50:22.124162",
     "exception": false,
     "start_time": "2022-05-11T17:50:22.063390",
     "status": "completed"
    },
    "tags": []
   },
   "source": [
    "Here above we can analyze that our data is normally distributed as it has bell shaped curve"
   ]
  },
  {
   "cell_type": "code",
   "execution_count": 35,
   "id": "0d926a65",
   "metadata": {
    "execution": {
     "iopub.execute_input": "2022-05-11T17:50:22.248302Z",
     "iopub.status.busy": "2022-05-11T17:50:22.247903Z",
     "iopub.status.idle": "2022-05-11T17:50:22.254715Z",
     "shell.execute_reply": "2022-05-11T17:50:22.253908Z"
    },
    "papermill": {
     "duration": 0.071625,
     "end_time": "2022-05-11T17:50:22.256650",
     "exception": false,
     "start_time": "2022-05-11T17:50:22.185025",
     "status": "completed"
    },
    "tags": []
   },
   "outputs": [
    {
     "data": {
      "text/plain": [
       "array([ 4.,  3.,  2.,  5.,  8.,  1.,  6.,  7.,  9., 12., 16., 13.])"
      ]
     },
     "execution_count": 35,
     "metadata": {},
     "output_type": "execute_result"
    }
   ],
   "source": [
    "# Now lets analyze 'bath' feature of the dataset\n",
    "df8.bath.unique()"
   ]
  },
  {
   "cell_type": "code",
   "execution_count": 36,
   "id": "6f91f5e6",
   "metadata": {
    "execution": {
     "iopub.execute_input": "2022-05-11T17:50:22.380800Z",
     "iopub.status.busy": "2022-05-11T17:50:22.379554Z",
     "iopub.status.idle": "2022-05-11T17:50:22.400939Z",
     "shell.execute_reply": "2022-05-11T17:50:22.400189Z"
    },
    "papermill": {
     "duration": 0.085519,
     "end_time": "2022-05-11T17:50:22.402794",
     "exception": false,
     "start_time": "2022-05-11T17:50:22.317275",
     "status": "completed"
    },
    "tags": []
   },
   "outputs": [
    {
     "data": {
      "text/html": [
       "<div>\n",
       "<style scoped>\n",
       "    .dataframe tbody tr th:only-of-type {\n",
       "        vertical-align: middle;\n",
       "    }\n",
       "\n",
       "    .dataframe tbody tr th {\n",
       "        vertical-align: top;\n",
       "    }\n",
       "\n",
       "    .dataframe thead th {\n",
       "        text-align: right;\n",
       "    }\n",
       "</style>\n",
       "<table border=\"1\" class=\"dataframe\">\n",
       "  <thead>\n",
       "    <tr style=\"text-align: right;\">\n",
       "      <th></th>\n",
       "      <th>location</th>\n",
       "      <th>size</th>\n",
       "      <th>total_sqft</th>\n",
       "      <th>bath</th>\n",
       "      <th>price</th>\n",
       "      <th>bhk</th>\n",
       "      <th>price_per_sqft</th>\n",
       "    </tr>\n",
       "  </thead>\n",
       "  <tbody>\n",
       "    <tr>\n",
       "      <th>36</th>\n",
       "      <td>2nd Stage Nagarbhavi</td>\n",
       "      <td>6 Bedroom</td>\n",
       "      <td>3000.0</td>\n",
       "      <td>8.0</td>\n",
       "      <td>451.0</td>\n",
       "      <td>6</td>\n",
       "      <td>15033.333333</td>\n",
       "    </tr>\n",
       "    <tr>\n",
       "      <th>37</th>\n",
       "      <td>2nd Stage Nagarbhavi</td>\n",
       "      <td>6 Bedroom</td>\n",
       "      <td>2400.0</td>\n",
       "      <td>8.0</td>\n",
       "      <td>450.0</td>\n",
       "      <td>6</td>\n",
       "      <td>18750.000000</td>\n",
       "    </tr>\n",
       "    <tr>\n",
       "      <th>530</th>\n",
       "      <td>Arekere</td>\n",
       "      <td>4 BHK</td>\n",
       "      <td>2710.0</td>\n",
       "      <td>6.0</td>\n",
       "      <td>142.0</td>\n",
       "      <td>4</td>\n",
       "      <td>5239.852399</td>\n",
       "    </tr>\n",
       "    <tr>\n",
       "      <th>580</th>\n",
       "      <td>BTM 2nd Stage</td>\n",
       "      <td>3 Bedroom</td>\n",
       "      <td>1260.0</td>\n",
       "      <td>5.0</td>\n",
       "      <td>185.0</td>\n",
       "      <td>3</td>\n",
       "      <td>14682.539683</td>\n",
       "    </tr>\n",
       "    <tr>\n",
       "      <th>813</th>\n",
       "      <td>Bannerghatta</td>\n",
       "      <td>4 BHK</td>\n",
       "      <td>3012.0</td>\n",
       "      <td>6.0</td>\n",
       "      <td>250.0</td>\n",
       "      <td>4</td>\n",
       "      <td>8300.132802</td>\n",
       "    </tr>\n",
       "    <tr>\n",
       "      <th>...</th>\n",
       "      <td>...</td>\n",
       "      <td>...</td>\n",
       "      <td>...</td>\n",
       "      <td>...</td>\n",
       "      <td>...</td>\n",
       "      <td>...</td>\n",
       "      <td>...</td>\n",
       "    </tr>\n",
       "    <tr>\n",
       "      <th>9915</th>\n",
       "      <td>other</td>\n",
       "      <td>4 BHK</td>\n",
       "      <td>6652.0</td>\n",
       "      <td>6.0</td>\n",
       "      <td>510.0</td>\n",
       "      <td>4</td>\n",
       "      <td>7666.867108</td>\n",
       "    </tr>\n",
       "    <tr>\n",
       "      <th>10036</th>\n",
       "      <td>other</td>\n",
       "      <td>2 BHK</td>\n",
       "      <td>600.0</td>\n",
       "      <td>4.0</td>\n",
       "      <td>70.0</td>\n",
       "      <td>2</td>\n",
       "      <td>11666.666667</td>\n",
       "    </tr>\n",
       "    <tr>\n",
       "      <th>10089</th>\n",
       "      <td>other</td>\n",
       "      <td>3 Bedroom</td>\n",
       "      <td>5656.0</td>\n",
       "      <td>5.0</td>\n",
       "      <td>499.0</td>\n",
       "      <td>3</td>\n",
       "      <td>8822.489392</td>\n",
       "    </tr>\n",
       "    <tr>\n",
       "      <th>10202</th>\n",
       "      <td>other</td>\n",
       "      <td>4 BHK</td>\n",
       "      <td>6652.0</td>\n",
       "      <td>6.0</td>\n",
       "      <td>660.0</td>\n",
       "      <td>4</td>\n",
       "      <td>9921.828022</td>\n",
       "    </tr>\n",
       "    <tr>\n",
       "      <th>10209</th>\n",
       "      <td>other</td>\n",
       "      <td>4 Bedroom</td>\n",
       "      <td>6688.0</td>\n",
       "      <td>6.0</td>\n",
       "      <td>700.0</td>\n",
       "      <td>4</td>\n",
       "      <td>10466.507177</td>\n",
       "    </tr>\n",
       "  </tbody>\n",
       "</table>\n",
       "<p>78 rows × 7 columns</p>\n",
       "</div>"
      ],
      "text/plain": [
       "                   location       size  total_sqft  bath  price  bhk  \\\n",
       "36     2nd Stage Nagarbhavi  6 Bedroom      3000.0   8.0  451.0    6   \n",
       "37     2nd Stage Nagarbhavi  6 Bedroom      2400.0   8.0  450.0    6   \n",
       "530                 Arekere      4 BHK      2710.0   6.0  142.0    4   \n",
       "580           BTM 2nd Stage  3 Bedroom      1260.0   5.0  185.0    3   \n",
       "813            Bannerghatta      4 BHK      3012.0   6.0  250.0    4   \n",
       "...                     ...        ...         ...   ...    ...  ...   \n",
       "9915                  other      4 BHK      6652.0   6.0  510.0    4   \n",
       "10036                 other      2 BHK       600.0   4.0   70.0    2   \n",
       "10089                 other  3 Bedroom      5656.0   5.0  499.0    3   \n",
       "10202                 other      4 BHK      6652.0   6.0  660.0    4   \n",
       "10209                 other  4 Bedroom      6688.0   6.0  700.0    4   \n",
       "\n",
       "       price_per_sqft  \n",
       "36       15033.333333  \n",
       "37       18750.000000  \n",
       "530       5239.852399  \n",
       "580      14682.539683  \n",
       "813       8300.132802  \n",
       "...               ...  \n",
       "9915      7666.867108  \n",
       "10036    11666.666667  \n",
       "10089     8822.489392  \n",
       "10202     9921.828022  \n",
       "10209    10466.507177  \n",
       "\n",
       "[78 rows x 7 columns]"
      ]
     },
     "execution_count": 36,
     "metadata": {},
     "output_type": "execute_result"
    }
   ],
   "source": [
    "df8[df8.bath >= df8.bhk+2]"
   ]
  },
  {
   "cell_type": "markdown",
   "id": "ff3eb440",
   "metadata": {
    "papermill": {
     "duration": 0.061045,
     "end_time": "2022-05-11T17:50:22.525106",
     "exception": false,
     "start_time": "2022-05-11T17:50:22.464061",
     "status": "completed"
    },
    "tags": []
   },
   "source": [
    "We can see that some apartments have 2 more bathrooms than the bedrooms which is unusual"
   ]
  },
  {
   "cell_type": "code",
   "execution_count": 37,
   "id": "4ad8f646",
   "metadata": {
    "execution": {
     "iopub.execute_input": "2022-05-11T17:50:22.652335Z",
     "iopub.status.busy": "2022-05-11T17:50:22.651185Z",
     "iopub.status.idle": "2022-05-11T17:50:22.665199Z",
     "shell.execute_reply": "2022-05-11T17:50:22.663744Z"
    },
    "papermill": {
     "duration": 0.081474,
     "end_time": "2022-05-11T17:50:22.667895",
     "exception": false,
     "start_time": "2022-05-11T17:50:22.586421",
     "status": "completed"
    },
    "tags": []
   },
   "outputs": [
    {
     "data": {
      "text/plain": [
       "(7251, 7)"
      ]
     },
     "execution_count": 37,
     "metadata": {},
     "output_type": "execute_result"
    }
   ],
   "source": [
    "df9 = df8[df8.bath < df8.bhk+2]\n",
    "df9.shape"
   ]
  },
  {
   "cell_type": "markdown",
   "id": "df0daa7f",
   "metadata": {
    "papermill": {
     "duration": 0.072418,
     "end_time": "2022-05-11T17:50:22.820106",
     "exception": false,
     "start_time": "2022-05-11T17:50:22.747688",
     "status": "completed"
    },
    "tags": []
   },
   "source": [
    "**Removing unnecessary features**"
   ]
  },
  {
   "cell_type": "code",
   "execution_count": 38,
   "id": "40fdeeab",
   "metadata": {
    "execution": {
     "iopub.execute_input": "2022-05-11T17:50:22.952950Z",
     "iopub.status.busy": "2022-05-11T17:50:22.952618Z",
     "iopub.status.idle": "2022-05-11T17:50:22.966654Z",
     "shell.execute_reply": "2022-05-11T17:50:22.965783Z"
    },
    "papermill": {
     "duration": 0.082327,
     "end_time": "2022-05-11T17:50:22.968615",
     "exception": false,
     "start_time": "2022-05-11T17:50:22.886288",
     "status": "completed"
    },
    "tags": []
   },
   "outputs": [
    {
     "data": {
      "text/html": [
       "<div>\n",
       "<style scoped>\n",
       "    .dataframe tbody tr th:only-of-type {\n",
       "        vertical-align: middle;\n",
       "    }\n",
       "\n",
       "    .dataframe tbody tr th {\n",
       "        vertical-align: top;\n",
       "    }\n",
       "\n",
       "    .dataframe thead th {\n",
       "        text-align: right;\n",
       "    }\n",
       "</style>\n",
       "<table border=\"1\" class=\"dataframe\">\n",
       "  <thead>\n",
       "    <tr style=\"text-align: right;\">\n",
       "      <th></th>\n",
       "      <th>location</th>\n",
       "      <th>total_sqft</th>\n",
       "      <th>bath</th>\n",
       "      <th>price</th>\n",
       "      <th>bhk</th>\n",
       "    </tr>\n",
       "  </thead>\n",
       "  <tbody>\n",
       "    <tr>\n",
       "      <th>0</th>\n",
       "      <td>1st Block Jayanagar</td>\n",
       "      <td>2850.0</td>\n",
       "      <td>4.0</td>\n",
       "      <td>428.0</td>\n",
       "      <td>4</td>\n",
       "    </tr>\n",
       "    <tr>\n",
       "      <th>1</th>\n",
       "      <td>1st Block Jayanagar</td>\n",
       "      <td>1630.0</td>\n",
       "      <td>3.0</td>\n",
       "      <td>194.0</td>\n",
       "      <td>3</td>\n",
       "    </tr>\n",
       "    <tr>\n",
       "      <th>2</th>\n",
       "      <td>1st Block Jayanagar</td>\n",
       "      <td>1875.0</td>\n",
       "      <td>2.0</td>\n",
       "      <td>235.0</td>\n",
       "      <td>3</td>\n",
       "    </tr>\n",
       "  </tbody>\n",
       "</table>\n",
       "</div>"
      ],
      "text/plain": [
       "              location  total_sqft  bath  price  bhk\n",
       "0  1st Block Jayanagar      2850.0   4.0  428.0    4\n",
       "1  1st Block Jayanagar      1630.0   3.0  194.0    3\n",
       "2  1st Block Jayanagar      1875.0   2.0  235.0    3"
      ]
     },
     "execution_count": 38,
     "metadata": {},
     "output_type": "execute_result"
    }
   ],
   "source": [
    "df10 = df9.drop(['size','price_per_sqft'], axis='columns')\n",
    "df10.head(3)"
   ]
  }
 ],
 "metadata": {
  "kernelspec": {
   "display_name": "Python 3",
   "language": "python",
   "name": "python3"
  },
  "language_info": {
   "codemirror_mode": {
    "name": "ipython",
    "version": 3
   },
   "file_extension": ".py",
   "mimetype": "text/x-python",
   "name": "python",
   "nbconvert_exporter": "python",
   "pygments_lexer": "ipython3",
   "version": "3.7.12"
  },
  "papermill": {
   "default_parameters": {},
   "duration": 20.587974,
   "end_time": "2022-05-11T17:50:23.757196",
   "environment_variables": {},
   "exception": null,
   "input_path": "__notebook__.ipynb",
   "output_path": "__notebook__.ipynb",
   "parameters": {},
   "start_time": "2022-05-11T17:50:03.169222",
   "version": "2.3.4"
  }
 },
 "nbformat": 4,
 "nbformat_minor": 5
}
